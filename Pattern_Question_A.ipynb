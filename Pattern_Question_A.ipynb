{
 "cells": [
  {
   "cell_type": "code",
   "execution_count": 2,
   "metadata": {},
   "outputs": [],
   "source": [
    "import pandas as pd\n",
    "import numpy as np\n",
    "import geopandas as gpd \n",
    "import matplotlib \n",
    "import matplotlib.pyplot as plt\n",
    "import altair as alt\n",
    "#from shapely.geometry import Point\n",
    "#from geopandas import GeoDataFrame\n",
    "import sys\n",
    "import seaborn as sns"
   ]
  },
  {
   "cell_type": "markdown",
   "metadata": {},
   "source": [
    "## Assignment:\n",
    "\n",
    "Your turn: \n",
    "\n",
    "So far we worked on the HPD data. \n",
    "\n",
    "We will now divide into groups, when each group will look into another agency complaints: \n",
    "\n",
    "# Group 1: NYPD\n",
    "# Group 2: DOT \n",
    "# Group 3: DEP \n",
    "# Group 4: DSNY \n",
    "# Group 5: DOHMH \n",
    "\n",
    "For each groups: \n",
    "\n",
    "1. Please filter the subset of the data that has *YOUR* Agencey name\n",
    "2. Plot, summarize and group.by the data for both 2019 and 2020 \n",
    " \n",
    "Deliver:  \n",
    "- a. What are the patterns in *YOUR* agency complaints between the 2019 and 2020 data? \n",
    "- b. What are some geogrpaphical patterns you are seeing comparing both years?\n",
    "\n",
    "In class: present your main findings. For you homework: submit your jupyter notebook. In addition on your NYU classes submissions write a short summary of your findings. \n",
    "\n",
    "Due: April 27th 2020 before class."
   ]
  },
  {
   "cell_type": "markdown",
   "metadata": {},
   "source": [
    "MY CONCLUSION IS IN THE LAST CELL BELOW"
   ]
  },
  {
   "cell_type": "code",
   "execution_count": 3,
   "metadata": {},
   "outputs": [
    {
     "name": "stderr",
     "output_type": "stream",
     "text": [
      "C:\\Users\\James\\Anaconda3\\envs\\geopandas\\lib\\site-packages\\IPython\\core\\interactiveshell.py:3063: DtypeWarning: Columns (31,34) have mixed types.Specify dtype option on import or set low_memory=False.\n",
      "  interactivity=interactivity, compiler=compiler, result=result)\n",
      "C:\\Users\\James\\Anaconda3\\envs\\geopandas\\lib\\site-packages\\IPython\\core\\interactiveshell.py:3063: DtypeWarning: Columns (8,17,31,32,34,35,36,37) have mixed types.Specify dtype option on import or set low_memory=False.\n",
      "  interactivity=interactivity, compiler=compiler, result=result)\n"
     ]
    }
   ],
   "source": [
    "#load 311 data 1 for this year and one for last year: \n",
    "\n",
    "data20 = pd.read_csv('311_March_April2020.csv')\n",
    "\n",
    "#load 2019 data \n",
    "\n",
    "data19 = pd.read_csv('311_March-April2019.csv')"
   ]
  },
  {
   "cell_type": "code",
   "execution_count": 3,
   "metadata": {},
   "outputs": [],
   "source": [
    "#your code... \n",
    "dohmh_19 = data19[data19['Agency']=='DOHMH']\n",
    "dohmh_20 = data20[data20['Agency']=='DOHMH']"
   ]
  },
  {
   "cell_type": "code",
   "execution_count": 4,
   "metadata": {},
   "outputs": [],
   "source": [
    "dohmh_complaints_19 = dohmh_19.groupby(['Complaint Type']).count()\n",
    "dohmh_complaints_19 = dohmh_complaints_19.reset_index()\n",
    "dohmh_complaints_20 = dohmh_20.groupby(['Complaint Type']).count()\n",
    "dohmh_complaints_20 = dohmh_complaints_20.reset_index()\n",
    "dohmh_complaints_19['year'] = ['19'] * dohmh_complaints_19.shape[0]\n",
    "dohmh_complaints_20['year'] = ['20']* dohmh_complaints_20.shape[0]"
   ]
  },
  {
   "cell_type": "code",
   "execution_count": 5,
   "metadata": {},
   "outputs": [],
   "source": [
    "frames = [dohmh_complaints_19, dohmh_complaints_20]\n",
    "both = pd.concat(frames)"
   ]
  },
  {
   "cell_type": "code",
   "execution_count": null,
   "metadata": {},
   "outputs": [],
   "source": [
    "alt.data_transformers.enable(max_rows=300000)"
   ]
  },
  {
   "cell_type": "code",
   "execution_count": 6,
   "metadata": {},
   "outputs": [
    {
     "data": {
      "text/html": [
       "<div>\n",
       "<style scoped>\n",
       "    .dataframe tbody tr th:only-of-type {\n",
       "        vertical-align: middle;\n",
       "    }\n",
       "\n",
       "    .dataframe tbody tr th {\n",
       "        vertical-align: top;\n",
       "    }\n",
       "\n",
       "    .dataframe thead th {\n",
       "        text-align: right;\n",
       "    }\n",
       "</style>\n",
       "<table border=\"1\" class=\"dataframe\">\n",
       "  <thead>\n",
       "    <tr style=\"text-align: right;\">\n",
       "      <th></th>\n",
       "      <th>Complaint Type</th>\n",
       "      <th>Unique Key</th>\n",
       "      <th>Created Date</th>\n",
       "      <th>Closed Date</th>\n",
       "      <th>Agency</th>\n",
       "      <th>Agency Name</th>\n",
       "      <th>Descriptor</th>\n",
       "      <th>Location Type</th>\n",
       "      <th>Incident Zip</th>\n",
       "      <th>Incident Address</th>\n",
       "      <th>...</th>\n",
       "      <th>Taxi Company Borough</th>\n",
       "      <th>Taxi Pick Up Location</th>\n",
       "      <th>Bridge Highway Name</th>\n",
       "      <th>Bridge Highway Direction</th>\n",
       "      <th>Road Ramp</th>\n",
       "      <th>Bridge Highway Segment</th>\n",
       "      <th>Latitude</th>\n",
       "      <th>Longitude</th>\n",
       "      <th>Location</th>\n",
       "      <th>year</th>\n",
       "    </tr>\n",
       "  </thead>\n",
       "  <tbody>\n",
       "    <tr>\n",
       "      <th>0</th>\n",
       "      <td>Animal Facility - No Permit</td>\n",
       "      <td>12</td>\n",
       "      <td>12</td>\n",
       "      <td>0</td>\n",
       "      <td>12</td>\n",
       "      <td>12</td>\n",
       "      <td>0</td>\n",
       "      <td>12</td>\n",
       "      <td>12</td>\n",
       "      <td>10</td>\n",
       "      <td>...</td>\n",
       "      <td>0</td>\n",
       "      <td>0</td>\n",
       "      <td>0</td>\n",
       "      <td>0</td>\n",
       "      <td>0</td>\n",
       "      <td>0</td>\n",
       "      <td>10</td>\n",
       "      <td>10</td>\n",
       "      <td>10</td>\n",
       "      <td>19</td>\n",
       "    </tr>\n",
       "    <tr>\n",
       "      <th>1</th>\n",
       "      <td>Asbestos</td>\n",
       "      <td>42</td>\n",
       "      <td>42</td>\n",
       "      <td>42</td>\n",
       "      <td>42</td>\n",
       "      <td>42</td>\n",
       "      <td>0</td>\n",
       "      <td>42</td>\n",
       "      <td>42</td>\n",
       "      <td>42</td>\n",
       "      <td>...</td>\n",
       "      <td>0</td>\n",
       "      <td>0</td>\n",
       "      <td>0</td>\n",
       "      <td>0</td>\n",
       "      <td>0</td>\n",
       "      <td>0</td>\n",
       "      <td>42</td>\n",
       "      <td>42</td>\n",
       "      <td>42</td>\n",
       "      <td>19</td>\n",
       "    </tr>\n",
       "    <tr>\n",
       "      <th>2</th>\n",
       "      <td>Beach/Pool/Sauna Complaint</td>\n",
       "      <td>19</td>\n",
       "      <td>19</td>\n",
       "      <td>19</td>\n",
       "      <td>19</td>\n",
       "      <td>19</td>\n",
       "      <td>19</td>\n",
       "      <td>19</td>\n",
       "      <td>19</td>\n",
       "      <td>19</td>\n",
       "      <td>...</td>\n",
       "      <td>0</td>\n",
       "      <td>0</td>\n",
       "      <td>0</td>\n",
       "      <td>0</td>\n",
       "      <td>0</td>\n",
       "      <td>0</td>\n",
       "      <td>19</td>\n",
       "      <td>19</td>\n",
       "      <td>19</td>\n",
       "      <td>19</td>\n",
       "    </tr>\n",
       "  </tbody>\n",
       "</table>\n",
       "<p>3 rows × 42 columns</p>\n",
       "</div>"
      ],
      "text/plain": [
       "                Complaint Type  Unique Key  Created Date  Closed Date  Agency  \\\n",
       "0  Animal Facility - No Permit          12            12            0      12   \n",
       "1                     Asbestos          42            42           42      42   \n",
       "2   Beach/Pool/Sauna Complaint          19            19           19      19   \n",
       "\n",
       "   Agency Name  Descriptor  Location Type  Incident Zip  Incident Address  \\\n",
       "0           12           0             12            12                10   \n",
       "1           42           0             42            42                42   \n",
       "2           19          19             19            19                19   \n",
       "\n",
       "   ...  Taxi Company Borough  Taxi Pick Up Location  Bridge Highway Name  \\\n",
       "0  ...                     0                      0                    0   \n",
       "1  ...                     0                      0                    0   \n",
       "2  ...                     0                      0                    0   \n",
       "\n",
       "   Bridge Highway Direction  Road Ramp  Bridge Highway Segment  Latitude  \\\n",
       "0                         0          0                       0        10   \n",
       "1                         0          0                       0        42   \n",
       "2                         0          0                       0        19   \n",
       "\n",
       "   Longitude  Location  year  \n",
       "0         10        10    19  \n",
       "1         42        42    19  \n",
       "2         19        19    19  \n",
       "\n",
       "[3 rows x 42 columns]"
      ]
     },
     "execution_count": 6,
     "metadata": {},
     "output_type": "execute_result"
    }
   ],
   "source": [
    "both.head(3)"
   ]
  },
  {
   "cell_type": "code",
   "execution_count": 9,
   "metadata": {},
   "outputs": [
    {
     "data": {
      "text/html": [
       "\n",
       "<div id=\"altair-viz-d45c419de58e44bc8283026a65947369\"></div>\n",
       "<script type=\"text/javascript\">\n",
       "  (function(spec, embedOpt){\n",
       "    const outputDiv = document.getElementById(\"altair-viz-d45c419de58e44bc8283026a65947369\");\n",
       "    const paths = {\n",
       "      \"vega\": \"https://cdn.jsdelivr.net/npm//vega@5?noext\",\n",
       "      \"vega-lib\": \"https://cdn.jsdelivr.net/npm//vega-lib?noext\",\n",
       "      \"vega-lite\": \"https://cdn.jsdelivr.net/npm//vega-lite@4.0.2?noext\",\n",
       "      \"vega-embed\": \"https://cdn.jsdelivr.net/npm//vega-embed@6?noext\",\n",
       "    };\n",
       "\n",
       "    function loadScript(lib) {\n",
       "      return new Promise(function(resolve, reject) {\n",
       "        var s = document.createElement('script');\n",
       "        s.src = paths[lib];\n",
       "        s.async = true;\n",
       "        s.onload = () => resolve(paths[lib]);\n",
       "        s.onerror = () => reject(`Error loading script: ${paths[lib]}`);\n",
       "        document.getElementsByTagName(\"head\")[0].appendChild(s);\n",
       "      });\n",
       "    }\n",
       "\n",
       "    function showError(err) {\n",
       "      outputDiv.innerHTML = `<div class=\"error\" style=\"color:red;\">${err}</div>`;\n",
       "      throw err;\n",
       "    }\n",
       "\n",
       "    function displayChart(vegaEmbed) {\n",
       "      vegaEmbed(outputDiv, spec, embedOpt)\n",
       "        .catch(err => showError(`Javascript Error: ${err.message}<br>This usually means there's a typo in your chart specification. See the javascript console for the full traceback.`));\n",
       "    }\n",
       "\n",
       "    if(typeof define === \"function\" && define.amd) {\n",
       "      requirejs.config({paths});\n",
       "      require([\"vega-embed\"], displayChart, err => showError(`Error loading script: ${err.message}`));\n",
       "    } else if (typeof vegaEmbed === \"function\") {\n",
       "      displayChart(vegaEmbed);\n",
       "    } else {\n",
       "      loadScript(\"vega\")\n",
       "        .then(() => loadScript(\"vega-lite\"))\n",
       "        .then(() => loadScript(\"vega-embed\"))\n",
       "        .catch(showError)\n",
       "        .then(() => displayChart(vegaEmbed));\n",
       "    }\n",
       "  })({\"config\": {\"view\": {\"continuousWidth\": 400, \"continuousHeight\": 300, \"stroke\": null}, \"facet\": {\"spacing\": 0}}, \"data\": {\"name\": \"data-fc7639b9f944d2e70a968cee555823e7\"}, \"mark\": \"bar\", \"encoding\": {\"color\": {\"type\": \"nominal\", \"field\": \"year\"}, \"x\": {\"type\": \"quantitative\", \"field\": \"Unique Key\"}, \"y\": {\"type\": \"nominal\", \"axis\": {\"labels\": false}, \"field\": \"year\"}}, \"$schema\": \"https://vega.github.io/schema/vega-lite/v4.0.2.json\", \"datasets\": {\"data-fc7639b9f944d2e70a968cee555823e7\": [{\"Complaint Type\": \"Animal Facility - No Permit\", \"Unique Key\": 12, \"year\": \"19\"}, {\"Complaint Type\": \"Asbestos\", \"Unique Key\": 42, \"year\": \"19\"}, {\"Complaint Type\": \"Beach/Pool/Sauna Complaint\", \"Unique Key\": 19, \"year\": \"19\"}, {\"Complaint Type\": \"Calorie Labeling\", \"Unique Key\": 1, \"year\": \"19\"}, {\"Complaint Type\": \"Cooling Tower\", \"Unique Key\": 1, \"year\": \"19\"}, {\"Complaint Type\": \"Day Care\", \"Unique Key\": 71, \"year\": \"19\"}, {\"Complaint Type\": \"Drinking Water\", \"Unique Key\": 10, \"year\": \"19\"}, {\"Complaint Type\": \"Food Establishment\", \"Unique Key\": 966, \"year\": \"19\"}, {\"Complaint Type\": \"Food Poisoning\", \"Unique Key\": 271, \"year\": \"19\"}, {\"Complaint Type\": \"Harboring Bees/Wasps\", \"Unique Key\": 5, \"year\": \"19\"}, {\"Complaint Type\": \"Illegal Animal Kept as Pet\", \"Unique Key\": 24, \"year\": \"19\"}, {\"Complaint Type\": \"Illegal Animal Sold\", \"Unique Key\": 6, \"year\": \"19\"}, {\"Complaint Type\": \"Indoor Air Quality\", \"Unique Key\": 440, \"year\": \"19\"}, {\"Complaint Type\": \"Indoor Sewage\", \"Unique Key\": 110, \"year\": \"19\"}, {\"Complaint Type\": \"Lifeguard\", \"Unique Key\": 1, \"year\": \"19\"}, {\"Complaint Type\": \"Mobile Food Vendor\", \"Unique Key\": 217, \"year\": \"19\"}, {\"Complaint Type\": \"Mold\", \"Unique Key\": 30, \"year\": \"19\"}, {\"Complaint Type\": \"Mosquitoes\", \"Unique Key\": 2, \"year\": \"19\"}, {\"Complaint Type\": \"Non-Residential Heat\", \"Unique Key\": 31, \"year\": \"19\"}, {\"Complaint Type\": \"Pet Shop\", \"Unique Key\": 15, \"year\": \"19\"}, {\"Complaint Type\": \"Poison Ivy\", \"Unique Key\": 1, \"year\": \"19\"}, {\"Complaint Type\": \"Radioactive Material\", \"Unique Key\": 5, \"year\": \"19\"}, {\"Complaint Type\": \"Rodent\", \"Unique Key\": 2830, \"year\": \"19\"}, {\"Complaint Type\": \"Smoking\", \"Unique Key\": 218, \"year\": \"19\"}, {\"Complaint Type\": \"Standing Water\", \"Unique Key\": 60, \"year\": \"19\"}, {\"Complaint Type\": \"Tattooing\", \"Unique Key\": 6, \"year\": \"19\"}, {\"Complaint Type\": \"Unleashed Dog\", \"Unique Key\": 55, \"year\": \"19\"}, {\"Complaint Type\": \"Unlicensed Dog\", \"Unique Key\": 9, \"year\": \"19\"}, {\"Complaint Type\": \"Unsanitary Animal Facility\", \"Unique Key\": 6, \"year\": \"19\"}, {\"Complaint Type\": \"Unsanitary Animal Pvt Property\", \"Unique Key\": 218, \"year\": \"19\"}, {\"Complaint Type\": \"Unsanitary Pigeon Condition\", \"Unique Key\": 50, \"year\": \"19\"}, {\"Complaint Type\": \"Window Guard\", \"Unique Key\": 2, \"year\": \"19\"}, {\"Complaint Type\": \"Animal Facility - No Permit\", \"Unique Key\": 4, \"year\": \"20\"}, {\"Complaint Type\": \"Asbestos\", \"Unique Key\": 15, \"year\": \"20\"}, {\"Complaint Type\": \"Beach/Pool/Sauna Complaint\", \"Unique Key\": 9, \"year\": \"20\"}, {\"Complaint Type\": \"Bottled Water\", \"Unique Key\": 2, \"year\": \"20\"}, {\"Complaint Type\": \"Construction Lead Dust\", \"Unique Key\": 73, \"year\": \"20\"}, {\"Complaint Type\": \"Day Care\", \"Unique Key\": 44, \"year\": \"20\"}, {\"Complaint Type\": \"Drinking Water\", \"Unique Key\": 9, \"year\": \"20\"}, {\"Complaint Type\": \"Food Establishment\", \"Unique Key\": 886, \"year\": \"20\"}, {\"Complaint Type\": \"Food Poisoning\", \"Unique Key\": 94, \"year\": \"20\"}, {\"Complaint Type\": \"Harboring Bees/Wasps\", \"Unique Key\": 2, \"year\": \"20\"}, {\"Complaint Type\": \"Illegal Animal Kept as Pet\", \"Unique Key\": 14, \"year\": \"20\"}, {\"Complaint Type\": \"Illegal Animal Sold\", \"Unique Key\": 1, \"year\": \"20\"}, {\"Complaint Type\": \"Indoor Air Quality\", \"Unique Key\": 236, \"year\": \"20\"}, {\"Complaint Type\": \"Indoor Sewage\", \"Unique Key\": 50, \"year\": \"20\"}, {\"Complaint Type\": \"Mobile Food Vendor\", \"Unique Key\": 85, \"year\": \"20\"}, {\"Complaint Type\": \"Mold\", \"Unique Key\": 17, \"year\": \"20\"}, {\"Complaint Type\": \"Non-Residential Heat\", \"Unique Key\": 22, \"year\": \"20\"}, {\"Complaint Type\": \"Peeling Paint\", \"Unique Key\": 1, \"year\": \"20\"}, {\"Complaint Type\": \"Pet Shop\", \"Unique Key\": 5, \"year\": \"20\"}, {\"Complaint Type\": \"Radioactive Material\", \"Unique Key\": 1, \"year\": \"20\"}, {\"Complaint Type\": \"Rodent\", \"Unique Key\": 1312, \"year\": \"20\"}, {\"Complaint Type\": \"Smoking\", \"Unique Key\": 243, \"year\": \"20\"}, {\"Complaint Type\": \"Tattooing\", \"Unique Key\": 2, \"year\": \"20\"}, {\"Complaint Type\": \"Unleashed Dog\", \"Unique Key\": 89, \"year\": \"20\"}, {\"Complaint Type\": \"Unsanitary Animal Facility\", \"Unique Key\": 3, \"year\": \"20\"}, {\"Complaint Type\": \"Unsanitary Animal Pvt Property\", \"Unique Key\": 114, \"year\": \"20\"}, {\"Complaint Type\": \"Unsanitary Pigeon Condition\", \"Unique Key\": 37, \"year\": \"20\"}, {\"Complaint Type\": \"Window Guard\", \"Unique Key\": 1, \"year\": \"20\"}, {\"Complaint Type\": \"X-Ray Machine/Equipment\", \"Unique Key\": 1, \"year\": \"20\"}]}}, {\"mode\": \"vega-lite\"});\n",
       "</script>"
      ],
      "text/plain": [
       "alt.Chart(...)"
      ]
     },
     "execution_count": 9,
     "metadata": {},
     "output_type": "execute_result"
    }
   ],
   "source": [
    "#chart = alt.Chart(both[['Complaint Type', 'Unique Key', 'year']]).mark_bar().encode( x=alt.X('year'), y='year', row='Complaint Type', color='year:N')\n",
    "#chart = alt.Chart(both[['Complaint Type', 'Unique Key', 'year']]).mark_bar().encode( x=alt.X('year'), y=alt.Y('Complaint Type',y='year', row='Complaint Type', sort = 'y'), color='year:N')\n",
    "#chart = alt.Chart(both[['Complaint Type', 'Unique Key', 'year']]).mark_bar().encode( x=alt.X('year'), y='year:N', row='Complaint Type:N', color='year:N')\n",
    "chart = alt.Chart(both[['Complaint Type', 'Unique Key', 'year']]).mark_bar().encode( x=alt.X('Unique Key'), y='year:N', row='Complaint Type:N', color='year:N').configure_facet(spacing=0).configure_view(stroke=None)\n",
    "chart"
   ]
  },
  {
   "cell_type": "code",
   "execution_count": 38,
   "metadata": {},
   "outputs": [],
   "source": [
    "#chart = alt.Chart(both[['Complaint Type', 'Unique Key', 'year']]).mark_bar().encode( x=alt.X('Unique Key'), y=alt.Y('year:N', axis=alt.Axis(labels=False)),row='Complaint Type:N', color='year:N',row= alt.Row('year', title=\"\",header=alt.Header(labelAngle=90))).configure_facet(spacing=0).configure_view(stroke=None)\n",
    "#chart"
   ]
  },
  {
   "cell_type": "code",
   "execution_count": 37,
   "metadata": {},
   "outputs": [],
   "source": [
    "#chart = alt.Chart(both[['Complaint Type', 'Unique Key', 'year']]).mark_bar().encode( x=alt.X('Unique Key'), y=alt.Y('year:N', axis=alt.Axis(labels=False)),row='Complaint Type:N', color='year:N',row= alt.Row('year', title=\"\",header=alt.Header(labelAngle=90))).configure_facet(spacing=0).configure_view(stroke=None)\n",
    "#chart "
   ]
  },
  {
   "cell_type": "markdown",
   "metadata": {},
   "source": [
    "# BAR CHART OF DOHMH COMPLAINT 2019 AND 2020"
   ]
  },
  {
   "cell_type": "code",
   "execution_count": 139,
   "metadata": {},
   "outputs": [
    {
     "data": {
      "text/html": [
       "\n",
       "<div id=\"altair-viz-3722df01584544d6a9049c23518c7555\"></div>\n",
       "<script type=\"text/javascript\">\n",
       "  (function(spec, embedOpt){\n",
       "    const outputDiv = document.getElementById(\"altair-viz-3722df01584544d6a9049c23518c7555\");\n",
       "    const paths = {\n",
       "      \"vega\": \"https://cdn.jsdelivr.net/npm//vega@5?noext\",\n",
       "      \"vega-lib\": \"https://cdn.jsdelivr.net/npm//vega-lib?noext\",\n",
       "      \"vega-lite\": \"https://cdn.jsdelivr.net/npm//vega-lite@4.0.2?noext\",\n",
       "      \"vega-embed\": \"https://cdn.jsdelivr.net/npm//vega-embed@6?noext\",\n",
       "    };\n",
       "\n",
       "    function loadScript(lib) {\n",
       "      return new Promise(function(resolve, reject) {\n",
       "        var s = document.createElement('script');\n",
       "        s.src = paths[lib];\n",
       "        s.async = true;\n",
       "        s.onload = () => resolve(paths[lib]);\n",
       "        s.onerror = () => reject(`Error loading script: ${paths[lib]}`);\n",
       "        document.getElementsByTagName(\"head\")[0].appendChild(s);\n",
       "      });\n",
       "    }\n",
       "\n",
       "    function showError(err) {\n",
       "      outputDiv.innerHTML = `<div class=\"error\" style=\"color:red;\">${err}</div>`;\n",
       "      throw err;\n",
       "    }\n",
       "\n",
       "    function displayChart(vegaEmbed) {\n",
       "      vegaEmbed(outputDiv, spec, embedOpt)\n",
       "        .catch(err => showError(`Javascript Error: ${err.message}<br>This usually means there's a typo in your chart specification. See the javascript console for the full traceback.`));\n",
       "    }\n",
       "\n",
       "    if(typeof define === \"function\" && define.amd) {\n",
       "      requirejs.config({paths});\n",
       "      require([\"vega-embed\"], displayChart, err => showError(`Error loading script: ${err.message}`));\n",
       "    } else if (typeof vegaEmbed === \"function\") {\n",
       "      displayChart(vegaEmbed);\n",
       "    } else {\n",
       "      loadScript(\"vega\")\n",
       "        .then(() => loadScript(\"vega-lite\"))\n",
       "        .then(() => loadScript(\"vega-embed\"))\n",
       "        .catch(showError)\n",
       "        .then(() => displayChart(vegaEmbed));\n",
       "    }\n",
       "  })({\"config\": {\"view\": {\"continuousWidth\": 400, \"continuousHeight\": 300, \"stroke\": null}, \"facet\": {\"spacing\": 1}}, \"data\": {\"name\": \"data-fc7639b9f944d2e70a968cee555823e7\"}, \"mark\": \"bar\", \"encoding\": {\"color\": {\"type\": \"nominal\", \"field\": \"year\"}, \"row\": {\"type\": \"nominal\", \"field\": \"Complaint Type\", \"header\": {\"labelAlign\": \"left\", \"labelAngle\": 0}, \"title\": \"\"}, \"x\": {\"type\": \"quantitative\", \"field\": \"Unique Key\"}, \"y\": {\"type\": \"nominal\", \"field\": \"year\"}}, \"$schema\": \"https://vega.github.io/schema/vega-lite/v4.0.2.json\", \"datasets\": {\"data-fc7639b9f944d2e70a968cee555823e7\": [{\"Complaint Type\": \"Animal Facility - No Permit\", \"Unique Key\": 12, \"year\": \"19\"}, {\"Complaint Type\": \"Asbestos\", \"Unique Key\": 42, \"year\": \"19\"}, {\"Complaint Type\": \"Beach/Pool/Sauna Complaint\", \"Unique Key\": 19, \"year\": \"19\"}, {\"Complaint Type\": \"Calorie Labeling\", \"Unique Key\": 1, \"year\": \"19\"}, {\"Complaint Type\": \"Cooling Tower\", \"Unique Key\": 1, \"year\": \"19\"}, {\"Complaint Type\": \"Day Care\", \"Unique Key\": 71, \"year\": \"19\"}, {\"Complaint Type\": \"Drinking Water\", \"Unique Key\": 10, \"year\": \"19\"}, {\"Complaint Type\": \"Food Establishment\", \"Unique Key\": 966, \"year\": \"19\"}, {\"Complaint Type\": \"Food Poisoning\", \"Unique Key\": 271, \"year\": \"19\"}, {\"Complaint Type\": \"Harboring Bees/Wasps\", \"Unique Key\": 5, \"year\": \"19\"}, {\"Complaint Type\": \"Illegal Animal Kept as Pet\", \"Unique Key\": 24, \"year\": \"19\"}, {\"Complaint Type\": \"Illegal Animal Sold\", \"Unique Key\": 6, \"year\": \"19\"}, {\"Complaint Type\": \"Indoor Air Quality\", \"Unique Key\": 440, \"year\": \"19\"}, {\"Complaint Type\": \"Indoor Sewage\", \"Unique Key\": 110, \"year\": \"19\"}, {\"Complaint Type\": \"Lifeguard\", \"Unique Key\": 1, \"year\": \"19\"}, {\"Complaint Type\": \"Mobile Food Vendor\", \"Unique Key\": 217, \"year\": \"19\"}, {\"Complaint Type\": \"Mold\", \"Unique Key\": 30, \"year\": \"19\"}, {\"Complaint Type\": \"Mosquitoes\", \"Unique Key\": 2, \"year\": \"19\"}, {\"Complaint Type\": \"Non-Residential Heat\", \"Unique Key\": 31, \"year\": \"19\"}, {\"Complaint Type\": \"Pet Shop\", \"Unique Key\": 15, \"year\": \"19\"}, {\"Complaint Type\": \"Poison Ivy\", \"Unique Key\": 1, \"year\": \"19\"}, {\"Complaint Type\": \"Radioactive Material\", \"Unique Key\": 5, \"year\": \"19\"}, {\"Complaint Type\": \"Rodent\", \"Unique Key\": 2830, \"year\": \"19\"}, {\"Complaint Type\": \"Smoking\", \"Unique Key\": 218, \"year\": \"19\"}, {\"Complaint Type\": \"Standing Water\", \"Unique Key\": 60, \"year\": \"19\"}, {\"Complaint Type\": \"Tattooing\", \"Unique Key\": 6, \"year\": \"19\"}, {\"Complaint Type\": \"Unleashed Dog\", \"Unique Key\": 55, \"year\": \"19\"}, {\"Complaint Type\": \"Unlicensed Dog\", \"Unique Key\": 9, \"year\": \"19\"}, {\"Complaint Type\": \"Unsanitary Animal Facility\", \"Unique Key\": 6, \"year\": \"19\"}, {\"Complaint Type\": \"Unsanitary Animal Pvt Property\", \"Unique Key\": 218, \"year\": \"19\"}, {\"Complaint Type\": \"Unsanitary Pigeon Condition\", \"Unique Key\": 50, \"year\": \"19\"}, {\"Complaint Type\": \"Window Guard\", \"Unique Key\": 2, \"year\": \"19\"}, {\"Complaint Type\": \"Animal Facility - No Permit\", \"Unique Key\": 4, \"year\": \"20\"}, {\"Complaint Type\": \"Asbestos\", \"Unique Key\": 15, \"year\": \"20\"}, {\"Complaint Type\": \"Beach/Pool/Sauna Complaint\", \"Unique Key\": 9, \"year\": \"20\"}, {\"Complaint Type\": \"Bottled Water\", \"Unique Key\": 2, \"year\": \"20\"}, {\"Complaint Type\": \"Construction Lead Dust\", \"Unique Key\": 73, \"year\": \"20\"}, {\"Complaint Type\": \"Day Care\", \"Unique Key\": 44, \"year\": \"20\"}, {\"Complaint Type\": \"Drinking Water\", \"Unique Key\": 9, \"year\": \"20\"}, {\"Complaint Type\": \"Food Establishment\", \"Unique Key\": 886, \"year\": \"20\"}, {\"Complaint Type\": \"Food Poisoning\", \"Unique Key\": 94, \"year\": \"20\"}, {\"Complaint Type\": \"Harboring Bees/Wasps\", \"Unique Key\": 2, \"year\": \"20\"}, {\"Complaint Type\": \"Illegal Animal Kept as Pet\", \"Unique Key\": 14, \"year\": \"20\"}, {\"Complaint Type\": \"Illegal Animal Sold\", \"Unique Key\": 1, \"year\": \"20\"}, {\"Complaint Type\": \"Indoor Air Quality\", \"Unique Key\": 236, \"year\": \"20\"}, {\"Complaint Type\": \"Indoor Sewage\", \"Unique Key\": 50, \"year\": \"20\"}, {\"Complaint Type\": \"Mobile Food Vendor\", \"Unique Key\": 85, \"year\": \"20\"}, {\"Complaint Type\": \"Mold\", \"Unique Key\": 17, \"year\": \"20\"}, {\"Complaint Type\": \"Non-Residential Heat\", \"Unique Key\": 22, \"year\": \"20\"}, {\"Complaint Type\": \"Peeling Paint\", \"Unique Key\": 1, \"year\": \"20\"}, {\"Complaint Type\": \"Pet Shop\", \"Unique Key\": 5, \"year\": \"20\"}, {\"Complaint Type\": \"Radioactive Material\", \"Unique Key\": 1, \"year\": \"20\"}, {\"Complaint Type\": \"Rodent\", \"Unique Key\": 1312, \"year\": \"20\"}, {\"Complaint Type\": \"Smoking\", \"Unique Key\": 243, \"year\": \"20\"}, {\"Complaint Type\": \"Tattooing\", \"Unique Key\": 2, \"year\": \"20\"}, {\"Complaint Type\": \"Unleashed Dog\", \"Unique Key\": 89, \"year\": \"20\"}, {\"Complaint Type\": \"Unsanitary Animal Facility\", \"Unique Key\": 3, \"year\": \"20\"}, {\"Complaint Type\": \"Unsanitary Animal Pvt Property\", \"Unique Key\": 114, \"year\": \"20\"}, {\"Complaint Type\": \"Unsanitary Pigeon Condition\", \"Unique Key\": 37, \"year\": \"20\"}, {\"Complaint Type\": \"Window Guard\", \"Unique Key\": 1, \"year\": \"20\"}, {\"Complaint Type\": \"X-Ray Machine/Equipment\", \"Unique Key\": 1, \"year\": \"20\"}]}}, {\"mode\": \"vega-lite\"});\n",
       "</script>"
      ],
      "text/plain": [
       "alt.Chart(...)"
      ]
     },
     "execution_count": 139,
     "metadata": {},
     "output_type": "execute_result"
    }
   ],
   "source": [
    "alt.data_transformers.enable(max_rows=300000)\n",
    "chart = alt.Chart(both[['Complaint Type', 'Unique Key', 'year']]).mark_bar().encode(\n",
    "    x=alt.X('Unique Key'),\n",
    "    y=alt.Y('year:N',),\n",
    "    color='year:N',\n",
    "    row= alt.Row('Complaint Type:N', title=\"\",header=alt.Header(labelAngle=0,labelAlign='left'))\n",
    ").configure_facet(spacing=1).configure_view(stroke=None)\n",
    "chart"
   ]
  },
  {
   "cell_type": "code",
   "execution_count": 39,
   "metadata": {},
   "outputs": [
    {
     "data": {
      "text/html": [
       "\n",
       "<div id=\"altair-viz-c2c715f375034d439d5a087fa9c3558a\"></div>\n",
       "<script type=\"text/javascript\">\n",
       "  (function(spec, embedOpt){\n",
       "    const outputDiv = document.getElementById(\"altair-viz-c2c715f375034d439d5a087fa9c3558a\");\n",
       "    const paths = {\n",
       "      \"vega\": \"https://cdn.jsdelivr.net/npm//vega@5?noext\",\n",
       "      \"vega-lib\": \"https://cdn.jsdelivr.net/npm//vega-lib?noext\",\n",
       "      \"vega-lite\": \"https://cdn.jsdelivr.net/npm//vega-lite@4.0.2?noext\",\n",
       "      \"vega-embed\": \"https://cdn.jsdelivr.net/npm//vega-embed@6?noext\",\n",
       "    };\n",
       "\n",
       "    function loadScript(lib) {\n",
       "      return new Promise(function(resolve, reject) {\n",
       "        var s = document.createElement('script');\n",
       "        s.src = paths[lib];\n",
       "        s.async = true;\n",
       "        s.onload = () => resolve(paths[lib]);\n",
       "        s.onerror = () => reject(`Error loading script: ${paths[lib]}`);\n",
       "        document.getElementsByTagName(\"head\")[0].appendChild(s);\n",
       "      });\n",
       "    }\n",
       "\n",
       "    function showError(err) {\n",
       "      outputDiv.innerHTML = `<div class=\"error\" style=\"color:red;\">${err}</div>`;\n",
       "      throw err;\n",
       "    }\n",
       "\n",
       "    function displayChart(vegaEmbed) {\n",
       "      vegaEmbed(outputDiv, spec, embedOpt)\n",
       "        .catch(err => showError(`Javascript Error: ${err.message}<br>This usually means there's a typo in your chart specification. See the javascript console for the full traceback.`));\n",
       "    }\n",
       "\n",
       "    if(typeof define === \"function\" && define.amd) {\n",
       "      requirejs.config({paths});\n",
       "      require([\"vega-embed\"], displayChart, err => showError(`Error loading script: ${err.message}`));\n",
       "    } else if (typeof vegaEmbed === \"function\") {\n",
       "      displayChart(vegaEmbed);\n",
       "    } else {\n",
       "      loadScript(\"vega\")\n",
       "        .then(() => loadScript(\"vega-lite\"))\n",
       "        .then(() => loadScript(\"vega-embed\"))\n",
       "        .catch(showError)\n",
       "        .then(() => displayChart(vegaEmbed));\n",
       "    }\n",
       "  })({\"config\": {\"view\": {\"continuousWidth\": 400, \"continuousHeight\": 300}}, \"data\": {\"name\": \"data-fc7639b9f944d2e70a968cee555823e7\"}, \"mark\": \"bar\", \"encoding\": {\"color\": {\"type\": \"nominal\", \"field\": \"year\"}, \"column\": {\"type\": \"nominal\", \"field\": \"year\"}, \"x\": {\"type\": \"quantitative\", \"field\": \"Unique Key\"}, \"y\": {\"type\": \"nominal\", \"field\": \"Complaint Type\"}}, \"$schema\": \"https://vega.github.io/schema/vega-lite/v4.0.2.json\", \"datasets\": {\"data-fc7639b9f944d2e70a968cee555823e7\": [{\"Complaint Type\": \"Animal Facility - No Permit\", \"Unique Key\": 12, \"year\": \"19\"}, {\"Complaint Type\": \"Asbestos\", \"Unique Key\": 42, \"year\": \"19\"}, {\"Complaint Type\": \"Beach/Pool/Sauna Complaint\", \"Unique Key\": 19, \"year\": \"19\"}, {\"Complaint Type\": \"Calorie Labeling\", \"Unique Key\": 1, \"year\": \"19\"}, {\"Complaint Type\": \"Cooling Tower\", \"Unique Key\": 1, \"year\": \"19\"}, {\"Complaint Type\": \"Day Care\", \"Unique Key\": 71, \"year\": \"19\"}, {\"Complaint Type\": \"Drinking Water\", \"Unique Key\": 10, \"year\": \"19\"}, {\"Complaint Type\": \"Food Establishment\", \"Unique Key\": 966, \"year\": \"19\"}, {\"Complaint Type\": \"Food Poisoning\", \"Unique Key\": 271, \"year\": \"19\"}, {\"Complaint Type\": \"Harboring Bees/Wasps\", \"Unique Key\": 5, \"year\": \"19\"}, {\"Complaint Type\": \"Illegal Animal Kept as Pet\", \"Unique Key\": 24, \"year\": \"19\"}, {\"Complaint Type\": \"Illegal Animal Sold\", \"Unique Key\": 6, \"year\": \"19\"}, {\"Complaint Type\": \"Indoor Air Quality\", \"Unique Key\": 440, \"year\": \"19\"}, {\"Complaint Type\": \"Indoor Sewage\", \"Unique Key\": 110, \"year\": \"19\"}, {\"Complaint Type\": \"Lifeguard\", \"Unique Key\": 1, \"year\": \"19\"}, {\"Complaint Type\": \"Mobile Food Vendor\", \"Unique Key\": 217, \"year\": \"19\"}, {\"Complaint Type\": \"Mold\", \"Unique Key\": 30, \"year\": \"19\"}, {\"Complaint Type\": \"Mosquitoes\", \"Unique Key\": 2, \"year\": \"19\"}, {\"Complaint Type\": \"Non-Residential Heat\", \"Unique Key\": 31, \"year\": \"19\"}, {\"Complaint Type\": \"Pet Shop\", \"Unique Key\": 15, \"year\": \"19\"}, {\"Complaint Type\": \"Poison Ivy\", \"Unique Key\": 1, \"year\": \"19\"}, {\"Complaint Type\": \"Radioactive Material\", \"Unique Key\": 5, \"year\": \"19\"}, {\"Complaint Type\": \"Rodent\", \"Unique Key\": 2830, \"year\": \"19\"}, {\"Complaint Type\": \"Smoking\", \"Unique Key\": 218, \"year\": \"19\"}, {\"Complaint Type\": \"Standing Water\", \"Unique Key\": 60, \"year\": \"19\"}, {\"Complaint Type\": \"Tattooing\", \"Unique Key\": 6, \"year\": \"19\"}, {\"Complaint Type\": \"Unleashed Dog\", \"Unique Key\": 55, \"year\": \"19\"}, {\"Complaint Type\": \"Unlicensed Dog\", \"Unique Key\": 9, \"year\": \"19\"}, {\"Complaint Type\": \"Unsanitary Animal Facility\", \"Unique Key\": 6, \"year\": \"19\"}, {\"Complaint Type\": \"Unsanitary Animal Pvt Property\", \"Unique Key\": 218, \"year\": \"19\"}, {\"Complaint Type\": \"Unsanitary Pigeon Condition\", \"Unique Key\": 50, \"year\": \"19\"}, {\"Complaint Type\": \"Window Guard\", \"Unique Key\": 2, \"year\": \"19\"}, {\"Complaint Type\": \"Animal Facility - No Permit\", \"Unique Key\": 4, \"year\": \"20\"}, {\"Complaint Type\": \"Asbestos\", \"Unique Key\": 15, \"year\": \"20\"}, {\"Complaint Type\": \"Beach/Pool/Sauna Complaint\", \"Unique Key\": 9, \"year\": \"20\"}, {\"Complaint Type\": \"Bottled Water\", \"Unique Key\": 2, \"year\": \"20\"}, {\"Complaint Type\": \"Construction Lead Dust\", \"Unique Key\": 73, \"year\": \"20\"}, {\"Complaint Type\": \"Day Care\", \"Unique Key\": 44, \"year\": \"20\"}, {\"Complaint Type\": \"Drinking Water\", \"Unique Key\": 9, \"year\": \"20\"}, {\"Complaint Type\": \"Food Establishment\", \"Unique Key\": 886, \"year\": \"20\"}, {\"Complaint Type\": \"Food Poisoning\", \"Unique Key\": 94, \"year\": \"20\"}, {\"Complaint Type\": \"Harboring Bees/Wasps\", \"Unique Key\": 2, \"year\": \"20\"}, {\"Complaint Type\": \"Illegal Animal Kept as Pet\", \"Unique Key\": 14, \"year\": \"20\"}, {\"Complaint Type\": \"Illegal Animal Sold\", \"Unique Key\": 1, \"year\": \"20\"}, {\"Complaint Type\": \"Indoor Air Quality\", \"Unique Key\": 236, \"year\": \"20\"}, {\"Complaint Type\": \"Indoor Sewage\", \"Unique Key\": 50, \"year\": \"20\"}, {\"Complaint Type\": \"Mobile Food Vendor\", \"Unique Key\": 85, \"year\": \"20\"}, {\"Complaint Type\": \"Mold\", \"Unique Key\": 17, \"year\": \"20\"}, {\"Complaint Type\": \"Non-Residential Heat\", \"Unique Key\": 22, \"year\": \"20\"}, {\"Complaint Type\": \"Peeling Paint\", \"Unique Key\": 1, \"year\": \"20\"}, {\"Complaint Type\": \"Pet Shop\", \"Unique Key\": 5, \"year\": \"20\"}, {\"Complaint Type\": \"Radioactive Material\", \"Unique Key\": 1, \"year\": \"20\"}, {\"Complaint Type\": \"Rodent\", \"Unique Key\": 1312, \"year\": \"20\"}, {\"Complaint Type\": \"Smoking\", \"Unique Key\": 243, \"year\": \"20\"}, {\"Complaint Type\": \"Tattooing\", \"Unique Key\": 2, \"year\": \"20\"}, {\"Complaint Type\": \"Unleashed Dog\", \"Unique Key\": 89, \"year\": \"20\"}, {\"Complaint Type\": \"Unsanitary Animal Facility\", \"Unique Key\": 3, \"year\": \"20\"}, {\"Complaint Type\": \"Unsanitary Animal Pvt Property\", \"Unique Key\": 114, \"year\": \"20\"}, {\"Complaint Type\": \"Unsanitary Pigeon Condition\", \"Unique Key\": 37, \"year\": \"20\"}, {\"Complaint Type\": \"Window Guard\", \"Unique Key\": 1, \"year\": \"20\"}, {\"Complaint Type\": \"X-Ray Machine/Equipment\", \"Unique Key\": 1, \"year\": \"20\"}]}}, {\"mode\": \"vega-lite\"});\n",
       "</script>"
      ],
      "text/plain": [
       "alt.Chart(...)"
      ]
     },
     "metadata": {},
     "output_type": "display_data"
    }
   ],
   "source": [
    "chart2 = alt.Chart(both[['Complaint Type', 'Unique Key', 'year']]).mark_bar().encode(\n",
    "   column='year:N',\n",
    "   x=alt.X('Unique Key'),\n",
    "   y=alt.Y('Complaint Type'),\n",
    "   color='year:N'\n",
    ")#.configure_facet_cell(strokeWidth=0.0)\n",
    "chart2.display() # will show the plot"
   ]
  },
  {
   "cell_type": "markdown",
   "metadata": {},
   "source": [
    "# LINE CHART OF DOHMH COMPLAINT 2019 AND 2020"
   ]
  },
  {
   "cell_type": "code",
   "execution_count": 4,
   "metadata": {},
   "outputs": [],
   "source": [
    "dohmh_19 = data19[data19['Agency']=='DOHMH']\n",
    "dohmh_20 = data20[data20['Agency']=='DOHMH']"
   ]
  },
  {
   "cell_type": "code",
   "execution_count": 5,
   "metadata": {},
   "outputs": [],
   "source": [
    "dohmh_complaints_19 = dohmh_19.groupby(['Complaint Type']).count()\n",
    "dohmh_complaints_19 = dohmh_complaints_19.reset_index()\n",
    "dohmh_complaints_20 = dohmh_20.groupby(['Complaint Type']).count()\n",
    "dohmh_complaints_20 = dohmh_complaints_20.reset_index()"
   ]
  },
  {
   "cell_type": "code",
   "execution_count": 6,
   "metadata": {},
   "outputs": [
    {
     "data": {
      "text/html": [
       "<div>\n",
       "<style scoped>\n",
       "    .dataframe tbody tr th:only-of-type {\n",
       "        vertical-align: middle;\n",
       "    }\n",
       "\n",
       "    .dataframe tbody tr th {\n",
       "        vertical-align: top;\n",
       "    }\n",
       "\n",
       "    .dataframe thead th {\n",
       "        text-align: right;\n",
       "    }\n",
       "</style>\n",
       "<table border=\"1\" class=\"dataframe\">\n",
       "  <thead>\n",
       "    <tr style=\"text-align: right;\">\n",
       "      <th></th>\n",
       "      <th>Complaint Type</th>\n",
       "      <th>Unique Key</th>\n",
       "    </tr>\n",
       "  </thead>\n",
       "  <tbody>\n",
       "    <tr>\n",
       "      <th>0</th>\n",
       "      <td>Animal Facility - No Permit</td>\n",
       "      <td>4</td>\n",
       "    </tr>\n",
       "    <tr>\n",
       "      <th>1</th>\n",
       "      <td>Asbestos</td>\n",
       "      <td>15</td>\n",
       "    </tr>\n",
       "    <tr>\n",
       "      <th>2</th>\n",
       "      <td>Beach/Pool/Sauna Complaint</td>\n",
       "      <td>9</td>\n",
       "    </tr>\n",
       "    <tr>\n",
       "      <th>3</th>\n",
       "      <td>Bottled Water</td>\n",
       "      <td>2</td>\n",
       "    </tr>\n",
       "  </tbody>\n",
       "</table>\n",
       "</div>"
      ],
      "text/plain": [
       "                Complaint Type  Unique Key\n",
       "0  Animal Facility - No Permit           4\n",
       "1                     Asbestos          15\n",
       "2   Beach/Pool/Sauna Complaint           9\n",
       "3                Bottled Water           2"
      ]
     },
     "execution_count": 6,
     "metadata": {},
     "output_type": "execute_result"
    }
   ],
   "source": [
    "test_19 = pd.DataFrame(dohmh_complaints_19[['Complaint Type','Unique Key']])\n",
    "test_20 = pd.DataFrame(dohmh_complaints_20[['Complaint Type','Unique Key']])\n",
    "test_20.head(4)"
   ]
  },
  {
   "cell_type": "code",
   "execution_count": 15,
   "metadata": {},
   "outputs": [
    {
     "data": {
      "text/html": [
       "\n",
       "<div id=\"altair-viz-577080500f414959ad535deb27c29241\"></div>\n",
       "<script type=\"text/javascript\">\n",
       "  (function(spec, embedOpt){\n",
       "    let outputDiv = document.currentScript.previousElementSibling;\n",
       "    if (outputDiv.id !== \"altair-viz-577080500f414959ad535deb27c29241\") {\n",
       "      outputDiv = document.getElementById(\"altair-viz-577080500f414959ad535deb27c29241\");\n",
       "    }\n",
       "    const paths = {\n",
       "      \"vega\": \"https://cdn.jsdelivr.net/npm//vega@5?noext\",\n",
       "      \"vega-lib\": \"https://cdn.jsdelivr.net/npm//vega-lib?noext\",\n",
       "      \"vega-lite\": \"https://cdn.jsdelivr.net/npm//vega-lite@4.8.1?noext\",\n",
       "      \"vega-embed\": \"https://cdn.jsdelivr.net/npm//vega-embed@6?noext\",\n",
       "    };\n",
       "\n",
       "    function loadScript(lib) {\n",
       "      return new Promise(function(resolve, reject) {\n",
       "        var s = document.createElement('script');\n",
       "        s.src = paths[lib];\n",
       "        s.async = true;\n",
       "        s.onload = () => resolve(paths[lib]);\n",
       "        s.onerror = () => reject(`Error loading script: ${paths[lib]}`);\n",
       "        document.getElementsByTagName(\"head\")[0].appendChild(s);\n",
       "      });\n",
       "    }\n",
       "\n",
       "    function showError(err) {\n",
       "      outputDiv.innerHTML = `<div class=\"error\" style=\"color:red;\">${err}</div>`;\n",
       "      throw err;\n",
       "    }\n",
       "\n",
       "    function displayChart(vegaEmbed) {\n",
       "      vegaEmbed(outputDiv, spec, embedOpt)\n",
       "        .catch(err => showError(`Javascript Error: ${err.message}<br>This usually means there's a typo in your chart specification. See the javascript console for the full traceback.`));\n",
       "    }\n",
       "\n",
       "    if(typeof define === \"function\" && define.amd) {\n",
       "      requirejs.config({paths});\n",
       "      require([\"vega-embed\"], displayChart, err => showError(`Error loading script: ${err.message}`));\n",
       "    } else if (typeof vegaEmbed === \"function\") {\n",
       "      displayChart(vegaEmbed);\n",
       "    } else {\n",
       "      loadScript(\"vega\")\n",
       "        .then(() => loadScript(\"vega-lite\"))\n",
       "        .then(() => loadScript(\"vega-embed\"))\n",
       "        .catch(showError)\n",
       "        .then(() => displayChart(vegaEmbed));\n",
       "    }\n",
       "  })({\"config\": {\"view\": {\"continuousWidth\": 400, \"continuousHeight\": 300}}, \"layer\": [{\"data\": {\"name\": \"data-8c1e69ebcdbe25fe238cd6d8c93045ca\"}, \"mark\": \"line\", \"encoding\": {\"color\": {\"value\": \"red\"}, \"x\": {\"type\": \"nominal\", \"field\": \"Complaint Type\"}, \"y\": {\"type\": \"quantitative\", \"field\": \"Unique Key\"}}}, {\"data\": {\"name\": \"data-1c29be4a9e674a3ea582a6afef0a6f5f\"}, \"mark\": \"line\", \"encoding\": {\"color\": {\"value\": \"gray\"}, \"x\": {\"type\": \"nominal\", \"field\": \"Complaint Type\"}, \"y\": {\"type\": \"quantitative\", \"field\": \"Unique Key\"}}}], \"title\": \"2019(red) vs 2020(gray) DOHMH COMPLAINT\", \"$schema\": \"https://vega.github.io/schema/vega-lite/v4.8.1.json\", \"datasets\": {\"data-8c1e69ebcdbe25fe238cd6d8c93045ca\": [{\"Complaint Type\": \"Animal Facility - No Permit\", \"Unique Key\": 12}, {\"Complaint Type\": \"Asbestos\", \"Unique Key\": 42}, {\"Complaint Type\": \"Beach/Pool/Sauna Complaint\", \"Unique Key\": 19}, {\"Complaint Type\": \"Calorie Labeling\", \"Unique Key\": 1}, {\"Complaint Type\": \"Cooling Tower\", \"Unique Key\": 1}, {\"Complaint Type\": \"Day Care\", \"Unique Key\": 71}, {\"Complaint Type\": \"Drinking Water\", \"Unique Key\": 10}, {\"Complaint Type\": \"Food Establishment\", \"Unique Key\": 966}, {\"Complaint Type\": \"Food Poisoning\", \"Unique Key\": 271}, {\"Complaint Type\": \"Harboring Bees/Wasps\", \"Unique Key\": 5}, {\"Complaint Type\": \"Illegal Animal Kept as Pet\", \"Unique Key\": 24}, {\"Complaint Type\": \"Illegal Animal Sold\", \"Unique Key\": 6}, {\"Complaint Type\": \"Indoor Air Quality\", \"Unique Key\": 440}, {\"Complaint Type\": \"Indoor Sewage\", \"Unique Key\": 110}, {\"Complaint Type\": \"Lifeguard\", \"Unique Key\": 1}, {\"Complaint Type\": \"Mobile Food Vendor\", \"Unique Key\": 217}, {\"Complaint Type\": \"Mold\", \"Unique Key\": 30}, {\"Complaint Type\": \"Mosquitoes\", \"Unique Key\": 2}, {\"Complaint Type\": \"Non-Residential Heat\", \"Unique Key\": 31}, {\"Complaint Type\": \"Pet Shop\", \"Unique Key\": 15}, {\"Complaint Type\": \"Poison Ivy\", \"Unique Key\": 1}, {\"Complaint Type\": \"Radioactive Material\", \"Unique Key\": 5}, {\"Complaint Type\": \"Rodent\", \"Unique Key\": 2830}, {\"Complaint Type\": \"Smoking\", \"Unique Key\": 218}, {\"Complaint Type\": \"Standing Water\", \"Unique Key\": 60}, {\"Complaint Type\": \"Tattooing\", \"Unique Key\": 6}, {\"Complaint Type\": \"Unleashed Dog\", \"Unique Key\": 55}, {\"Complaint Type\": \"Unlicensed Dog\", \"Unique Key\": 9}, {\"Complaint Type\": \"Unsanitary Animal Facility\", \"Unique Key\": 6}, {\"Complaint Type\": \"Unsanitary Animal Pvt Property\", \"Unique Key\": 218}, {\"Complaint Type\": \"Unsanitary Pigeon Condition\", \"Unique Key\": 50}, {\"Complaint Type\": \"Window Guard\", \"Unique Key\": 2}], \"data-1c29be4a9e674a3ea582a6afef0a6f5f\": [{\"Complaint Type\": \"Animal Facility - No Permit\", \"Unique Key\": 4}, {\"Complaint Type\": \"Asbestos\", \"Unique Key\": 15}, {\"Complaint Type\": \"Beach/Pool/Sauna Complaint\", \"Unique Key\": 9}, {\"Complaint Type\": \"Bottled Water\", \"Unique Key\": 2}, {\"Complaint Type\": \"Construction Lead Dust\", \"Unique Key\": 73}, {\"Complaint Type\": \"Day Care\", \"Unique Key\": 44}, {\"Complaint Type\": \"Drinking Water\", \"Unique Key\": 9}, {\"Complaint Type\": \"Food Establishment\", \"Unique Key\": 886}, {\"Complaint Type\": \"Food Poisoning\", \"Unique Key\": 94}, {\"Complaint Type\": \"Harboring Bees/Wasps\", \"Unique Key\": 2}, {\"Complaint Type\": \"Illegal Animal Kept as Pet\", \"Unique Key\": 14}, {\"Complaint Type\": \"Illegal Animal Sold\", \"Unique Key\": 1}, {\"Complaint Type\": \"Indoor Air Quality\", \"Unique Key\": 236}, {\"Complaint Type\": \"Indoor Sewage\", \"Unique Key\": 50}, {\"Complaint Type\": \"Mobile Food Vendor\", \"Unique Key\": 85}, {\"Complaint Type\": \"Mold\", \"Unique Key\": 17}, {\"Complaint Type\": \"Non-Residential Heat\", \"Unique Key\": 22}, {\"Complaint Type\": \"Peeling Paint\", \"Unique Key\": 1}, {\"Complaint Type\": \"Pet Shop\", \"Unique Key\": 5}, {\"Complaint Type\": \"Radioactive Material\", \"Unique Key\": 1}, {\"Complaint Type\": \"Rodent\", \"Unique Key\": 1312}, {\"Complaint Type\": \"Smoking\", \"Unique Key\": 243}, {\"Complaint Type\": \"Tattooing\", \"Unique Key\": 2}, {\"Complaint Type\": \"Unleashed Dog\", \"Unique Key\": 89}, {\"Complaint Type\": \"Unsanitary Animal Facility\", \"Unique Key\": 3}, {\"Complaint Type\": \"Unsanitary Animal Pvt Property\", \"Unique Key\": 114}, {\"Complaint Type\": \"Unsanitary Pigeon Condition\", \"Unique Key\": 37}, {\"Complaint Type\": \"Window Guard\", \"Unique Key\": 1}, {\"Complaint Type\": \"X-Ray Machine/Equipment\", \"Unique Key\": 1}]}}, {\"mode\": \"vega-lite\"});\n",
       "</script>"
      ],
      "text/plain": [
       "alt.LayerChart(...)"
      ]
     },
     "execution_count": 15,
     "metadata": {},
     "output_type": "execute_result"
    }
   ],
   "source": [
    "chart3 = alt.Chart(test_19).mark_line().encode(x='Complaint Type', y='Unique Key',color=alt.value('red'))\n",
    "chart4 = alt.Chart(test_20).mark_line().encode(x='Complaint Type', y='Unique Key', color=alt.value('gray'))\n",
    "\n",
    "(chart3 + chart4).properties(title=\"2019(red) vs 2020(gray) DOHMH COMPLAINT\")"
   ]
  },
  {
   "cell_type": "markdown",
   "metadata": {},
   "source": [
    "Based of my observation, I noticed that 2020 complaints have been realatively down from 2019. That can be due to the fact\n",
    "that New York has a STAY-HOME order in effect. For example, Rodent complaints have doubled since 2019. "
   ]
  },
  {
   "cell_type": "code",
   "execution_count": null,
   "metadata": {},
   "outputs": [],
   "source": []
  }
 ],
 "metadata": {
  "kernelspec": {
   "display_name": "Python [conda env:geopandas] *",
   "language": "python",
   "name": "conda-env-geopandas-py"
  },
  "language_info": {
   "codemirror_mode": {
    "name": "ipython",
    "version": 3
   },
   "file_extension": ".py",
   "mimetype": "text/x-python",
   "name": "python",
   "nbconvert_exporter": "python",
   "pygments_lexer": "ipython3",
   "version": "3.7.7"
  }
 },
 "nbformat": 4,
 "nbformat_minor": 4
}
