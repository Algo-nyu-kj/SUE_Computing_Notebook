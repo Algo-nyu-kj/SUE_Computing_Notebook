{
 "cells": [
  {
   "cell_type": "code",
   "execution_count": 122,
   "metadata": {},
   "outputs": [],
   "source": [
    "import pandas as pd\n",
    "import numpy as np\n",
    "import geopandas as gpd \n",
    "import matplotlib \n",
    "import matplotlib.pyplot as plt\n",
    "import altair as alt\n",
    "#from shapely.geometry import Point\n",
    "#from geopandas import GeoDataFrame\n",
    "import sys\n",
    "import seaborn as sns\n",
    "import geoplot as gplt\n",
    "import geoplot.crs as gcrs\n",
    "#from IPython.display import display_html \n",
    "from geopy.distance import geodesic\n",
    "from haversine import haversine"
   ]
  },
  {
   "cell_type": "markdown",
   "metadata": {},
   "source": [
    "# RETAIL FOOD DATA"
   ]
  },
  {
   "cell_type": "code",
   "execution_count": 175,
   "metadata": {},
   "outputs": [],
   "source": [
    "# RETAIL FOOD DATA FROM 311 data\n",
    "retail_data = pd.read_csv('Retail_Food_Stores.csv')"
   ]
  },
  {
   "cell_type": "code",
   "execution_count": 186,
   "metadata": {},
   "outputs": [],
   "source": [
    "new_retail = retail_data[(retail_data['County'] == 'Bronx') | (retail_data['County'] == 'Kings') | (retail_data['County'] == 'Queens') | (retail_data['County']=='New York') |(retail_data['County']=='Richmond') ]"
   ]
  },
  {
   "cell_type": "code",
   "execution_count": 192,
   "metadata": {},
   "outputs": [],
   "source": [
    "#new_retail.to_csv('Test_Retail_Food.csv')\n",
    "clean_retail_data = pd.read_csv('Test_Retail_Food.csv')"
   ]
  },
  {
   "cell_type": "code",
   "execution_count": 193,
   "metadata": {},
   "outputs": [],
   "source": [
    "filtered_df = clean_retail_data[clean_retail_data['Latitude'].notnull()] # Filtered out 2932 out of the orginal data set"
   ]
  },
  {
   "cell_type": "code",
   "execution_count": 199,
   "metadata": {},
   "outputs": [
    {
     "data": {
      "text/plain": [
       "['JAC   ',\n",
       " 'A     ',\n",
       " 'JACD  ',\n",
       " 'JACDK ',\n",
       " 'JAD   ',\n",
       " 'JABCHK',\n",
       " 'JACHK ',\n",
       " 'JABC  ',\n",
       " 'JAZ   ',\n",
       " 'JABCK ',\n",
       " 'JACK  ',\n",
       " 'JACDHK',\n",
       " 'JABH  ',\n",
       " 'JACH  ',\n",
       " 'JACDE ',\n",
       " 'JABCH ',\n",
       " 'JABCDH',\n",
       " 'JABK  ',\n",
       " 'JABHK ',\n",
       " 'JABCD ',\n",
       " 'JACG  ',\n",
       " 'JACDH ',\n",
       " 'JADHK ',\n",
       " 'JKA   ',\n",
       " 'JADK  ',\n",
       " 'JAB   ',\n",
       " 'JAHK  ',\n",
       " 'JABCDK',\n",
       " 'JACZ  ',\n",
       " 'JAK   ',\n",
       " 'JADO  ',\n",
       " 'JDA   ']"
      ]
     },
     "execution_count": 199,
     "metadata": {},
     "output_type": "execute_result"
    }
   ],
   "source": [
    "list(filtered_df['E'].unique())"
   ]
  },
  {
   "cell_type": "code",
   "execution_count": 198,
   "metadata": {},
   "outputs": [
    {
     "data": {
      "text/plain": [
       "2932"
      ]
     },
     "execution_count": 198,
     "metadata": {},
     "output_type": "execute_result"
    }
   ],
   "source": [
    "len(new_retail) - len(filtered_df)"
   ]
  },
  {
   "cell_type": "markdown",
   "metadata": {},
   "source": [
    "# FARMERS MARKET DATA"
   ]
  },
  {
   "cell_type": "code",
   "execution_count": 268,
   "metadata": {},
   "outputs": [],
   "source": [
    "#load farmers 311 data\n",
    "\n",
    "df = pd.read_csv('DOHMH_Farmers_Markets.csv')\n"
   ]
  },
  {
   "cell_type": "code",
   "execution_count": 169,
   "metadata": {},
   "outputs": [
    {
     "data": {
      "text/plain": [
       "Index(['Borough', 'Market Name', 'Street Address', 'Latitude', 'Longitude',\n",
       "       'Days of Operation', 'Hours of Operations', 'Season Dates', 'Title',\n",
       "       'Accepts EBT', 'Open Year-Round', 'Stellar Cooking Demonstrations',\n",
       "       'Food Activities for Kids', 'Location Point'],\n",
       "      dtype='object')"
      ]
     },
     "execution_count": 169,
     "metadata": {},
     "output_type": "execute_result"
    }
   ],
   "source": [
    "df.columns"
   ]
  },
  {
   "cell_type": "code",
   "execution_count": 174,
   "metadata": {},
   "outputs": [
    {
     "data": {
      "text/html": [
       "<div>\n",
       "<style scoped>\n",
       "    .dataframe tbody tr th:only-of-type {\n",
       "        vertical-align: middle;\n",
       "    }\n",
       "\n",
       "    .dataframe tbody tr th {\n",
       "        vertical-align: top;\n",
       "    }\n",
       "\n",
       "    .dataframe thead th {\n",
       "        text-align: right;\n",
       "    }\n",
       "</style>\n",
       "<table border=\"1\" class=\"dataframe\">\n",
       "  <thead>\n",
       "    <tr style=\"text-align: right;\">\n",
       "      <th></th>\n",
       "      <th>Borough</th>\n",
       "      <th>Open Year-Round</th>\n",
       "      <th>Sum</th>\n",
       "    </tr>\n",
       "  </thead>\n",
       "  <tbody>\n",
       "    <tr>\n",
       "      <th>0</th>\n",
       "      <td>Bronx</td>\n",
       "      <td>No</td>\n",
       "      <td>27</td>\n",
       "    </tr>\n",
       "    <tr>\n",
       "      <th>1</th>\n",
       "      <td>Bronx</td>\n",
       "      <td>Yes</td>\n",
       "      <td>1</td>\n",
       "    </tr>\n",
       "    <tr>\n",
       "      <th>2</th>\n",
       "      <td>Brooklyn</td>\n",
       "      <td>No</td>\n",
       "      <td>36</td>\n",
       "    </tr>\n",
       "    <tr>\n",
       "      <th>3</th>\n",
       "      <td>Brooklyn</td>\n",
       "      <td>Yes</td>\n",
       "      <td>8</td>\n",
       "    </tr>\n",
       "    <tr>\n",
       "      <th>4</th>\n",
       "      <td>Manhattan</td>\n",
       "      <td>No</td>\n",
       "      <td>25</td>\n",
       "    </tr>\n",
       "    <tr>\n",
       "      <th>5</th>\n",
       "      <td>Manhattan</td>\n",
       "      <td>Yes</td>\n",
       "      <td>16</td>\n",
       "    </tr>\n",
       "    <tr>\n",
       "      <th>6</th>\n",
       "      <td>Queens</td>\n",
       "      <td>No</td>\n",
       "      <td>19</td>\n",
       "    </tr>\n",
       "    <tr>\n",
       "      <th>7</th>\n",
       "      <td>Queens</td>\n",
       "      <td>Yes</td>\n",
       "      <td>3</td>\n",
       "    </tr>\n",
       "    <tr>\n",
       "      <th>8</th>\n",
       "      <td>Staten Island</td>\n",
       "      <td>No</td>\n",
       "      <td>2</td>\n",
       "    </tr>\n",
       "    <tr>\n",
       "      <th>9</th>\n",
       "      <td>Staten Island</td>\n",
       "      <td>Yes</td>\n",
       "      <td>2</td>\n",
       "    </tr>\n",
       "  </tbody>\n",
       "</table>\n",
       "</div>"
      ],
      "text/plain": [
       "         Borough Open Year-Round  Sum\n",
       "0          Bronx              No   27\n",
       "1          Bronx             Yes    1\n",
       "2       Brooklyn              No   36\n",
       "3       Brooklyn             Yes    8\n",
       "4      Manhattan              No   25\n",
       "5      Manhattan             Yes   16\n",
       "6         Queens              No   19\n",
       "7         Queens             Yes    3\n",
       "8  Staten Island              No    2\n",
       "9  Staten Island             Yes    2"
      ]
     },
     "execution_count": 174,
     "metadata": {},
     "output_type": "execute_result"
    }
   ],
   "source": [
    "Farm_data = pd.DataFrame(df[['Borough','Market Name','Open Year-Round']])\n",
    "Farm_data = Farm_data.groupby(['Borough','Open Year-Round']).count().rename(columns={'Market Name':'Sum'})\n",
    "Farm_data = Farm_data.reset_index()\n",
    "Farm_data"
   ]
  },
  {
   "cell_type": "code",
   "execution_count": 173,
   "metadata": {},
   "outputs": [
    {
     "data": {
      "text/html": [
       "<div>\n",
       "<style scoped>\n",
       "    .dataframe tbody tr th:only-of-type {\n",
       "        vertical-align: middle;\n",
       "    }\n",
       "\n",
       "    .dataframe tbody tr th {\n",
       "        vertical-align: top;\n",
       "    }\n",
       "\n",
       "    .dataframe thead th {\n",
       "        text-align: right;\n",
       "    }\n",
       "</style>\n",
       "<table border=\"1\" class=\"dataframe\">\n",
       "  <thead>\n",
       "    <tr style=\"text-align: right;\">\n",
       "      <th></th>\n",
       "      <th>Borough</th>\n",
       "      <th>Total</th>\n",
       "    </tr>\n",
       "  </thead>\n",
       "  <tbody>\n",
       "    <tr>\n",
       "      <th>0</th>\n",
       "      <td>Bronx</td>\n",
       "      <td>28</td>\n",
       "    </tr>\n",
       "    <tr>\n",
       "      <th>1</th>\n",
       "      <td>Brooklyn</td>\n",
       "      <td>44</td>\n",
       "    </tr>\n",
       "    <tr>\n",
       "      <th>2</th>\n",
       "      <td>Manhattan</td>\n",
       "      <td>41</td>\n",
       "    </tr>\n",
       "    <tr>\n",
       "      <th>3</th>\n",
       "      <td>Queens</td>\n",
       "      <td>22</td>\n",
       "    </tr>\n",
       "    <tr>\n",
       "      <th>4</th>\n",
       "      <td>Staten Island</td>\n",
       "      <td>4</td>\n",
       "    </tr>\n",
       "  </tbody>\n",
       "</table>\n",
       "</div>"
      ],
      "text/plain": [
       "         Borough  Total\n",
       "0          Bronx     28\n",
       "1       Brooklyn     44\n",
       "2      Manhattan     41\n",
       "3         Queens     22\n",
       "4  Staten Island      4"
      ]
     },
     "execution_count": 173,
     "metadata": {},
     "output_type": "execute_result"
    }
   ],
   "source": [
    "test = pd.DataFrame(df[['Borough','Market Name']])\n",
    "test = test.groupby(['Borough']).count().rename(columns={'Market Name':'Total'})\n",
    "test = test.reset_index()\n",
    "test"
   ]
  },
  {
   "cell_type": "code",
   "execution_count": 269,
   "metadata": {},
   "outputs": [],
   "source": [
    "crs = {'init': 'epsg:4326'}\n",
    "gdf = gpd.GeoDataFrame(\n",
    "    df, geometry=gpd.points_from_xy(x=df.Longitude, y=df.Latitude)\n",
    ")"
   ]
  },
  {
   "cell_type": "code",
   "execution_count": 270,
   "metadata": {},
   "outputs": [],
   "source": [
    "gdf.to_csv('Farmers_Market_dataset.csv')"
   ]
  },
  {
   "cell_type": "code",
   "execution_count": 8,
   "metadata": {},
   "outputs": [],
   "source": [
    "gdf.to_csv('Farmers_Market_Data.csv')"
   ]
  },
  {
   "cell_type": "code",
   "execution_count": 121,
   "metadata": {},
   "outputs": [
    {
     "name": "stdout",
     "output_type": "stream",
     "text": [
      "Percent of Farmers market open year-round  20.29%\n",
      "Percent of Farmers market not open year-round  78.99%\n"
     ]
    }
   ],
   "source": [
    "percentage_yes='{percent:.2%}'.format(percent=len(gdf[gdf['Open Year-Round']=='Yes'])/len(gdf))\n",
    "percentage_no = '{percent:.2%}'.format(percent=len(gdf[gdf['Open Year-Round']=='No'])/len(gdf))\n",
    "print('Percent of Farmers market open year-round ', percentage_yes)\n",
    "print('Percent of Farmers market not open year-round ', percentage_no)"
   ]
  },
  {
   "cell_type": "code",
   "execution_count": 14,
   "metadata": {},
   "outputs": [],
   "source": [
    "#df2 = pd.read_csv('check.csv')"
   ]
  },
  {
   "cell_type": "code",
   "execution_count": 48,
   "metadata": {},
   "outputs": [],
   "source": [
    "df3 = df2[(df2['COUNTY'] == 'Bronx County') | (df2['COUNTY'] == 'Kings County') | (df2['COUNTY'] == 'Queens County') | (df2['COUNTY'] == 'Kings County') | (df2['COUNTY']=='New York County')]"
   ]
  },
  {
   "cell_type": "code",
   "execution_count": 39,
   "metadata": {},
   "outputs": [
    {
     "data": {
      "text/plain": [
       "[False, True]"
      ]
     },
     "execution_count": 39,
     "metadata": {},
     "output_type": "execute_result"
    }
   ],
   "source": [
    "list(df3['COUNTY'].unique())"
   ]
  },
  {
   "cell_type": "code",
   "execution_count": 50,
   "metadata": {},
   "outputs": [],
   "source": [
    "df3.to_csv('census_check.csv')"
   ]
  },
  {
   "cell_type": "code",
   "execution_count": 267,
   "metadata": {},
   "outputs": [
    {
     "data": {
      "text/html": [
       "\n",
       "<div id=\"altair-viz-19ab563292064db4a8cdc40df6beefc3\"></div>\n",
       "<script type=\"text/javascript\">\n",
       "  (function(spec, embedOpt){\n",
       "    let outputDiv = document.currentScript.previousElementSibling;\n",
       "    if (outputDiv.id !== \"altair-viz-19ab563292064db4a8cdc40df6beefc3\") {\n",
       "      outputDiv = document.getElementById(\"altair-viz-19ab563292064db4a8cdc40df6beefc3\");\n",
       "    }\n",
       "    const paths = {\n",
       "      \"vega\": \"https://cdn.jsdelivr.net/npm//vega@5?noext\",\n",
       "      \"vega-lib\": \"https://cdn.jsdelivr.net/npm//vega-lib?noext\",\n",
       "      \"vega-lite\": \"https://cdn.jsdelivr.net/npm//vega-lite@4.8.1?noext\",\n",
       "      \"vega-embed\": \"https://cdn.jsdelivr.net/npm//vega-embed@6?noext\",\n",
       "    };\n",
       "\n",
       "    function loadScript(lib) {\n",
       "      return new Promise(function(resolve, reject) {\n",
       "        var s = document.createElement('script');\n",
       "        s.src = paths[lib];\n",
       "        s.async = true;\n",
       "        s.onload = () => resolve(paths[lib]);\n",
       "        s.onerror = () => reject(`Error loading script: ${paths[lib]}`);\n",
       "        document.getElementsByTagName(\"head\")[0].appendChild(s);\n",
       "      });\n",
       "    }\n",
       "\n",
       "    function showError(err) {\n",
       "      outputDiv.innerHTML = `<div class=\"error\" style=\"color:red;\">${err}</div>`;\n",
       "      throw err;\n",
       "    }\n",
       "\n",
       "    function displayChart(vegaEmbed) {\n",
       "      vegaEmbed(outputDiv, spec, embedOpt)\n",
       "        .catch(err => showError(`Javascript Error: ${err.message}<br>This usually means there's a typo in your chart specification. See the javascript console for the full traceback.`));\n",
       "    }\n",
       "\n",
       "    if(typeof define === \"function\" && define.amd) {\n",
       "      requirejs.config({paths});\n",
       "      require([\"vega-embed\"], displayChart, err => showError(`Error loading script: ${err.message}`));\n",
       "    } else if (typeof vegaEmbed === \"function\") {\n",
       "      displayChart(vegaEmbed);\n",
       "    } else {\n",
       "      loadScript(\"vega\")\n",
       "        .then(() => loadScript(\"vega-lite\"))\n",
       "        .then(() => loadScript(\"vega-embed\"))\n",
       "        .catch(showError)\n",
       "        .then(() => displayChart(vegaEmbed));\n",
       "    }\n",
       "  })({\"config\": {\"view\": {\"continuousWidth\": 400, \"continuousHeight\": 300}}, \"data\": {\"name\": \"data-6770b50cfa6c1b627ed7f9e2441cf231\"}, \"mark\": \"bar\", \"encoding\": {\"color\": {\"type\": \"nominal\", \"field\": \"Borough\"}, \"x\": {\"type\": \"ordinal\", \"field\": \"Borough\"}, \"y\": {\"type\": \"quantitative\", \"aggregate\": \"count\", \"field\": \"Borough\"}}, \"width\": 300, \"$schema\": \"https://vega.github.io/schema/vega-lite/v4.8.1.json\", \"datasets\": {\"data-6770b50cfa6c1b627ed7f9e2441cf231\": [{\"Accepts EBT\": \"Yes\", \"Borough\": \"Brooklyn\", \"Days of Operation\": \"Wednesday\", \"Food Activities for Kids\": \"No\", \"Hours of Operations\": \"9 a.m. - 2 p.m.\", \"Latitude\": 40.700726, \"Location Point\": \"(40.700726, -73.941932)\", \"Longitude\": -73.941932, \"Market Name\": \"Woodhull Hospital Youthmarket\", \"Open Year-Round\": \"No\", \"Season Dates\": \"07/10/2019-11/27/2019\", \"Stellar Cooking Demonstrations\": \"No\", \"Street Address\": \"Broadway & Flushing Ave\", \"type\": \"Feature\", \"geometry\": {\"type\": \"Point\", \"coordinates\": [-73.941932, 40.700726]}}, {\"Accepts EBT\": \"Yes\", \"Borough\": \"Manhattan\", \"Days of Operation\": \"Wednesday\", \"Food Activities for Kids\": \"No\", \"Hours of Operations\": \"8 a.m. - 5 p.m.\", \"Latitude\": 40.789169, \"Location Point\": \"(40.789169, -73.952743)\", \"Longitude\": -73.952743, \"Market Name\": \"Mount Sinai Hospital Greenmarket\", \"Open Year-Round\": \"No\", \"Season Dates\": \"06/12/19-11/27/19\", \"Stellar Cooking Demonstrations\": \"No\", \"Street Address\": \"E 99th St bet Madison & Park Aves\", \"type\": \"Feature\", \"geometry\": {\"type\": \"Point\", \"coordinates\": [-73.952743, 40.789169]}}, {\"Accepts EBT\": \"Yes\", \"Borough\": \"Bronx\", \"Days of Operation\": \"Wednesday\", \"Food Activities for Kids\": \"Yes\", \"Hours of Operations\": \"2:30 - 6:30 p.m.\", \"Latitude\": 40.839882, \"Location Point\": \"(40.839882, -73.916783)\", \"Longitude\": -73.916783, \"Market Name\": \"170 Farm Stand\", \"Open Year-Round\": \"No\", \"Season Dates\": \"07/10/2019-11/27/2019\", \"Stellar Cooking Demonstrations\": \"No\", \"Street Address\": \"E 170th St & Townsend Ave\", \"type\": \"Feature\", \"geometry\": {\"type\": \"Point\", \"coordinates\": [-73.916783, 40.839882]}}, {\"Accepts EBT\": \"Yes\", \"Borough\": \"Manhattan\", \"Days of Operation\": \"Tuesday\", \"Food Activities for Kids\": \"No\", \"Hours of Operations\": \"7 a.m. - 7 p.m.\", \"Latitude\": 40.711535, \"Location Point\": \"(40.711535, -74.010464)\", \"Longitude\": -74.010464, \"Market Name\": \"Greenmarket at Oculus Plaza\", \"Open Year-Round\": \"Yes\", \"Season Dates\": \"07/09/2019-11/30/19\", \"Stellar Cooking Demonstrations\": \"No\", \"Street Address\": \"Church & Fulton Sts, on Oculus Plaza\", \"type\": \"Feature\", \"geometry\": {\"type\": \"Point\", \"coordinates\": [-74.010464, 40.711535]}}, {\"Accepts EBT\": \"Yes\", \"Borough\": \"Queens\", \"Days of Operation\": \"Saturday\", \"Food Activities for Kids\": \"No\", \"Hours of Operations\": \"8 a.m. - 3 p.m.\", \"Latitude\": 40.772853999999995, \"Location Point\": \"(40.772854, -73.906061)\", \"Longitude\": -73.906061, \"Market Name\": \"Ditmars Park Youthmarket\", \"Open Year-Round\": \"No\", \"Season Dates\": \"07/13/2019-11/23/2019\", \"Stellar Cooking Demonstrations\": \"No\", \"Street Address\": \"Steinway St bet Ditmars Blvd & 23rd Ave, at Ditmars Park\", \"type\": \"Feature\", \"geometry\": {\"type\": \"Point\", \"coordinates\": [-73.906061, 40.772853999999995]}}, {\"Accepts EBT\": \"Yes\", \"Borough\": \"Bronx\", \"Days of Operation\": \"Wednesday\", \"Food Activities for Kids\": \"No\", \"Hours of Operations\": \"2:30 - 5:30 p.m.\", \"Latitude\": 40.843546, \"Location Point\": \"(40.843546, -73.889755)\", \"Longitude\": -73.88975500000001, \"Market Name\": \"CS211 Go!Healthy Farm Stand\", \"Open Year-Round\": \"No\", \"Season Dates\": \"07/08/2019- 11/22/2019\", \"Stellar Cooking Demonstrations\": \"No\", \"Street Address\": \"1919 Prospect Ave\", \"type\": \"Feature\", \"geometry\": {\"type\": \"Point\", \"coordinates\": [-73.88975500000001, 40.843546]}}, {\"Accepts EBT\": \"Yes\", \"Borough\": \"Queens\", \"Days of Operation\": \"Saturday\", \"Food Activities for Kids\": \"No\", \"Hours of Operations\": \"10 a.m. - 2 p.m.\", \"Latitude\": 40.700955, \"Location Point\": \"(40.700955, -73.841426)\", \"Longitude\": -73.841426, \"Market Name\": \"Forest Park Youthmarket\", \"Open Year-Round\": \"No\", \"Season Dates\": \"07/13/2019-11/23/2019\", \"Stellar Cooking Demonstrations\": \"No\", \"Street Address\": \"Myrtle Ave & Park Lane South\", \"type\": \"Feature\", \"geometry\": {\"type\": \"Point\", \"coordinates\": [-73.841426, 40.700955]}}, {\"Accepts EBT\": \"Yes\", \"Borough\": \"Bronx\", \"Days of Operation\": \"Tuesday & Friday\", \"Food Activities for Kids\": \"No\", \"Hours of Operations\": \"8 a.m. - 4 p.m.\", \"Latitude\": 40.857427, \"Location Point\": \"(40.857427, -73.847079)\", \"Longitude\": -73.84707900000001, \"Market Name\": \"Harvest Home Jacobi Hospital Farmers Market\", \"Open Year-Round\": \"No\", \"Season Dates\": \"06/11/2019-11/19/2019\", \"Stellar Cooking Demonstrations\": \"No\", \"Street Address\": \"1400 Pelham Pkwy S, at Eastchester Rd\", \"type\": \"Feature\", \"geometry\": {\"type\": \"Point\", \"coordinates\": [-73.84707900000001, 40.857427]}}, {\"Accepts EBT\": \"Yes\", \"Borough\": \"Brooklyn\", \"Days of Operation\": \"Saturday\", \"Food Activities for Kids\": \"No\", \"Hours of Operations\": \"11 a.m. - 5 p.m.\", \"Latitude\": 40.664477000000005, \"Location Point\": \"(40.664477, -73.910384)\", \"Longitude\": -73.910384, \"Market Name\": \"Marcus Garvey Apartments Farm Stand\", \"Open Year-Round\": \"No\", \"Season Dates\": null, \"Stellar Cooking Demonstrations\": \"No\", \"Street Address\": \"300 Chester St\", \"type\": \"Feature\", \"geometry\": {\"type\": \"Point\", \"coordinates\": [-73.910384, 40.664477000000005]}}, {\"Accepts EBT\": \"Yes\", \"Borough\": \"Brooklyn\", \"Days of Operation\": \"Saturday\", \"Food Activities for Kids\": \"No\", \"Hours of Operations\": \"8 a.m. - 3 p.m.\", \"Latitude\": 40.691707, \"Location Point\": \"(40.691707, -73.973539)\", \"Longitude\": -73.973539, \"Market Name\": \"Fort Greene Park Greenmarket\", \"Open Year-Round\": \"Yes\", \"Season Dates\": \"Year-Round\", \"Stellar Cooking Demonstrations\": \"No\", \"Street Address\": \"Washington Park bet Dekalb Ave & Willoughby St\", \"type\": \"Feature\", \"geometry\": {\"type\": \"Point\", \"coordinates\": [-73.973539, 40.691707]}}, {\"Accepts EBT\": \"No\", \"Borough\": \"Bronx\", \"Days of Operation\": \"Sunday\", \"Food Activities for Kids\": \"No\", \"Hours of Operations\": \"9 a.m. - 2 p.m.\", \"Latitude\": 40.8871, \"Location Point\": \"(40.8871, -73.913306)\", \"Longitude\": -73.913306, \"Market Name\": \"Riverdale Y Sunday Farmers' Market\", \"Open Year-Round\": \"No\", \"Season Dates\": \"05/05/2019-11/24/2019\", \"Stellar Cooking Demonstrations\": \"No\", \"Street Address\": \"Independence Ave bet W 236th & 237th Sts, at MS/HS 141\", \"type\": \"Feature\", \"geometry\": {\"type\": \"Point\", \"coordinates\": [-73.913306, 40.8871]}}, {\"Accepts EBT\": \"Yes\", \"Borough\": \"Brooklyn\", \"Days of Operation\": \"Friday\", \"Food Activities for Kids\": \"No\", \"Hours of Operations\": \"10 a.m. - 5 p.m.\", \"Latitude\": 40.682390999999996, \"Location Point\": \"(40.682391, -73.876616)\", \"Longitude\": -73.876616, \"Market Name\": \"Cypress Hills Youthmarket\", \"Open Year-Round\": \"No\", \"Season Dates\": \"07/12/2019-11/22/2019\", \"Stellar Cooking Demonstrations\": \"Yes\", \"Street Address\": \"Fulton & Richmond Sts\", \"type\": \"Feature\", \"geometry\": {\"type\": \"Point\", \"coordinates\": [-73.876616, 40.682390999999996]}}, {\"Accepts EBT\": \"Yes\", \"Borough\": \"Bronx\", \"Days of Operation\": \"Saturday\", \"Food Activities for Kids\": \"No\", \"Hours of Operations\": \"10 a.m. - 4 p.m.\", \"Latitude\": 40.809107, \"Location Point\": \"(40.809107, -73.922887)\", \"Longitude\": -73.922887, \"Market Name\": \"South Bronx Farmers Market\", \"Open Year-Round\": \"No\", \"Season Dates\": \"06/15/2019-11/23/2019\", \"Stellar Cooking Demonstrations\": \"Yes\", \"Street Address\": \"E 138th St bet Willis & Alexander Aves\", \"type\": \"Feature\", \"geometry\": {\"type\": \"Point\", \"coordinates\": [-73.922887, 40.809107]}}, {\"Accepts EBT\": \"Yes\", \"Borough\": \"Brooklyn\", \"Days of Operation\": \"Friday & Saturday\", \"Food Activities for Kids\": \"No\", \"Hours of Operations\": \"(F) 9 a.m. - 4 p.m.; \\n(S) 9 a.m. - 3 p.m.\", \"Latitude\": 40.667553999999996, \"Location Point\": \"(40.667554, -73.910207)\", \"Longitude\": -73.910207, \"Market Name\": \"Isabahlia Farm Stand\", \"Open Year-Round\": \"No\", \"Season Dates\": \"06/28/2019-10/25/2019 ; 06/29/2019-10/26/2019\", \"Stellar Cooking Demonstrations\": \"No\", \"Street Address\": \"514 Rockaway Ave\", \"type\": \"Feature\", \"geometry\": {\"type\": \"Point\", \"coordinates\": [-73.910207, 40.667553999999996]}}, {\"Accepts EBT\": \"Yes\", \"Borough\": \"Bronx\", \"Days of Operation\": \"Sunday\", \"Food Activities for Kids\": \"No\", \"Hours of Operations\": \"9 a.m. - 5 p.m.\", \"Latitude\": 40.880038, \"Location Point\": \"(40.880038, -73.907005)\", \"Longitude\": -73.907005, \"Market Name\": \"Kingsbridge-Riverdale Farmers Market\", \"Open Year-Round\": \"No\", \"Season Dates\": \"05/26/19-11/24/19\", \"Stellar Cooking Demonstrations\": \"No\", \"Street Address\": \"260 W 231st St\", \"type\": \"Feature\", \"geometry\": {\"type\": \"Point\", \"coordinates\": [-73.907005, 40.880038]}}, {\"Accepts EBT\": \"Yes\", \"Borough\": \"Manhattan\", \"Days of Operation\": \"Thursday & Saturday\", \"Food Activities for Kids\": \"No\", \"Hours of Operations\": \"8 a.m. - 5 p.m.\", \"Latitude\": 40.773876, \"Location Point\": \"(40.773876, -73.982226)\", \"Longitude\": -73.982226, \"Market Name\": \"Tucker Square Greenmarket\", \"Open Year-Round\": \"Yes\", \"Season Dates\": \"Year-Round (Closed 07/04/19 & 11/28/19 - open 11/27/19)\", \"Stellar Cooking Demonstrations\": \"No\", \"Street Address\": \"W 66th St & Broadway\", \"type\": \"Feature\", \"geometry\": {\"type\": \"Point\", \"coordinates\": [-73.982226, 40.773876]}}, {\"Accepts EBT\": \"Yes\", \"Borough\": \"Queens\", \"Days of Operation\": \"Saturday\", \"Food Activities for Kids\": \"No\", \"Hours of Operations\": \"9 a.m. - 2 p.m.\", \"Latitude\": 40.746916, \"Location Point\": \"(40.746916, -73.956367)\", \"Longitude\": -73.956367, \"Market Name\": \"Long Island City Youthmarket\", \"Open Year-Round\": \"No\", \"Season Dates\": \"07/13/2019-11/23/2019\", \"Stellar Cooking Demonstrations\": \"No\", \"Street Address\": \"Center Blvd & 46th Rd\", \"type\": \"Feature\", \"geometry\": {\"type\": \"Point\", \"coordinates\": [-73.956367, 40.746916]}}, {\"Accepts EBT\": \"No\", \"Borough\": \"Bronx\", \"Days of Operation\": \"Tuesday\", \"Food Activities for Kids\": \"No\", \"Hours of Operations\": \"3 - 7 p.m.\", \"Latitude\": 40.821403000000004, \"Location Point\": \"(40.821403, -73.925528)\", \"Longitude\": -73.925528, \"Market Name\": \"New Roots Community Farmers Market\", \"Open Year-Round\": \"No\", \"Season Dates\": \"07/09/2019-10/29/2019\", \"Stellar Cooking Demonstrations\": \"No\", \"Street Address\": \"670 Grand Concourse\", \"type\": \"Feature\", \"geometry\": {\"type\": \"Point\", \"coordinates\": [-73.925528, 40.821403000000004]}}, {\"Accepts EBT\": \"Yes\", \"Borough\": \"Brooklyn\", \"Days of Operation\": \"Tuesday\", \"Food Activities for Kids\": \"No\", \"Hours of Operations\": \"8 a.m. - 4 p.m.\", \"Latitude\": 40.688088, \"Location Point\": \"(40.688088, -73.966819)\", \"Longitude\": -73.966819, \"Market Name\": \"Harvest Home Clinton Hill Farm Stand\", \"Open Year-Round\": \"No\", \"Season Dates\": \"06/04/2019-11/19/2019\", \"Stellar Cooking Demonstrations\": \"No\", \"Street Address\": \"Lafayette & Waverly Aves\", \"type\": \"Feature\", \"geometry\": {\"type\": \"Point\", \"coordinates\": [-73.966819, 40.688088]}}, {\"Accepts EBT\": \"Yes\", \"Borough\": \"Manhattan\", \"Days of Operation\": \"Saturday\", \"Food Activities for Kids\": \"No\", \"Hours of Operations\": \"8 a.m. - 4 p.m.\", \"Latitude\": 40.802699, \"Location Point\": \"(40.802699, -73.949186)\", \"Longitude\": -73.949186, \"Market Name\": \"Harvest Home Lenox Ave Farm Stand\", \"Open Year-Round\": \"No\", \"Season Dates\": \"06/07/2019-11/15/2019\", \"Stellar Cooking Demonstrations\": \"No\", \"Street Address\": \"Lenox Ave bet W 117th & 118th Sts\", \"type\": \"Feature\", \"geometry\": {\"type\": \"Point\", \"coordinates\": [-73.949186, 40.802699]}}, {\"Accepts EBT\": \"Yes\", \"Borough\": \"Brooklyn\", \"Days of Operation\": \"Saturday\", \"Food Activities for Kids\": \"No\", \"Hours of Operations\": \"8 a.m. - 2 p.m.\", \"Latitude\": 40.719219, \"Location Point\": \"(40.719219, -73.952479)\", \"Longitude\": -73.952479, \"Market Name\": \"McCarren Park Greenmarket\", \"Open Year-Round\": \"Yes\", \"Season Dates\": \"Year-Round\", \"Stellar Cooking Demonstrations\": \"No\", \"Street Address\": \"Union Ave bet Driggs and N 12th Sts\", \"type\": \"Feature\", \"geometry\": {\"type\": \"Point\", \"coordinates\": [-73.952479, 40.719219]}}, {\"Accepts EBT\": \"Yes\", \"Borough\": \"Manhattan\", \"Days of Operation\": \"Tuesday &\\nThursday\", \"Food Activities for Kids\": \"No\", \"Hours of Operations\": \"8 a.m. - 5 p.m.\", \"Latitude\": 40.704549, \"Location Point\": \"(40.704549, -74.01429)\", \"Longitude\": -74.01429, \"Market Name\": \"Bowling Green Greenmarket\", \"Open Year-Round\": \"Yes\", \"Season Dates\": \"Year-Round (Closed 07/04/19 & 11/28/19- open 11/26/19 & 11/27/19)\", \"Stellar Cooking Demonstrations\": \"No\", \"Street Address\": \"Broadway & Battery Pl\", \"type\": \"Feature\", \"geometry\": {\"type\": \"Point\", \"coordinates\": [-74.01429, 40.704549]}}, {\"Accepts EBT\": \"Yes\", \"Borough\": \"Brooklyn\", \"Days of Operation\": \"Wednesday & Sunday\", \"Food Activities for Kids\": \"No\", \"Hours of Operations\": \"(W) 8 a.m. - 3 p.m.; (S) 9 a.m.- 3 p.m.\", \"Latitude\": 40.661153999999996, \"Location Point\": \"(40.661154, -73.980172)\", \"Longitude\": -73.980172, \"Market Name\": \"Bartel-Pritchard Square Greenmarket\", \"Open Year-Round\": \"Yes (W)\", \"Season Dates\": \"Wednesday: Year-Round (Closed 12/25/19 & 1/1/20); \\nSunday: 05/05/19-12/22/19\", \"Stellar Cooking Demonstrations\": \"No\", \"Street Address\": \"Prospect Park W & 15th St\", \"type\": \"Feature\", \"geometry\": {\"type\": \"Point\", \"coordinates\": [-73.980172, 40.661153999999996]}}, {\"Accepts EBT\": \"Yes\", \"Borough\": \"Manhattan\", \"Days of Operation\": \"Tuesday & Friday\", \"Food Activities for Kids\": \"No\", \"Hours of Operations\": \"8 a.m. - 7 p.m.\", \"Latitude\": 40.701687899999996, \"Location Point\": \"(40.7016879, -74.01163113)\", \"Longitude\": -74.01163113, \"Market Name\": \"Staten Island Ferry Whitehall Terminal Greenmarket\", \"Open Year-Round\": \"Yes\", \"Season Dates\": \"Year-Round\", \"Stellar Cooking Demonstrations\": \"No\", \"Street Address\": \"4 South St, inside terminal\", \"type\": \"Feature\", \"geometry\": {\"type\": \"Point\", \"coordinates\": [-74.01163113, 40.701687899999996]}}, {\"Accepts EBT\": \"Yes\", \"Borough\": \"Queens\", \"Days of Operation\": \"Sunday\", \"Food Activities for Kids\": \"No\", \"Hours of Operations\": \"8 a.m. - 2 p.m.\", \"Latitude\": 40.753434999999996, \"Location Point\": \"(40.753435, -73.887822)\", \"Longitude\": -73.887822, \"Market Name\": \"Jackson Heights Greenmarket\", \"Open Year-Round\": \"Yes\", \"Season Dates\": \"Year-Round\", \"Stellar Cooking Demonstrations\": \"Yes\", \"Street Address\": \"34th Ave bet 79th & 80th Sts\", \"type\": \"Feature\", \"geometry\": {\"type\": \"Point\", \"coordinates\": [-73.887822, 40.753434999999996]}}, {\"Accepts EBT\": \"No\", \"Borough\": \"Manhattan\", \"Days of Operation\": \"Sunday\", \"Food Activities for Kids\": \"No\", \"Hours of Operations\": \"11 a.m. - 5 p.m.\", \"Latitude\": 40.705799, \"Location Point\": \"(40.705799, -74.002572)\", \"Longitude\": -74.002572, \"Market Name\": \"Fulton Stall Market\", \"Open Year-Round\": \"No\", \"Season Dates\": null, \"Stellar Cooking Demonstrations\": \"No\", \"Street Address\": \"Pier 17 Square\", \"type\": \"Feature\", \"geometry\": {\"type\": \"Point\", \"coordinates\": [-74.002572, 40.705799]}}, {\"Accepts EBT\": \"Yes\", \"Borough\": \"Brooklyn\", \"Days of Operation\": \"Saturday\", \"Food Activities for Kids\": \"No\", \"Hours of Operations\": \"9 a.m. - 4 p.m.\", \"Latitude\": 40.702811, \"Location Point\": \"(40.702811, -73.92539)\", \"Longitude\": -73.92539000000001, \"Market Name\": \"RB Bushwick Farmers Market at Maria Hernandez Park\", \"Open Year-Round\": \"No\", \"Season Dates\": \"05/18/2019-11/30/2019\", \"Stellar Cooking Demonstrations\": \"Yes\", \"Street Address\": \"Knickerbocker Ave & Starr St\", \"type\": \"Feature\", \"geometry\": {\"type\": \"Point\", \"coordinates\": [-73.92539000000001, 40.702811]}}, {\"Accepts EBT\": \"Yes\", \"Borough\": \"Queens\", \"Days of Operation\": \"Saturday\", \"Food Activities for Kids\": \"No\", \"Hours of Operations\": \"11 a.m. - 3 p. m.\", \"Latitude\": 40.768504, \"Location Point\": \"(40.768504, -73.935847)\", \"Longitude\": -73.935847, \"Market Name\": \"Socrates Sculpture Garden\", \"Open Year-Round\": \"No\", \"Season Dates\": \"05/04/2019-10/26/2019\", \"Stellar Cooking Demonstrations\": \"No\", \"Street Address\": \"31-30 Vernon Blvd\", \"type\": \"Feature\", \"geometry\": {\"type\": \"Point\", \"coordinates\": [-73.935847, 40.768504]}}, {\"Accepts EBT\": \"Yes\", \"Borough\": \"Manhattan\", \"Days of Operation\": \"Wednesday\", \"Food Activities for Kids\": \"No\", \"Hours of Operations\": \"10:30 a.m. - 5:30 p.m.\", \"Latitude\": 40.82394, \"Location Point\": \"(40.82394, -73.948552)\", \"Longitude\": -73.948552, \"Market Name\": \"Hamilton Heights Green Youthmarket\", \"Open Year-Round\": \"No\", \"Season Dates\": \"Year-Round\", \"Stellar Cooking Demonstrations\": \"No\", \"Street Address\": \"Amsterdam bet W 143rd & 144th Sts, at Johnny Hartman Plaza\", \"type\": \"Feature\", \"geometry\": {\"type\": \"Point\", \"coordinates\": [-73.948552, 40.82394]}}, {\"Accepts EBT\": \"Yes\", \"Borough\": \"Queens\", \"Days of Operation\": \"Saturday\", \"Food Activities for Kids\": \"No\", \"Hours of Operations\": \"8 a.m. - 2 p.m.\", \"Latitude\": 40.746999, \"Location Point\": \"(40.746999, -73.921724)\", \"Longitude\": -73.921724, \"Market Name\": \"Sunnyside Greenmarket\", \"Open Year-Round\": \"Yes\", \"Season Dates\": \"Year-Round\", \"Stellar Cooking Demonstrations\": \"No\", \"Street Address\": \"Skillman Ave bet 42nd & 43rd Sts\", \"type\": \"Feature\", \"geometry\": {\"type\": \"Point\", \"coordinates\": [-73.921724, 40.746999]}}, {\"Accepts EBT\": \"Yes\", \"Borough\": \"Queens\", \"Days of Operation\": \"Tuesday\", \"Food Activities for Kids\": \"No\", \"Hours of Operations\": \"8 a.m. - 4 p.m.\", \"Latitude\": 40.745794000000004, \"Location Point\": \"(40.745794, -73.885489)\", \"Longitude\": -73.885489, \"Market Name\": \"Elmhurst Hospital Greenmarket\", \"Open Year-Round\": \"No\", \"Season Dates\": \"06/04/19-11/26/19 (closed 11/05/19)\", \"Stellar Cooking Demonstrations\": \"No\", \"Street Address\": \"41st Ave bet 80th & 81st Sts\", \"type\": \"Feature\", \"geometry\": {\"type\": \"Point\", \"coordinates\": [-73.885489, 40.745794000000004]}}, {\"Accepts EBT\": \"No\", \"Borough\": \"Bronx\", \"Days of Operation\": \"Wednesday & Saturday\", \"Food Activities for Kids\": \"No\", \"Hours of Operations\": \"9 a.m. - 5 p.m.\", \"Latitude\": 40.90152, \"Location Point\": \"(40.90152, -73.846937)\", \"Longitude\": -73.846937, \"Market Name\": \"Bissel Gardens Farmers Market\", \"Open Year-Round\": \"No\", \"Season Dates\": \"07/06/2019-11/27/2019\", \"Stellar Cooking Demonstrations\": \"No\", \"Street Address\": \"Baychester Ave & E 241st St\", \"type\": \"Feature\", \"geometry\": {\"type\": \"Point\", \"coordinates\": [-73.846937, 40.90152]}}, {\"Accepts EBT\": \"Yes\", \"Borough\": \"Manhattan\", \"Days of Operation\": \"Sunday\", \"Food Activities for Kids\": \"No\", \"Hours of Operations\": \"9 a.m. - 4 p.m.\", \"Latitude\": 40.780691, \"Location Point\": \"(40.780691, -73.946592)\", \"Longitude\": -73.94659200000001, \"Market Name\": \"92nd Street Greenmarket\", \"Open Year-Round\": \"No\", \"Season Dates\": \"Year-Round\", \"Stellar Cooking Demonstrations\": \"No\", \"Street Address\": \"E 92nd St & 1st Ave\", \"type\": \"Feature\", \"geometry\": {\"type\": \"Point\", \"coordinates\": [-73.94659200000001, 40.780691]}}, {\"Accepts EBT\": \"Yes\", \"Borough\": \"Bronx\", \"Days of Operation\": \"Friday\", \"Food Activities for Kids\": \"No\", \"Hours of Operations\": \"8 a.m. - 4 p.m.\", \"Latitude\": 40.86153, \"Location Point\": \"(40.86153, -73.891063)\", \"Longitude\": -73.891063, \"Market Name\": \"Fordham Plaza Greenmarket\", \"Open Year-Round\": \"No\", \"Season Dates\": \"06/14/19-11/22/19\", \"Stellar Cooking Demonstrations\": \"Yes\", \"Street Address\": \"Park Ave bet E 189th St & E Fordham Rd\", \"type\": \"Feature\", \"geometry\": {\"type\": \"Point\", \"coordinates\": [-73.891063, 40.86153]}}, {\"Accepts EBT\": \"Yes\", \"Borough\": \"Brooklyn\", \"Days of Operation\": \"Friday\", \"Food Activities for Kids\": \"No\", \"Hours of Operations\": \"11 a.m. - 4 p.m.\", \"Latitude\": 40.663526, \"Location Point\": \"(40.663526, -73.909163)\", \"Longitude\": -73.909163, \"Market Name\": \"Project EATS Rockaway Farmstand\", \"Open Year-Round\": \"No\", \"Season Dates\": null, \"Stellar Cooking Demonstrations\": \"No\", \"Street Address\": \"666 Rockaway Ave\", \"type\": \"Feature\", \"geometry\": {\"type\": \"Point\", \"coordinates\": [-73.909163, 40.663526]}}, {\"Accepts EBT\": \"Yes\", \"Borough\": \"Queens\", \"Days of Operation\": \"Saturday\", \"Food Activities for Kids\": \"No\", \"Hours of Operations\": \"10 a.m. - 2 p.m.\", \"Latitude\": 40.595612, \"Location Point\": \"(40.595612, -73.776551)\", \"Longitude\": -73.776551, \"Market Name\": \"Far Rockaway Farmstand\", \"Open Year-Round\": \"No\", \"Season Dates\": \"07/06/2019-11/16/2019\", \"Stellar Cooking Demonstrations\": \"No\", \"Street Address\": \"385 Beach 45th St\", \"type\": \"Feature\", \"geometry\": {\"type\": \"Point\", \"coordinates\": [-73.776551, 40.595612]}}, {\"Accepts EBT\": \"Yes\", \"Borough\": \"Manhattan\", \"Days of Operation\": \"Tuesday\", \"Food Activities for Kids\": \"No\", \"Hours of Operations\": \"8 a.m. - 4 p.m.\", \"Latitude\": 40.842154, \"Location Point\": \"(40.842154, -73.942278)\", \"Longitude\": -73.942278, \"Market Name\": \"Fort Washington Greenmarket\", \"Open Year-Round\": \"No\", \"Season Dates\": \"04/28/19-11/24/2019\", \"Stellar Cooking Demonstrations\": \"No\", \"Street Address\": \"W 168th St & Ft Washington Ave\", \"type\": \"Feature\", \"geometry\": {\"type\": \"Point\", \"coordinates\": [-73.942278, 40.842154]}}, {\"Accepts EBT\": \"Yes\", \"Borough\": \"Manhattan\", \"Days of Operation\": \"Thursday\", \"Food Activities for Kids\": \"No\", \"Hours of Operations\": \"10 a.m. - 7 p.m.\", \"Latitude\": 40.807407, \"Location Point\": \"(40.807407, -73.950588)\", \"Longitude\": -73.950588, \"Market Name\": \"Project Harmony People's Market\", \"Open Year-Round\": \"No\", \"Season Dates\": \"6/13/2019-10/31/2019\", \"Stellar Cooking Demonstrations\": \"No\", \"Street Address\": \"219 W 122nd St, at Joseph Daniel Wilson Memorial Garden\", \"type\": \"Feature\", \"geometry\": {\"type\": \"Point\", \"coordinates\": [-73.950588, 40.807407]}}, {\"Accepts EBT\": \"Yes\", \"Borough\": \"Brooklyn\", \"Days of Operation\": \"Saturday\", \"Food Activities for Kids\": \"No\", \"Hours of Operations\": \"8 a.m. - 3 p.m.\", \"Latitude\": 40.647132, \"Location Point\": \"(40.647132, -74.004623)\", \"Longitude\": -74.004623, \"Market Name\": \"6th Ave Sunset Park Greenmarket\", \"Open Year-Round\": \"No\", \"Season Dates\": \"07/06/19-11/23/19\", \"Stellar Cooking Demonstrations\": \"No\", \"Street Address\": \"44th St & 6th Ave\", \"type\": \"Feature\", \"geometry\": {\"type\": \"Point\", \"coordinates\": [-74.004623, 40.647132]}}, {\"Accepts EBT\": \"Yes\", \"Borough\": \"Brooklyn\", \"Days of Operation\": \"Wednesday\", \"Food Activities for Kids\": \"No\", \"Hours of Operations\": \"1:30 - 6:30 p.m.\", \"Latitude\": 40.660828, \"Location Point\": \"(40.660828, -73.895395)\", \"Longitude\": -73.895395, \"Market Name\": \"East New York Farm Stand\", \"Open Year-Round\": \"No\", \"Season Dates\": \"6/29/2019-11/30/2019\", \"Stellar Cooking Demonstrations\": \"No\", \"Street Address\": \"New Lots Ave bet Alabama & Georgia Aves\", \"type\": \"Feature\", \"geometry\": {\"type\": \"Point\", \"coordinates\": [-73.895395, 40.660828]}}, {\"Accepts EBT\": \"No\", \"Borough\": \"Brooklyn\", \"Days of Operation\": \"Saturday\", \"Food Activities for Kids\": \"No\", \"Hours of Operations\": \"11 a.m. - 3 p.m.\", \"Latitude\": 40.64497, \"Location Point\": \"(40.64497, -73.920914)\", \"Longitude\": -73.920914, \"Market Name\": \"Wyckoff House Museum Farm Stand\", \"Open Year-Round\": \"No\", \"Season Dates\": null, \"Stellar Cooking Demonstrations\": \"No\", \"Street Address\": \"5816 Clarendon Rd\", \"type\": \"Feature\", \"geometry\": {\"type\": \"Point\", \"coordinates\": [-73.920914, 40.64497]}}, {\"Accepts EBT\": \"Yes\", \"Borough\": \"Bronx\", \"Days of Operation\": \"Thursday\", \"Food Activities for Kids\": \"No\", \"Hours of Operations\": \"10 a.m. - 5 p.m.\", \"Latitude\": 40.882220000000004, \"Location Point\": \"(40.88222, -73.880458)\", \"Longitude\": -73.88045799999999, \"Market Name\": \"Norwood Youthmarket\", \"Open Year-Round\": \"No\", \"Season Dates\": \"07/11/2019-11/21/2019\", \"Stellar Cooking Demonstrations\": \"No\", \"Street Address\": \"E Gun Hill Rd & Dekalb Ave\", \"type\": \"Feature\", \"geometry\": {\"type\": \"Point\", \"coordinates\": [-73.88045799999999, 40.882220000000004]}}, {\"Accepts EBT\": \"Yes\", \"Borough\": \"Staten Island\", \"Days of Operation\": \"Saturday\", \"Food Activities for Kids\": \"No\", \"Hours of Operations\": \"8 a.m. - 3 p.m.\", \"Latitude\": 40.583804, \"Location Point\": \"(40.583804, -74.161245)\", \"Longitude\": -74.161245, \"Market Name\": \"Staten Island Mall Greenmarket\", \"Open Year-Round\": \"Yes\", \"Season Dates\": \"Year-Round\", \"Stellar Cooking Demonstrations\": \"No\", \"Street Address\": \"Marsh Ave & Ring Rd\", \"type\": \"Feature\", \"geometry\": {\"type\": \"Point\", \"coordinates\": [-74.161245, 40.583804]}}, {\"Accepts EBT\": \"Yes\", \"Borough\": \"Brooklyn\", \"Days of Operation\": \"Tuesday, Thursday & Saturday\", \"Food Activities for Kids\": \"No\", \"Hours of Operations\": \"8 a.m. - 5 p.m.\", \"Latitude\": 40.693721999999994, \"Location Point\": \"(40.693722, -73.990455)\", \"Longitude\": -73.99045500000001, \"Market Name\": \"Brooklyn Borough Hall Greenmarket\", \"Open Year-Round\": \"Yes\", \"Season Dates\": \"Year-Round (Closed 07/04/19 & 11/28/19)\", \"Stellar Cooking Demonstrations\": \"No\", \"Street Address\": \"Court & Montague Sts\", \"type\": \"Feature\", \"geometry\": {\"type\": \"Point\", \"coordinates\": [-73.99045500000001, 40.693721999999994]}}, {\"Accepts EBT\": \"Yes\", \"Borough\": \"Manhattan\", \"Days of Operation\": \"Friday\", \"Food Activities for Kids\": \"No\", \"Hours of Operations\": \"8 a.m. - 7 p.m.\", \"Latitude\": 40.814358, \"Location Point\": \"(40.814358, -73.940659)\", \"Longitude\": -73.940659, \"Market Name\": \"Harvest Home Harlem Hospital Farmers Market\", \"Open Year-Round\": \"No\", \"Season Dates\": \"07/11/2019-11/14/2019\", \"Stellar Cooking Demonstrations\": \"No\", \"Street Address\": \"Lenox Ave bet 135th & 137th Sts\", \"type\": \"Feature\", \"geometry\": {\"type\": \"Point\", \"coordinates\": [-73.940659, 40.814358]}}, {\"Accepts EBT\": \"Yes\", \"Borough\": \"Brooklyn\", \"Days of Operation\": \"Wednesday\", \"Food Activities for Kids\": \"No\", \"Hours of Operations\": \"12 - 7 p.m.\", \"Latitude\": 40.676024, \"Location Point\": \"(40.676024, -74.002318)\", \"Longitude\": -74.002318, \"Market Name\": \"Red Hook Farm Stand II\", \"Open Year-Round\": \"No\", \"Season Dates\": \"06/19/2019-11/20/2019\", \"Stellar Cooking Demonstrations\": \"No\", \"Street Address\": \"West 9th St & Hamilton Avenue\", \"type\": \"Feature\", \"geometry\": {\"type\": \"Point\", \"coordinates\": [-74.002318, 40.676024]}}, {\"Accepts EBT\": \"Yes\", \"Borough\": \"Manhattan\", \"Days of Operation\": \"Thursday\", \"Food Activities for Kids\": \"No\", \"Hours of Operations\": \"8 a.m. - 5 p.m.\", \"Latitude\": 40.740395, \"Location Point\": \"(40.740395, -73.979077)\", \"Longitude\": -73.979077, \"Market Name\": \"Kips Bay Greenmarket\", \"Open Year-Round\": \"No\", \"Season Dates\": \"09/26/2019-11/21/2019\", \"Stellar Cooking Demonstrations\": \"No\", \"Street Address\": \"2nd Ave bet 27th & 28th Sts\", \"type\": \"Feature\", \"geometry\": {\"type\": \"Point\", \"coordinates\": [-73.979077, 40.740395]}}, {\"Accepts EBT\": \"Yes\", \"Borough\": \"Bronx\", \"Days of Operation\": \"Wednesday\", \"Food Activities for Kids\": \"No\", \"Hours of Operations\": \"8 a.m. - 4 p.m.\", \"Latitude\": 40.820986, \"Location Point\": \"(40.820986, -73.891613)\", \"Longitude\": -73.891613, \"Market Name\": \"Harvest Home Hunts Point Farm Stand\", \"Open Year-Round\": \"No\", \"Season Dates\": \"06/05/2019-11/20/2019\", \"Stellar Cooking Demonstrations\": \"No\", \"Street Address\": \"E 163rd St & Hunts Point Ave\", \"type\": \"Feature\", \"geometry\": {\"type\": \"Point\", \"coordinates\": [-73.891613, 40.820986]}}, {\"Accepts EBT\": \"Yes\", \"Borough\": \"Brooklyn\", \"Days of Operation\": \"Saturday\", \"Food Activities for Kids\": \"No\", \"Hours of Operations\": \"8 a.m. - 1 p.m.\", \"Latitude\": 40.657984, \"Location Point\": \"(40.657984, -73.901764)\", \"Longitude\": -73.901764, \"Market Name\": \"Isabahlia Farm Stand Winter Market\", \"Open Year-Round\": \"No\", \"Season Dates\": \"11/02/2019-12/14/2019\", \"Stellar Cooking Demonstrations\": \"No\", \"Street Address\": \"93 New Lots Ave, inside greenhouse\", \"type\": \"Feature\", \"geometry\": {\"type\": \"Point\", \"coordinates\": [-73.901764, 40.657984]}}, {\"Accepts EBT\": \"Yes\", \"Borough\": \"Manhattan\", \"Days of Operation\": \"Wednesday & Saturday\", \"Food Activities for Kids\": \"No\", \"Hours of Operations\": \"8 a.m. - 3 p.m.\", \"Latitude\": 40.716303, \"Location Point\": \"(40.716303, -74.010966)\", \"Longitude\": -74.010966, \"Market Name\": \"Tribeca Greenmarket\", \"Open Year-Round\": \"Yes\", \"Season Dates\": \"Year-Round\", \"Stellar Cooking Demonstrations\": \"No\", \"Street Address\": \"Greenwich & Chambers Sts\", \"type\": \"Feature\", \"geometry\": {\"type\": \"Point\", \"coordinates\": [-74.010966, 40.716303]}}, {\"Accepts EBT\": \"No\", \"Borough\": \"Queens\", \"Days of Operation\": \"Saturday\", \"Food Activities for Kids\": \"No\", \"Hours of Operations\": \"8 a.m. - 2 p.m.\", \"Latitude\": 40.593313, \"Location Point\": \"(40.593313, -73.79166)\", \"Longitude\": -73.79166, \"Market Name\": \"Joseph Addabbo FHC Farm Stand\", \"Open Year-Round\": \"No\", \"Season Dates\": \"07/06/2019-11/16/2019\", \"Stellar Cooking Demonstrations\": \"No\", \"Street Address\": \"6200 Beach Channel Dr\", \"type\": \"Feature\", \"geometry\": {\"type\": \"Point\", \"coordinates\": [-73.79166, 40.593313]}}, {\"Accepts EBT\": \"Yes\", \"Borough\": \"Manhattan\", \"Days of Operation\": \"Saturday\", \"Food Activities for Kids\": \"No\", \"Hours of Operations\": \"8 a.m. - 2 p.m.\", \"Latitude\": 40.737553000000005, \"Location Point\": \"(40.737553, -74.005687)\", \"Longitude\": -74.005687, \"Market Name\": \"Abingdon Square Greenmarket\", \"Open Year-Round\": \"Yes\", \"Season Dates\": \"Year-Round\", \"Stellar Cooking Demonstrations\": \"No\", \"Street Address\": \"Hudson St & W 12th St\", \"type\": \"Feature\", \"geometry\": {\"type\": \"Point\", \"coordinates\": [-74.005687, 40.737553000000005]}}, {\"Accepts EBT\": \"Yes\", \"Borough\": \"Manhattan\", \"Days of Operation\": \"Saturday\", \"Food Activities for Kids\": \"No\", \"Hours of Operations\": \"8 a.m. - 3 p.m.\", \"Latitude\": 40.869001000000004, \"Location Point\": \"(40.869001, -73.920896)\", \"Longitude\": -73.920896, \"Market Name\": \"Inwood Park Greenmarket\", \"Open Year-Round\": \"Yes\", \"Season Dates\": \"5/16/19-11/21/19\", \"Stellar Cooking Demonstrations\": \"No\", \"Street Address\": \"Isham St bet Seaman Ave & Cooper St\", \"type\": \"Feature\", \"geometry\": {\"type\": \"Point\", \"coordinates\": [-73.920896, 40.869001000000004]}}, {\"Accepts EBT\": \"Yes\", \"Borough\": \"Bronx\", \"Days of Operation\": \"Thursday\", \"Food Activities for Kids\": \"No\", \"Hours of Operations\": \"8 a.m. - 4 p.m.\", \"Latitude\": 40.813884, \"Location Point\": \"(40.813884, -73.911812)\", \"Longitude\": -73.911812, \"Market Name\": \"Harvest Home St. Mary's Park Farm Stand\", \"Open Year-Round\": \"No\", \"Season Dates\": \"07/11/2019-11/14/2019\", \"Stellar Cooking Demonstrations\": \"No\", \"Street Address\": \"E 149th St & Eagle Ave\", \"type\": \"Feature\", \"geometry\": {\"type\": \"Point\", \"coordinates\": [-73.911812, 40.813884]}}, {\"Accepts EBT\": \"Yes\", \"Borough\": \"Queens\", \"Days of Operation\": \"Thursday\", \"Food Activities for Kids\": \"No\", \"Hours of Operations\": \"10 a.m. - 4 p.m.\", \"Latitude\": 40.702445000000004, \"Location Point\": \"(40.702445, -73.816861)\", \"Longitude\": -73.816861, \"Market Name\": \"Queens County Farm Museum Farm Stand at Jamaica Hospital\", \"Open Year-Round\": \"No\", \"Season Dates\": \"06/13/2019-11/14/2019\", \"Stellar Cooking Demonstrations\": \"No\", \"Street Address\": \"Jamaica Ave & Van Wyck Expwy, South Service Rd\", \"type\": \"Feature\", \"geometry\": {\"type\": \"Point\", \"coordinates\": [-73.816861, 40.702445000000004]}}, {\"Accepts EBT\": \"Yes\", \"Borough\": \"Brooklyn\", \"Days of Operation\": \"Saturday\", \"Food Activities for Kids\": \"No\", \"Hours of Operations\": \"8:30 a.m. - 2 p.m.\", \"Latitude\": 40.632886, \"Location Point\": \"(40.632886, -73.947698)\", \"Longitude\": -73.947698, \"Market Name\": \"Flatbush Junction Youthmarket\", \"Open Year-Round\": \"No\", \"Season Dates\": \"07/13/2019-11/23/2019\", \"Stellar Cooking Demonstrations\": \"No\", \"Street Address\": \"Nostrand & Flatbush Aves\", \"type\": \"Feature\", \"geometry\": {\"type\": \"Point\", \"coordinates\": [-73.947698, 40.632886]}}, {\"Accepts EBT\": \"Yes\", \"Borough\": \"Staten Island\", \"Days of Operation\": \"Tuesday\", \"Food Activities for Kids\": \"No\", \"Hours of Operations\": \"4 - 6 p.m.\", \"Latitude\": 40.638983, \"Location Point\": \"(40.638983, -74.097422)\", \"Longitude\": -74.097422, \"Market Name\": \"Goodhue Center Go!Healthy Food Stand\", \"Open Year-Round\": \"No\", \"Season Dates\": \"07/08/2019-11/22/2019\", \"Stellar Cooking Demonstrations\": \"No\", \"Street Address\": \"301 Prospect Ave\", \"type\": \"Feature\", \"geometry\": {\"type\": \"Point\", \"coordinates\": [-74.097422, 40.638983]}}, {\"Accepts EBT\": \"Yes\", \"Borough\": \"Manhattan\", \"Days of Operation\": \"Saturday\", \"Food Activities for Kids\": \"No\", \"Hours of Operations\": \"9 a.m. - 2:30 p.m.\", \"Latitude\": 40.774291999999996, \"Location Point\": \"(40.774292, -73.951262)\", \"Longitude\": -73.951262, \"Market Name\": \"82nd Street Greenmarket\", \"Open Year-Round\": \"Yes\", \"Season Dates\": \"Year-Round\", \"Stellar Cooking Demonstrations\": \"No\", \"Street Address\": \"E 82nd St bet 1st & York Aves\", \"type\": \"Feature\", \"geometry\": {\"type\": \"Point\", \"coordinates\": [-73.951262, 40.774291999999996]}}, {\"Accepts EBT\": \"Yes\", \"Borough\": \"Queens\", \"Days of Operation\": \"Wednesday, Thursday, Friday, Saturday & Sunday\", \"Food Activities for Kids\": \"No\", \"Hours of Operations\": \"11 a.m. - 3 p. m.\", \"Latitude\": 40.748163, \"Location Point\": \"(40.748163, -73.719431)\", \"Longitude\": -73.719431, \"Market Name\": \"Queens County Farm Museum Farm Stand\", \"Open Year-Round\": \"No\", \"Season Dates\": \"05/15/2019-11/03/2019\", \"Stellar Cooking Demonstrations\": \"No\", \"Street Address\": \"73-50 Little Neck Pkwy\", \"type\": \"Feature\", \"geometry\": {\"type\": \"Point\", \"coordinates\": [-73.719431, 40.748163]}}, {\"Accepts EBT\": \"Yes\", \"Borough\": \"Manhattan\", \"Days of Operation\": \"Wednesday,\\nThursday & Friday\", \"Food Activities for Kids\": \"No\", \"Hours of Operations\": \"8 a.m. - 5 p.m.\", \"Latitude\": 40.759065, \"Location Point\": \"(40.759065, -73.97845)\", \"Longitude\": -73.97845, \"Market Name\": \"Rockefeller Center Greenmarket\", \"Open Year-Round\": \"No\", \"Season Dates\": \"Wednesday: 07/24/19-08/28/19; Thursday: 07/25/19-08/29/19; Friday: 07/24/19-8/28/19\", \"Stellar Cooking Demonstrations\": \"No\", \"Street Address\": \"Rockefeller Plaza bet W 49th & 50th\\u00a0Sts (Jul-Aug only)\", \"type\": \"Feature\", \"geometry\": {\"type\": \"Point\", \"coordinates\": [-73.97845, 40.759065]}}, {\"Accepts EBT\": \"Yes\", \"Borough\": \"Bronx\", \"Days of Operation\": \"Tuesday\", \"Food Activities for Kids\": \"No\", \"Hours of Operations\": \"8 a.m. - 4 p.m.\", \"Latitude\": 40.826834999999996, \"Location Point\": \"(40.826835, -73.922621)\", \"Longitude\": -73.92262099999999, \"Market Name\": \"Bronx Borough Hall Greenmarket\", \"Open Year-Round\": \"No\", \"Season Dates\": \"06/04/19-11/26/19\", \"Stellar Cooking Demonstrations\": \"Yes\", \"Street Address\": \"Grand Concourse bet E 161st & 162nd Sts\", \"type\": \"Feature\", \"geometry\": {\"type\": \"Point\", \"coordinates\": [-73.92262099999999, 40.826834999999996]}}, {\"Accepts EBT\": \"Yes\", \"Borough\": \"Brooklyn\", \"Days of Operation\": \"Thursday\", \"Food Activities for Kids\": \"No\", \"Hours of Operations\": \"8 a.m. - 3 p.m.\", \"Latitude\": 40.633696, \"Location Point\": \"(40.633696, -73.989916)\", \"Longitude\": -73.98991600000001, \"Market Name\": \"Borough Park Greenmarket\", \"Open Year-Round\": \"No\", \"Season Dates\": \"07/11/19-11/21/19\", \"Stellar Cooking Demonstrations\": \"No\", \"Street Address\": \"14th Ave bet 49th & 50th Sts\", \"type\": \"Feature\", \"geometry\": {\"type\": \"Point\", \"coordinates\": [-73.98991600000001, 40.633696]}}, {\"Accepts EBT\": \"Yes\", \"Borough\": \"Brooklyn\", \"Days of Operation\": \"Saturday\", \"Food Activities for Kids\": \"No\", \"Hours of Operations\": \"9 a.m. - 2 p.m.\", \"Latitude\": 40.669264, \"Location Point\": \"(40.669264, -73.913554)\", \"Longitude\": -73.913554, \"Market Name\": \"Brownsville Pitkin Youthmarket\", \"Open Year-Round\": \"No\", \"Season Dates\": \"07/13/2019-11/23/2019\", \"Stellar Cooking Demonstrations\": \"No\", \"Street Address\": \"Pitkin Ave & Thomas Boyland St\", \"type\": \"Feature\", \"geometry\": {\"type\": \"Point\", \"coordinates\": [-73.913554, 40.669264]}}, {\"Accepts EBT\": \"Yes\", \"Borough\": \"Brooklyn\", \"Days of Operation\": \"Thursday\", \"Food Activities for Kids\": \"No\", \"Hours of Operations\": \"8 a.m. - 4 p.m.\", \"Latitude\": 40.674007, \"Location Point\": \"(40.674007, -73.944544)\", \"Longitude\": -73.944544, \"Market Name\": \"Harvest Home Brower Park Farm Stand\", \"Open Year-Round\": \"No\", \"Season Dates\": \"06/06/2019-11/14/2019\", \"Stellar Cooking Demonstrations\": \"No\", \"Street Address\": \"Brooklyn Ave & Prospect Pl\", \"type\": \"Feature\", \"geometry\": {\"type\": \"Point\", \"coordinates\": [-73.944544, 40.674007]}}, {\"Accepts EBT\": \"Yes\", \"Borough\": \"Brooklyn\", \"Days of Operation\": \"Saturday\", \"Food Activities for Kids\": \"No\", \"Hours of Operations\": \"10 a.m. - 3 p.m.\", \"Latitude\": 40.672523999999996, \"Location Point\": \"(40.672524, -74.00871)\", \"Longitude\": -74.00871, \"Market Name\": \"Red Hook Farm Stand\", \"Open Year-Round\": \"No\", \"Season Dates\": \"06/22/2019-11/23/2019\", \"Stellar Cooking Demonstrations\": \"No\", \"Street Address\": \"560 Columbia St\", \"type\": \"Feature\", \"geometry\": {\"type\": \"Point\", \"coordinates\": [-74.00871, 40.672523999999996]}}, {\"Accepts EBT\": \"Yes\", \"Borough\": \"Bronx\", \"Days of Operation\": \"Tuesday &\\nFriday\", \"Food Activities for Kids\": \"No\", \"Hours of Operations\": \"8 a.m. - 3 p.m.\", \"Latitude\": 40.818013, \"Location Point\": \"(40.818013, -73.925185)\", \"Longitude\": -73.925185, \"Market Name\": \"Lincoln Hospital Greenmarket\", \"Open Year-Round\": \"No\", \"Season Dates\": \"Tuesday: 07/2/19-11/5/19 (Closed 11/5/19); \\nFriday: 06/28/19-11/22/19\", \"Stellar Cooking Demonstrations\": \"No\", \"Street Address\": \"E 149th St bet Park & Morris Aves\", \"type\": \"Feature\", \"geometry\": {\"type\": \"Point\", \"coordinates\": [-73.925185, 40.818013]}}, {\"Accepts EBT\": \"Yes\", \"Borough\": \"Bronx\", \"Days of Operation\": \"Friday\", \"Food Activities for Kids\": \"No\", \"Hours of Operations\": \"8 a.m. - 4 p.m.\", \"Latitude\": 40.833991999999995, \"Location Point\": \"(40.833992, -73.862148)\", \"Longitude\": -73.862148, \"Market Name\": \"Parkchester Greenmarket\", \"Open Year-Round\": \"No\", \"Season Dates\": \"06/14/19-11/27/19 (11/29 rescheduled to 11/27)\", \"Stellar Cooking Demonstrations\": \"Yes\", \"Street Address\": \"Westchester Ave & White Plains Rd\", \"type\": \"Feature\", \"geometry\": {\"type\": \"Point\", \"coordinates\": [-73.862148, 40.833991999999995]}}, {\"Accepts EBT\": \"Yes\", \"Borough\": \"Brooklyn\", \"Days of Operation\": \"Saturday\", \"Food Activities for Kids\": \"No\", \"Hours of Operations\": \"8 a.m. - 4 p.m.\", \"Latitude\": 40.663812, \"Location Point\": \"(40.663812, -73.962866)\", \"Longitude\": -73.962866, \"Market Name\": \"Grand Army Plaza Greenmarket\", \"Open Year-Round\": \"Yes\", \"Season Dates\": \"Year-Round\", \"Stellar Cooking Demonstrations\": \"No\", \"Street Address\": \"Flatbush Ave & Prospect Park W, at Prospect Park\\u2019s NW Entrance\", \"type\": \"Feature\", \"geometry\": {\"type\": \"Point\", \"coordinates\": [-73.962866, 40.663812]}}, {\"Accepts EBT\": \"Yes\", \"Borough\": \"Brooklyn\", \"Days of Operation\": \"Sunday\", \"Food Activities for Kids\": \"No\", \"Hours of Operations\": \"10 a.m. - 5 p.m.\", \"Latitude\": 40.672194, \"Location Point\": \"(40.672194, -73.983785)\", \"Longitude\": -73.983785, \"Market Name\": \"Park Slope's Down to Earth Farmers Market\", \"Open Year-Round\": \"Yes\", \"Season Dates\": \"Year-Round (summer hours being 05/05/19-11/24/19)\", \"Stellar Cooking Demonstrations\": \"No\", \"Street Address\": \"4th St & 5th Ave\", \"type\": \"Feature\", \"geometry\": {\"type\": \"Point\", \"coordinates\": [-73.983785, 40.672194]}}, {\"Accepts EBT\": \"Yes\", \"Borough\": \"Queens\", \"Days of Operation\": \"Wednesday\", \"Food Activities for Kids\": \"No\", \"Hours of Operations\": \"8 a.m. - 3 p.m.\", \"Latitude\": 40.756357, \"Location Point\": \"(40.756357, -73.825773)\", \"Longitude\": -73.825773, \"Market Name\": \"Flushing Greenmarket\", \"Open Year-Round\": \"No\", \"Season Dates\": \"07/03/19-11/27/19\", \"Stellar Cooking Demonstrations\": \"Yes\", \"Street Address\": \"Kissena Blvd & Maple Ave, at Maple Playground\", \"type\": \"Feature\", \"geometry\": {\"type\": \"Point\", \"coordinates\": [-73.825773, 40.756357]}}, {\"Accepts EBT\": \"Yes\", \"Borough\": \"Brooklyn\", \"Days of Operation\": \"Saturday\", \"Food Activities for Kids\": \"No\", \"Hours of Operations\": \"8 a.m. - 3 p.m.\", \"Latitude\": 40.641434999999994, \"Location Point\": \"(40.641435, -74.017815)\", \"Longitude\": -74.017815, \"Market Name\": \"4th Ave Sunset Park Greenmarket\", \"Open Year-Round\": \"No\", \"Season Dates\": \"07/06/19-11/23/19\", \"Stellar Cooking Demonstrations\": \"Yes\", \"Street Address\": \"4th Ave bet 59th & 60th Sts\", \"type\": \"Feature\", \"geometry\": {\"type\": \"Point\", \"coordinates\": [-74.017815, 40.641434999999994]}}, {\"Accepts EBT\": \"Yes\", \"Borough\": \"Manhattan\", \"Days of Operation\": \"Wednesday &\\nSaturday\", \"Food Activities for Kids\": \"No\", \"Hours of Operations\": \"8 a.m. - 5 p.m.\", \"Latitude\": 40.769117, \"Location Point\": \"(40.769117, -73.988559)\", \"Longitude\": -73.988559, \"Market Name\": \"57th Street Greenmarket\", \"Open Year-Round\": \"No\", \"Season Dates\": \"06/27/19-11/21/19 (Closed 07/04/19)\", \"Stellar Cooking Demonstrations\": \"No\", \"Street Address\": \"W 57th St & 10th Ave\", \"type\": \"Feature\", \"geometry\": {\"type\": \"Point\", \"coordinates\": [-73.988559, 40.769117]}}, {\"Accepts EBT\": \"Yes\", \"Borough\": \"Bronx\", \"Days of Operation\": \"Wednesday\", \"Food Activities for Kids\": \"No\", \"Hours of Operations\": \"8 a.m. - 4 p.m.\", \"Latitude\": 40.879749, \"Location Point\": \"(40.879749, -73.884661)\", \"Longitude\": -73.884661, \"Market Name\": \"Harvest Home North Central Bronx Farmers Market\", \"Open Year-Round\": \"No\", \"Season Dates\": \"06/19/2019-11/19/2019\", \"Stellar Cooking Demonstrations\": \"No\", \"Street Address\": \"Mosholu Pkwy & Jerome Ave\", \"type\": \"Feature\", \"geometry\": {\"type\": \"Point\", \"coordinates\": [-73.884661, 40.879749]}}, {\"Accepts EBT\": \"Yes\", \"Borough\": \"Brooklyn\", \"Days of Operation\": \"Saturday\", \"Food Activities for Kids\": \"No\", \"Hours of Operations\": \"8 a.m. - 3 p.m.\", \"Latitude\": 40.663532000000004, \"Location Point\": \"(40.663532, -73.902236)\", \"Longitude\": -73.902236, \"Market Name\": \"Isabahlia Farmers Market\", \"Open Year-Round\": \"No\", \"Season Dates\": \"06/29/2019-10/26/2019\", \"Stellar Cooking Demonstrations\": \"No\", \"Street Address\": \"410 Livonia Ave\", \"type\": \"Feature\", \"geometry\": {\"type\": \"Point\", \"coordinates\": [-73.902236, 40.663532000000004]}}, {\"Accepts EBT\": \"Yes\", \"Borough\": \"Brooklyn\", \"Days of Operation\": \"Sunday\", \"Food Activities for Kids\": \"No\", \"Hours of Operations\": \"1 - 6 p.m.\", \"Latitude\": 40.690036, \"Location Point\": \"(40.690036, -73.943557)\", \"Longitude\": -73.943557, \"Market Name\": \"Hattie Carthan After Church Farmers Market\", \"Open Year-Round\": \"No\", \"Season Dates\": \"08/04/2019-11/17/2019\", \"Stellar Cooking Demonstrations\": \"No\", \"Street Address\": \"49 Van Buren St\", \"type\": \"Feature\", \"geometry\": {\"type\": \"Point\", \"coordinates\": [-73.943557, 40.690036]}}, {\"Accepts EBT\": \"Yes\", \"Borough\": \"Manhattan\", \"Days of Operation\": \"Thursday\", \"Food Activities for Kids\": \"No\", \"Hours of Operations\": \"8:30 a.m. - 2 p.m.\", \"Latitude\": 40.712905, \"Location Point\": \"(40.712905, -73.986928)\", \"Longitude\": -73.986928, \"Market Name\": \"Gouverneur Health Youthmarket\", \"Open Year-Round\": \"No\", \"Season Dates\": \"06/04/19-11/26/19\", \"Stellar Cooking Demonstrations\": \"No\", \"Street Address\": \"Madison St bet Clinton & Jefferson Sts\", \"type\": \"Feature\", \"geometry\": {\"type\": \"Point\", \"coordinates\": [-73.986928, 40.712905]}}, {\"Accepts EBT\": \"Yes\", \"Borough\": \"Queens\", \"Days of Operation\": \"Saturday\", \"Food Activities for Kids\": \"No\", \"Hours of Operations\": \"11 a.m. - 4 p.m.\", \"Latitude\": 40.752096, \"Location Point\": \"(40.752096, -73.925887)\", \"Longitude\": -73.925887, \"Market Name\": \"Brooklyn Grange Farm Stand at Long Island City\", \"Open Year-Round\": \"No\", \"Season Dates\": \"05/25/19-10/26/19\", \"Stellar Cooking Demonstrations\": \"No\", \"Street Address\": \"37-18 Northern Blvd (Rooftop)\", \"type\": \"Feature\", \"geometry\": {\"type\": \"Point\", \"coordinates\": [-73.925887, 40.752096]}}, {\"Accepts EBT\": \"Yes\", \"Borough\": \"Manhattan\", \"Days of Operation\": \"Thursday & Sunday\", \"Food Activities for Kids\": \"No\", \"Hours of Operations\": \"8 a.m. - 5 p.m.\", \"Latitude\": 40.806707, \"Location Point\": \"(40.806707, -73.964849)\", \"Longitude\": -73.964849, \"Market Name\": \"Columbia University Greenmarket\", \"Open Year-Round\": \"Yes\", \"Season Dates\": \"Year-Round (Closed 07/04/19 & 11/28/19- open 11/26/19)\", \"Stellar Cooking Demonstrations\": \"No\", \"Street Address\": \"Broadway & W 114th St\", \"type\": \"Feature\", \"geometry\": {\"type\": \"Point\", \"coordinates\": [-73.964849, 40.806707]}}, {\"Accepts EBT\": \"Yes\", \"Borough\": \"Manhattan\", \"Days of Operation\": \"Thursday\", \"Food Activities for Kids\": \"No\", \"Hours of Operations\": \"8 a.m. - 4 p.m.\", \"Latitude\": 40.845948, \"Location Point\": \"(40.845948, -73.937811)\", \"Longitude\": -73.937811, \"Market Name\": \"175th Street Greenmarket\", \"Open Year-Round\": \"No\", \"Season Dates\": \"Year-Round\", \"Stellar Cooking Demonstrations\": \"Yes\", \"Street Address\": \"W 175th St bet Wadsworth Ave & Broadway\", \"type\": \"Feature\", \"geometry\": {\"type\": \"Point\", \"coordinates\": [-73.937811, 40.845948]}}, {\"Accepts EBT\": \"Yes\", \"Borough\": \"Bronx\", \"Days of Operation\": \"Wednesday\", \"Food Activities for Kids\": \"No\", \"Hours of Operations\": \"2 - 7 p.m.\", \"Latitude\": 40.884532, \"Location Point\": \"(40.884532, -73.892172)\", \"Longitude\": -73.892172, \"Market Name\": \"Friends of Van Cortlandt Park Amalgamated Housing Youth Farmstand\", \"Open Year-Round\": \"No\", \"Season Dates\": \"07/10/2019-08/21/2019\", \"Stellar Cooking Demonstrations\": \"No\", \"Street Address\": \"Orloff Ave & Gale Pl\", \"type\": \"Feature\", \"geometry\": {\"type\": \"Point\", \"coordinates\": [-73.892172, 40.884532]}}, {\"Accepts EBT\": \"Yes\", \"Borough\": \"Brooklyn\", \"Days of Operation\": \"Saturday\", \"Food Activities for Kids\": \"No\", \"Hours of Operations\": \"9 a.m. - 3 p.m.\", \"Latitude\": 40.665296000000005, \"Location Point\": \"(40.665296, -73.886557)\", \"Longitude\": -73.886557, \"Market Name\": \"East New York Farmers Market\", \"Open Year-Round\": \"No\", \"Season Dates\": \"07/05/2019-10/30/2019\", \"Stellar Cooking Demonstrations\": \"Yes\", \"Street Address\": \"Schenck Ave bet New Lots & Livonia Aves\", \"type\": \"Feature\", \"geometry\": {\"type\": \"Point\", \"coordinates\": [-73.886557, 40.665296000000005]}}, {\"Accepts EBT\": \"Yes\", \"Borough\": \"Manhattan\", \"Days of Operation\": \"Thursday\", \"Food Activities for Kids\": \"No\", \"Hours of Operations\": \"8 a.m. - 3 p.m.\", \"Latitude\": 40.714932, \"Location Point\": \"(40.714932, -73.983338)\", \"Longitude\": -73.983338, \"Market Name\": \"Lower East Side Youthmarket\", \"Open Year-Round\": \"No\", \"Season Dates\": \"Year-Round\", \"Stellar Cooking Demonstrations\": \"No\", \"Street Address\": \"Grand Ave bet Pitt & Willet Sts\", \"type\": \"Feature\", \"geometry\": {\"type\": \"Point\", \"coordinates\": [-73.983338, 40.714932]}}, {\"Accepts EBT\": \"No\", \"Borough\": \"Manhattan\", \"Days of Operation\": \"Wednesday\", \"Food Activities for Kids\": \"No\", \"Hours of Operations\": \"8-10 a.m.\", \"Latitude\": 40.744006, \"Location Point\": \"(40.744006, -73.999415)\", \"Longitude\": -73.999415, \"Market Name\": \"PS 11 Farm Market\", \"Open Year-Round\": \"No\", \"Season Dates\": \"06/05/2019-11/13/2019 (Open through summer)\", \"Stellar Cooking Demonstrations\": \"No\", \"Street Address\": \"W 21st St bet 8th & 9th Aves\", \"type\": \"Feature\", \"geometry\": {\"type\": \"Point\", \"coordinates\": [-73.999415, 40.744006]}}, {\"Accepts EBT\": \"Yes\", \"Borough\": \"Manhattan\", \"Days of Operation\": \"Thursday\", \"Food Activities for Kids\": \"No\", \"Hours of Operations\": \"8 a.m. - 4 p.m.\", \"Latitude\": 40.790253, \"Location Point\": \"(40.790253, -73.945635)\", \"Longitude\": -73.945635, \"Market Name\": \"Harvest Home East Harlem Farmers Market\", \"Open Year-Round\": \"No\", \"Season Dates\": \"06/04/2019-11/19/2019\", \"Stellar Cooking Demonstrations\": \"No\", \"Street Address\": \"104th St & 3rd Ave\", \"type\": \"Feature\", \"geometry\": {\"type\": \"Point\", \"coordinates\": [-73.945635, 40.790253]}}, {\"Accepts EBT\": \"Yes\", \"Borough\": \"Brooklyn\", \"Days of Operation\": \"Saturday\", \"Food Activities for Kids\": \"No\", \"Hours of Operations\": \"9 a.m. - 2 p.m.\", \"Latitude\": 40.678543, \"Location Point\": \"(40.678543, -73.915816)\", \"Longitude\": -73.915816, \"Market Name\": \"Saratoga Farm Stand\", \"Open Year-Round\": \"No\", \"Season Dates\": \"07/06/2019-11/16/2019\", \"Stellar Cooking Demonstrations\": \"No\", \"Street Address\": \"2046-2050 Fulton St\", \"type\": \"Feature\", \"geometry\": {\"type\": \"Point\", \"coordinates\": [-73.915816, 40.678543]}}, {\"Accepts EBT\": \"Yes\", \"Borough\": \"Manhattan\", \"Days of Operation\": \"Sunday\", \"Food Activities for Kids\": \"No\", \"Hours of Operations\": \"9 a.m. - 6 p.m.\", \"Latitude\": 40.726054, \"Location Point\": \"(40.726054, -73.983534)\", \"Longitude\": -73.98353399999999, \"Market Name\": \"Tompkins Square Greenmarket\", \"Open Year-Round\": \"Yes\", \"Season Dates\": \"Year-Round\", \"Stellar Cooking Demonstrations\": \"No\", \"Street Address\": \"E 7th St & Avenue A\", \"type\": \"Feature\", \"geometry\": {\"type\": \"Point\", \"coordinates\": [-73.98353399999999, 40.726054]}}, {\"Accepts EBT\": \"Yes\", \"Borough\": \"Queens\", \"Days of Operation\": \"Saturday\", \"Food Activities for Kids\": \"No\", \"Hours of Operations\": \"8 a.m. - 3 p.m.\", \"Latitude\": 40.700123, \"Location Point\": \"(40.700123, -73.90621)\", \"Longitude\": -73.90621, \"Market Name\": \"Ridgewood Youthmarket\", \"Open Year-Round\": \"No\", \"Season Dates\": \"07/13/2019-11/23/2019\", \"Stellar Cooking Demonstrations\": \"No\", \"Street Address\": \"Cypress Ave bet Myrtle & Putnam Aves\", \"type\": \"Feature\", \"geometry\": {\"type\": \"Point\", \"coordinates\": [-73.90621, 40.700123]}}, {\"Accepts EBT\": \"No\", \"Borough\": \"Staten Island\", \"Days of Operation\": \"Sunday\", \"Food Activities for Kids\": \"No\", \"Hours of Operations\": \"11:30 a.m. - 2 p.m.\", \"Latitude\": 40.6399, \"Location Point\": \"(40.6399, -74.090293)\", \"Longitude\": -74.090293, \"Market Name\": \"HEALTH for Youths Farm Stand\", \"Open Year-Round\": \"No\", \"Season Dates\": \"04/28/2019-11/24/2019\", \"Stellar Cooking Demonstrations\": \"No\", \"Street Address\": \"Clyde Pl bet Prospect & Harvard Aves\", \"type\": \"Feature\", \"geometry\": {\"type\": \"Point\", \"coordinates\": [-74.090293, 40.6399]}}, {\"Accepts EBT\": \"Yes\", \"Borough\": \"Bronx\", \"Days of Operation\": \"Thursday\", \"Food Activities for Kids\": \"Yes\", \"Hours of Operations\": \"9:30 a.m. - 3:30 p.m.\", \"Latitude\": 40.833734, \"Location Point\": \"(40.833734, -73.889934)\", \"Longitude\": -73.889934, \"Market Name\": \"Bronx Family Center Go!Healthy Farm Stand\", \"Open Year-Round\": \"No\", \"Season Dates\": \"07/11/2019-11/21/2019\", \"Stellar Cooking Demonstrations\": \"No\", \"Street Address\": \"1515 Southern Blvd\", \"type\": \"Feature\", \"geometry\": {\"type\": \"Point\", \"coordinates\": [-73.889934, 40.833734]}}, {\"Accepts EBT\": \"Yes\", \"Borough\": \"Manhattan\", \"Days of Operation\": \"Tuesday & Friday\", \"Food Activities for Kids\": \"No\", \"Hours of Operations\": \"8 a.m. - 4 p.m.\", \"Latitude\": 40.714165, \"Location Point\": \"(40.714165, -74.006309)\", \"Longitude\": -74.006309, \"Market Name\": \"City Hall Greenmarket\", \"Open Year-Round\": \"Yes\", \"Season Dates\": \"Year-Round (Closed 11/28/19- open 11/26/19 & 11/27/19)\", \"Stellar Cooking Demonstrations\": \"No\", \"Street Address\": \"Broadway & Chambers St\", \"type\": \"Feature\", \"geometry\": {\"type\": \"Point\", \"coordinates\": [-74.006309, 40.714165]}}, {\"Accepts EBT\": \"Yes\", \"Borough\": \"Brooklyn\", \"Days of Operation\": \"Sunday\", \"Food Activities for Kids\": \"No\", \"Hours of Operations\": \"8 a.m. - 2 p.m.\", \"Latitude\": 40.681059999999995, \"Location Point\": \"(40.68106, -73.996528)\", \"Longitude\": -73.996528, \"Market Name\": \"Carroll Gardens Greenmarket\", \"Open Year-Round\": \"Yes\", \"Season Dates\": \"Year-Round (Closed 04/21/19)\", \"Stellar Cooking Demonstrations\": \"No\", \"Street Address\": \"Carroll St bet Smith & Court Sts\", \"type\": \"Feature\", \"geometry\": {\"type\": \"Point\", \"coordinates\": [-73.996528, 40.681059999999995]}}, {\"Accepts EBT\": \"Yes\", \"Borough\": \"Queens\", \"Days of Operation\": \"Friday\", \"Food Activities for Kids\": \"No\", \"Hours of Operations\": \"8 a.m. - 3 p.m.\", \"Latitude\": 40.749811, \"Location Point\": \"(40.749811, -73.861668)\", \"Longitude\": -73.86166800000001, \"Market Name\": \"Corona Greenmarket\", \"Open Year-Round\": \"No\", \"Season Dates\": \"06/21/19-11/22/19\", \"Stellar Cooking Demonstrations\": \"Yes\", \"Street Address\": \"Roosevelt Ave & 104th St\", \"type\": \"Feature\", \"geometry\": {\"type\": \"Point\", \"coordinates\": [-73.86166800000001, 40.749811]}}, {\"Accepts EBT\": \"Yes\", \"Borough\": \"Queens\", \"Days of Operation\": \"Saturday\", \"Food Activities for Kids\": \"No\", \"Hours of Operations\": \"8:30 a.m. - 4 p.m.\", \"Latitude\": 40.703752, \"Location Point\": \"(40.703752, -73.799149)\", \"Longitude\": -73.799149, \"Market Name\": \"Jamaica's Down to Earth Farmers Market- Saturday market\", \"Open Year-Round\": \"No\", \"Season Dates\": \"6/15/19-11/23/19\", \"Stellar Cooking Demonstrations\": \"No\", \"Street Address\": \"160th St & Jamaica Ave\", \"type\": \"Feature\", \"geometry\": {\"type\": \"Point\", \"coordinates\": [-73.799149, 40.703752]}}, {\"Accepts EBT\": \"Yes\", \"Borough\": \"Brooklyn\", \"Days of Operation\": \"Wednesday\", \"Food Activities for Kids\": \"No\", \"Hours of Operations\": \"8 a.m. - 4 p.m.\", \"Latitude\": 40.655828, \"Location Point\": \"(40.655828, -73.943355)\", \"Longitude\": -73.94335500000001, \"Market Name\": \"Harvest Home Kings County Hospital Farmers Market\", \"Open Year-Round\": \"No\", \"Season Dates\": \"06/05/2019-11/20/2019\", \"Stellar Cooking Demonstrations\": \"No\", \"Street Address\": \"Clarkson Ave bet E 37th & 38th Sts\", \"type\": \"Feature\", \"geometry\": {\"type\": \"Point\", \"coordinates\": [-73.94335500000001, 40.655828]}}, {\"Accepts EBT\": \"Yes\", \"Borough\": \"Brooklyn\", \"Days of Operation\": \"Thursday\", \"Food Activities for Kids\": \"No\", \"Hours of Operations\": \"12 - 5 p.m.\", \"Latitude\": 40.689879, \"Location Point\": \"(40.689879, -73.905298)\", \"Longitude\": -73.905298, \"Market Name\": \"RB Pop Up Farm Stand\", \"Open Year-Round\": \"No\", \"Season Dates\": \"05/23/2019-11/21/2019\", \"Stellar Cooking Demonstrations\": \"No\", \"Street Address\": \"215 Cooper St\", \"type\": \"Feature\", \"geometry\": {\"type\": \"Point\", \"coordinates\": [-73.905298, 40.689879]}}, {\"Accepts EBT\": \"Yes\", \"Borough\": \"Bronx\", \"Days of Operation\": \"Monday\", \"Food Activities for Kids\": \"No\", \"Hours of Operations\": \"9 a.m. - 3 p.m.\", \"Latitude\": 40.809973, \"Location Point\": \"(40.809973, -73.916434)\", \"Longitude\": -73.916434, \"Market Name\": \"Mott Haven Farmers Market\", \"Open Year-Round\": \"No\", \"Season Dates\": \"07/08/2019-11/18/2019\", \"Stellar Cooking Demonstrations\": \"No\", \"Street Address\": \"545 E 142nd St\", \"type\": \"Feature\", \"geometry\": {\"type\": \"Point\", \"coordinates\": [-73.916434, 40.809973]}}, {\"Accepts EBT\": \"Yes\", \"Borough\": \"Manhattan\", \"Days of Operation\": \"Thursday\", \"Food Activities for Kids\": \"No\", \"Hours of Operations\": \"8:30 a.m. - 4 p.m.\", \"Latitude\": 40.755158, \"Location Point\": \"(40.755158, -74.000502)\", \"Longitude\": -74.000502, \"Market Name\": \"Hudson Yards Down to Earth Farmers Market\", \"Open Year-Round\": \"No\", \"Season Dates\": \"06/04/2019-11/15/2019\", \"Stellar Cooking Demonstrations\": \"No\", \"Street Address\": \"W 34th St & Hudson Blvd East\", \"type\": \"Feature\", \"geometry\": {\"type\": \"Point\", \"coordinates\": [-74.000502, 40.755158]}}, {\"Accepts EBT\": \"Yes\", \"Borough\": \"Brooklyn\", \"Days of Operation\": \"Saturday\", \"Food Activities for Kids\": \"No\", \"Hours of Operations\": \"9 a.m. - 3 p.m.\", \"Latitude\": 40.689510999999996, \"Location Point\": \"(40.689511, -73.948039)\", \"Longitude\": -73.948039, \"Market Name\": \"Hattie Carthan Community Farmers Market\", \"Open Year-Round\": \"No\", \"Season Dates\": \"07/13/2019-11/16/2019\", \"Stellar Cooking Demonstrations\": \"No\", \"Street Address\": \"Marcy Ave & Clifton Pl\", \"type\": \"Feature\", \"geometry\": {\"type\": \"Point\", \"coordinates\": [-73.948039, 40.689510999999996]}}, {\"Accepts EBT\": \"Yes\", \"Borough\": \"Brooklyn\", \"Days of Operation\": \"Thursday\", \"Food Activities for Kids\": \"No\", \"Hours of Operations\": \"8 a.m. - 4 p.m.\", \"Latitude\": 40.706998, \"Location Point\": \"(40.706998, -73.961364)\", \"Longitude\": -73.961364, \"Market Name\": \"South Williamsburg Greenmarket\", \"Open Year-Round\": \"No\", \"Season Dates\": \"07/11/19-11/28/19 (Closed 11/28/19 rescheduled 11/26/19)\", \"Stellar Cooking Demonstrations\": \"No\", \"Street Address\": \"Taylor St & Lee Ave\", \"type\": \"Feature\", \"geometry\": {\"type\": \"Point\", \"coordinates\": [-73.961364, 40.706998]}}, {\"Accepts EBT\": \"Yes\", \"Borough\": \"Bronx\", \"Days of Operation\": \"Wednesday\", \"Food Activities for Kids\": \"No\", \"Hours of Operations\": \"10 a.m. -3 p.m.\", \"Latitude\": 40.831117, \"Location Point\": \"(40.831117, -73.90071)\", \"Longitude\": -73.90071, \"Market Name\": \"Learn It Grow It Eat It Youthmarket\", \"Open Year-Round\": \"No\", \"Season Dates\": \"07/10/2019-11/27/2019\", \"Stellar Cooking Demonstrations\": \"No\", \"Street Address\": \"E 169th St & Boston Rd, at McKinley Square\", \"type\": \"Feature\", \"geometry\": {\"type\": \"Point\", \"coordinates\": [-73.90071, 40.831117]}}, {\"Accepts EBT\": \"Yes\", \"Borough\": \"Queens\", \"Days of Operation\": \"Friday\", \"Food Activities for Kids\": \"No\", \"Hours of Operations\": \"8:30 a.m. - 4 p.m.\", \"Latitude\": 40.75186, \"Location Point\": \"(40.75186, -73.826362)\", \"Longitude\": -73.826362, \"Market Name\": \"Queens Botanical Garden's Down to Earth Farmers Market\", \"Open Year-Round\": \"No\", \"Season Dates\": \"6/14/19-11/22/19\", \"Stellar Cooking Demonstrations\": \"No\", \"Street Address\": \"82 Dahlia Ave\", \"type\": \"Feature\", \"geometry\": {\"type\": \"Point\", \"coordinates\": [-73.826362, 40.75186]}}, {\"Accepts EBT\": \"Yes\", \"Borough\": \"Brooklyn\", \"Days of Operation\": \"Sunday\", \"Food Activities for Kids\": \"No\", \"Hours of Operations\": \"9 a.m.  - 4 p.m.\", \"Latitude\": 40.609951, \"Location Point\": \"(40.609951, -73.999456)\", \"Longitude\": -73.99945600000001, \"Market Name\": \"Bensonhurst Greenmarket\", \"Open Year-Round\": \"No\", \"Season Dates\": \"06/02/19-11/24/19\", \"Stellar Cooking Demonstrations\": \"No\", \"Street Address\": \"81st St & 18th Ave\", \"type\": \"Feature\", \"geometry\": {\"type\": \"Point\", \"coordinates\": [-73.99945600000001, 40.609951]}}, {\"Accepts EBT\": \"Yes\", \"Borough\": \"Bronx\", \"Days of Operation\": \"Tuesday & Thursday\", \"Food Activities for Kids\": \"No\", \"Hours of Operations\": \"8 a.m. - 4 p.m.\", \"Latitude\": 40.842924, \"Location Point\": \"(40.842924, -73.909558)\", \"Longitude\": -73.90955799999999, \"Market Name\": \"Harvest Home Mt. Eden Farmers Market\", \"Open Year-Round\": \"No\", \"Season Dates\": \"06/11/2019-11/19/2019\", \"Stellar Cooking Demonstrations\": \"No\", \"Street Address\": \"Mt Eden & Morris Aves\", \"type\": \"Feature\", \"geometry\": {\"type\": \"Point\", \"coordinates\": [-73.90955799999999, 40.842924]}}, {\"Accepts EBT\": \"Yes\", \"Borough\": \"Manhattan\", \"Days of Operation\": \"Sunday\", \"Food Activities for Kids\": \"No\", \"Hours of Operations\": \"9 a.m. - 5 p.m.\", \"Latitude\": 40.781273999999996, \"Location Point\": \"(40.781274, -73.975995)\", \"Longitude\": -73.975995, \"Market Name\": \"79th Street Greenmarket\", \"Open Year-Round\": \"Yes\", \"Season Dates\": \"Wednesday: 05/30/19-11/21/19; \\nSaturday: 06/02/19-11/17/19\", \"Stellar Cooking Demonstrations\": \"No\", \"Street Address\": \"Columbus Ave bet W 78th & 81st Sts\", \"type\": \"Feature\", \"geometry\": {\"type\": \"Point\", \"coordinates\": [-73.975995, 40.781273999999996]}}, {\"Accepts EBT\": \"Yes\", \"Borough\": \"Brooklyn\", \"Days of Operation\": \"Saturday\", \"Food Activities for Kids\": \"No\", \"Hours of Operations\": \"8 a.m. - 5 p.m.\", \"Latitude\": 40.702345, \"Location Point\": \"(40.702345, -73.942381)\", \"Longitude\": -73.94238100000001, \"Market Name\": \"Graham Avenue Farmers Market\", \"Open Year-Round\": \"No\", \"Season Dates\": \"07/06/2019-10/26/2019\", \"Stellar Cooking Demonstrations\": \"Yes\", \"Street Address\": \"Cook St & Graham Ave\", \"type\": \"Feature\", \"geometry\": {\"type\": \"Point\", \"coordinates\": [-73.94238100000001, 40.702345]}}, {\"Accepts EBT\": \"Yes\", \"Borough\": \"Manhattan\", \"Days of Operation\": \"Wednesday\", \"Food Activities for Kids\": \"No\", \"Hours of Operations\": \"3:30 - 6 p.m.\", \"Latitude\": 40.802316999999995, \"Location Point\": \"(40.802317, -73.946351)\", \"Longitude\": -73.946351, \"Market Name\": \"Milbank Center Go!Healthy Farm Stand\", \"Open Year-Round\": \"No\", \"Season Dates\": \"07/11/2019-11/21/2019\", \"Stellar Cooking Demonstrations\": \"No\", \"Street Address\": \"18-32 W 118th St\", \"type\": \"Feature\", \"geometry\": {\"type\": \"Point\", \"coordinates\": [-73.946351, 40.802316999999995]}}, {\"Accepts EBT\": \"Yes\", \"Borough\": \"Manhattan\", \"Days of Operation\": \"Tuesday &\\nSaturday\", \"Food Activities for Kids\": \"No\", \"Hours of Operations\": \"9 a.m. - 4 p.m.\", \"Latitude\": 40.823646999999994, \"Location Point\": \"(40.823647, -73.943844)\", \"Longitude\": -73.943844, \"Market Name\": \"Grass Roots Farmers Market\", \"Open Year-Round\": \"No\", \"Season Dates\": \"07/11/2019-11/21/2019\", \"Stellar Cooking Demonstrations\": \"No\", \"Street Address\": \"W 145th St bet Edgecombe & Bradhurst Aves, at Jackie Robinson Park\", \"type\": \"Feature\", \"geometry\": {\"type\": \"Point\", \"coordinates\": [-73.943844, 40.823646999999994]}}, {\"Accepts EBT\": \"Yes\", \"Borough\": \"Manhattan\", \"Days of Operation\": \"Wednesday\", \"Food Activities for Kids\": \"No\", \"Hours of Operations\": \"9 a.m. - 4 p.m.\", \"Latitude\": 40.797261, \"Location Point\": \"(40.797261, -73.940519)\", \"Longitude\": -73.940519, \"Market Name\": \"PS 57 Youthmarket\", \"Open Year-Round\": \"No\", \"Season Dates\": \"07/10/2019-11/27/2019\", \"Stellar Cooking Demonstrations\": \"No\", \"Street Address\": \"E 115th St & 3rd Ave\", \"type\": \"Feature\", \"geometry\": {\"type\": \"Point\", \"coordinates\": [-73.940519, 40.797261]}}, {\"Accepts EBT\": \"Yes\", \"Borough\": \"Brooklyn\", \"Days of Operation\": \"Friday\", \"Food Activities for Kids\": \"No\", \"Hours of Operations\": \"1:45-2:45 p.m.\", \"Latitude\": 40.590649, \"Location Point\": \"(40.590649, -73.969298)\", \"Longitude\": -73.969298, \"Market Name\": \"Edible Schoolyard NYC's Farm Stand at PS 216\", \"Open Year-Round\": \"No\", \"Season Dates\": \"05/03/2019-06/28/2019; 09/06/2019-11/22/2019\", \"Stellar Cooking Demonstrations\": \"No\", \"Street Address\": \"E 1st St & Avenue X\", \"type\": \"Feature\", \"geometry\": {\"type\": \"Point\", \"coordinates\": [-73.969298, 40.590649]}}, {\"Accepts EBT\": \"Yes\", \"Borough\": \"Bronx\", \"Days of Operation\": \"Wednesday\", \"Food Activities for Kids\": \"No\", \"Hours of Operations\": \"9 a.m.  - 5 p.m.\", \"Latitude\": 40.853237, \"Location Point\": \"(40.853237, -73.891742)\", \"Longitude\": -73.89174200000001, \"Market Name\": \"St. Barnabas Hospital Farm Stand\", \"Open Year-Round\": \"No\", \"Season Dates\": null, \"Stellar Cooking Demonstrations\": \"No\", \"Street Address\": \"4487 3rd Ave\", \"type\": \"Feature\", \"geometry\": {\"type\": \"Point\", \"coordinates\": [-73.89174200000001, 40.853237]}}, {\"Accepts EBT\": \"Yes\", \"Borough\": \"Brooklyn\", \"Days of Operation\": \"Saturday\", \"Food Activities for Kids\": \"No\", \"Hours of Operations\": \"8 a.m. - 3 p.m.\", \"Latitude\": 40.645109999999995, \"Location Point\": \"(40.64511, -73.979882)\", \"Longitude\": -73.97988199999999, \"Market Name\": \"Kensington Youthmarket\", \"Open Year-Round\": \"No\", \"Season Dates\": \"07/13/2019-11/23/2019\", \"Stellar Cooking Demonstrations\": \"No\", \"Street Address\": \"McDonald Ave & Albemarle Rd\", \"type\": \"Feature\", \"geometry\": {\"type\": \"Point\", \"coordinates\": [-73.97988199999999, 40.645109999999995]}}, {\"Accepts EBT\": \"Yes\", \"Borough\": \"Queens\", \"Days of Operation\": \"Sunday\", \"Food Activities for Kids\": \"No\", \"Hours of Operations\": \"9 a.m. - 2 p.m.\", \"Latitude\": 40.731082, \"Location Point\": \"(40.731082, -73.773997)\", \"Longitude\": -73.773997, \"Market Name\": \"Cunningham Park's Down to Earth Farmers Market\", \"Open Year-Round\": \"No\", \"Season Dates\": \"5/12/19-11/24/19\", \"Stellar Cooking Demonstrations\": \"No\", \"Street Address\": \"Union Tpk & 196 Pl\", \"type\": \"Feature\", \"geometry\": {\"type\": \"Point\", \"coordinates\": [-73.773997, 40.731082]}}, {\"Accepts EBT\": \"Yes\", \"Borough\": \"Bronx\", \"Days of Operation\": \"Tuesday\", \"Food Activities for Kids\": \"No\", \"Hours of Operations\": \"8 a.m. - 3 p.m.\", \"Latitude\": 40.864216, \"Location Point\": \"(40.864216, -73.895795)\", \"Longitude\": -73.89579499999999, \"Market Name\": \"Poe Park Greenmarket\", \"Open Year-Round\": \"No\", \"Season Dates\": \"06/25/19-11/26/19\", \"Stellar Cooking Demonstrations\": \"Yes\", \"Street Address\": \"E 192 St & Grand Concourse\", \"type\": \"Feature\", \"geometry\": {\"type\": \"Point\", \"coordinates\": [-73.89579499999999, 40.864216]}}, {\"Accepts EBT\": \"Yes\", \"Borough\": \"Bronx\", \"Days of Operation\": \"Wednesday\", \"Food Activities for Kids\": \"No\", \"Hours of Operations\": \"8 a.m. - 4 p.m.\", \"Latitude\": 40.870249, \"Location Point\": \"(40.870249, -73.830963)\", \"Longitude\": -73.830963, \"Market Name\": \"Harvest Home Co-op City Farm Stand\", \"Open Year-Round\": \"No\", \"Season Dates\": \"06/05/2019-11/20/2019\", \"Stellar Cooking Demonstrations\": \"No\", \"Street Address\": \"Asch Loop & Aldrich St\", \"type\": \"Feature\", \"geometry\": {\"type\": \"Point\", \"coordinates\": [-73.830963, 40.870249]}}, {\"Accepts EBT\": \"Yes\", \"Borough\": \"Manhattan\", \"Days of Operation\": \"Friday\", \"Food Activities for Kids\": \"No\", \"Hours of Operations\": \"8 a.m. - 2 p.m.\", \"Latitude\": 40.793558000000004, \"Location Point\": \"(40.793558, -73.967016)\", \"Longitude\": -73.967016, \"Market Name\": \"97th Street Greenmarket\", \"Open Year-Round\": \"Yes\", \"Season Dates\": \"06/24/19-11/18/19\", \"Stellar Cooking Demonstrations\": \"No\", \"Street Address\": \"W 97th St bet Columbus & Amsterdam Aves\", \"type\": \"Feature\", \"geometry\": {\"type\": \"Point\", \"coordinates\": [-73.967016, 40.793558000000004]}}, {\"Accepts EBT\": \"Yes\", \"Borough\": \"Queens\", \"Days of Operation\": \"Sunday\", \"Food Activities for Kids\": \"No\", \"Hours of Operations\": \"8 a.m. - 2 p.m.\", \"Latitude\": 40.72188, \"Location Point\": \"(40.72188, -73.846383)\", \"Longitude\": -73.84638299999999, \"Market Name\": \"Forest Hills Greenmarket\", \"Open Year-Round\": \"Yes\", \"Season Dates\": \"Year-Round\", \"Stellar Cooking Demonstrations\": \"No\", \"Street Address\": \"70th Ave & Queens Blvd\", \"type\": \"Feature\", \"geometry\": {\"type\": \"Point\", \"coordinates\": [-73.84638299999999, 40.72188]}}, {\"Accepts EBT\": \"Yes\", \"Borough\": \"Brooklyn\", \"Days of Operation\": \"Sunday\", \"Food Activities for Kids\": \"No\", \"Hours of Operations\": \"10 a.m. - 4 p.m.\", \"Latitude\": 40.725617, \"Location Point\": \"(40.725617, -73.944497)\", \"Longitude\": -73.944497, \"Market Name\": \"McGolrick Park's Down to Earth Farmers Market\", \"Open Year-Round\": \"No\", \"Season Dates\": \"5/12/19-11/24/19\", \"Stellar Cooking Demonstrations\": \"No\", \"Street Address\": \"Russell St & Nassau Ave, center of park\", \"type\": \"Feature\", \"geometry\": {\"type\": \"Point\", \"coordinates\": [-73.944497, 40.725617]}}, {\"Accepts EBT\": \"Yes\", \"Borough\": \"Manhattan\", \"Days of Operation\": \"Wednesday\", \"Food Activities for Kids\": \"No\", \"Hours of Operations\": \"8 a.m. - 4 p.m.\", \"Latitude\": 40.752998999999996, \"Location Point\": \"(40.752999, -73.969887)\", \"Longitude\": -73.969887, \"Market Name\": \"Dag Hammarskjold Plaza Greenmarket\", \"Open Year-Round\": \"Yes\", \"Season Dates\": \"Year-Round (Closed 09/26/19 & 11/25/19)\", \"Stellar Cooking Demonstrations\": \"No\", \"Street Address\": \"E 47th St & 2nd Ave\", \"type\": \"Feature\", \"geometry\": {\"type\": \"Point\", \"coordinates\": [-73.969887, 40.752998999999996]}}, {\"Accepts EBT\": \"Yes\", \"Borough\": \"Brooklyn\", \"Days of Operation\": \"Sunday\", \"Food Activities for Kids\": \"No\", \"Hours of Operations\": \"8 a.m. - 3 p.m.\", \"Latitude\": 40.640825, \"Location Point\": \"(40.640825, -73.965301)\", \"Longitude\": -73.965301, \"Market Name\": \"Cortelyou Greenmarket\", \"Open Year-Round\": \"Yes\", \"Season Dates\": \"Year-Round\", \"Stellar Cooking Demonstrations\": \"No\", \"Street Address\": \"Cortelyou & Rugby Rds\", \"type\": \"Feature\", \"geometry\": {\"type\": \"Point\", \"coordinates\": [-73.965301, 40.640825]}}, {\"Accepts EBT\": \"Yes\", \"Borough\": \"Brooklyn\", \"Days of Operation\": \"Saturday\", \"Food Activities for Kids\": \"No\", \"Hours of Operations\": \"8 a.m. - 3 p.m.\", \"Latitude\": 40.617278000000006, \"Location Point\": \"(40.617278, -74.033588)\", \"Longitude\": -74.033588, \"Market Name\": \"Bay Ridge Greenmarket\", \"Open Year-Round\": \"No\", \"Season Dates\": \"05/04/19-11/23/19\", \"Stellar Cooking Demonstrations\": \"No\", \"Street Address\": \"95th St & 3rd Ave\", \"type\": \"Feature\", \"geometry\": {\"type\": \"Point\", \"coordinates\": [-74.033588, 40.617278000000006]}}, {\"Accepts EBT\": \"Yes\", \"Borough\": \"Brooklyn\", \"Days of Operation\": \"Wednesday & Saturday\", \"Food Activities for Kids\": \"No\", \"Hours of Operations\": \"(W) 2:30-6:30 p.m.; (S) 12 - 4 p.m.\", \"Latitude\": 40.658893, \"Location Point\": \"(40.658893, -73.942458)\", \"Longitude\": -73.942458, \"Market Name\": \"High School for Public Service Youth Farm Farmers Market\", \"Open Year-Round\": \"No\", \"Season Dates\": \"(W): 06/19/2019-10/30/2019; (S): 07/13/2019-08/03/2019\", \"Stellar Cooking Demonstrations\": \"No\", \"Street Address\": \"600 Kingston Ave\", \"type\": \"Feature\", \"geometry\": {\"type\": \"Point\", \"coordinates\": [-73.942458, 40.658893]}}, {\"Accepts EBT\": \"Yes\", \"Borough\": \"Bronx\", \"Days of Operation\": \"Wednesday\", \"Food Activities for Kids\": \"No\", \"Hours of Operations\": \"9 a.m. - 3 p.m.\", \"Latitude\": 40.865684, \"Location Point\": \"(40.865684, -73.883312)\", \"Longitude\": -73.883312, \"Market Name\": \"Morning Glory Market at the New York Botanical Gardens\", \"Open Year-Round\": \"No\", \"Season Dates\": \"06/12/2019-10/31/2019\", \"Stellar Cooking Demonstrations\": \"No\", \"Street Address\": \"2900 Southern Blvd\", \"type\": \"Feature\", \"geometry\": {\"type\": \"Point\", \"coordinates\": [-73.883312, 40.865684]}}, {\"Accepts EBT\": \"Yes\", \"Borough\": \"Manhattan\", \"Days of Operation\": \"Sunday\", \"Food Activities for Kids\": \"No\", \"Hours of Operations\": \"9:30 a.m. - 4 p.m.\", \"Latitude\": 40.730443, \"Location Point\": \"(40.730443, -73.980339)\", \"Longitude\": -73.980339, \"Market Name\": \"Stuyvesant Town Greenmarket\", \"Open Year-Round\": \"No\", \"Season Dates\": \"05/19/19-12/22/19\", \"Stellar Cooking Demonstrations\": \"No\", \"Street Address\": \"E 14th St Loop & Avenue A, in the Oval\", \"type\": \"Feature\", \"geometry\": {\"type\": \"Point\", \"coordinates\": [-73.980339, 40.730443]}}, {\"Accepts EBT\": \"Yes\", \"Borough\": \"Bronx\", \"Days of Operation\": \"Thursday\", \"Food Activities for Kids\": \"No\", \"Hours of Operations\": \"10 a.m. -4 p.m.\", \"Latitude\": 40.832330999999996, \"Location Point\": \"(40.832331, -73.91959)\", \"Longitude\": -73.91959, \"Market Name\": \"BronxWorks Farm Stand\", \"Open Year-Round\": \"No\", \"Season Dates\": \"07/08/2019-11/22/2019\", \"Stellar Cooking Demonstrations\": \"No\", \"Street Address\": \"1130 Grand Concourse\", \"type\": \"Feature\", \"geometry\": {\"type\": \"Point\", \"coordinates\": [-73.91959, 40.832330999999996]}}, {\"Accepts EBT\": \"Yes\", \"Borough\": \"Queens\", \"Days of Operation\": \"Wednesday\", \"Food Activities for Kids\": \"No\", \"Hours of Operations\": \"9 a.m. - 4 p.m.\", \"Latitude\": 40.73502504, \"Location Point\": \"(40.73502504, -73.81472491)\", \"Longitude\": -73.81472491, \"Market Name\": \"Pomonok Community-Run Farmers Market\", \"Open Year-Round\": \"No\", \"Season Dates\": \"7/10/2019 -\", \"Stellar Cooking Demonstrations\": \"No\", \"Street Address\": \"67-09 Kissena Blvd\", \"type\": \"Feature\", \"geometry\": {\"type\": \"Point\", \"coordinates\": [-73.81472491, 40.73502504]}}, {\"Accepts EBT\": \"Yes\", \"Borough\": \"Staten Island\", \"Days of Operation\": \"Saturday\", \"Food Activities for Kids\": \"No\", \"Hours of Operations\": \"9 a.m. - 1 p.m.\", \"Latitude\": 40.641586, \"Location Point\": \"(40.641586, -74.0779)\", \"Longitude\": -74.0779, \"Market Name\": \"St. George Greenmarket\", \"Open Year-Round\": \"Yes\", \"Season Dates\": \"Year-Round\", \"Stellar Cooking Demonstrations\": \"No\", \"Street Address\": \"Hyatt St & St Marks Pl\", \"type\": \"Feature\", \"geometry\": {\"type\": \"Point\", \"coordinates\": [-74.0779, 40.641586]}}, {\"Accepts EBT\": \"Yes\", \"Borough\": \"Manhattan\", \"Days of Operation\": \"Saturday\", \"Food Activities for Kids\": \"No\", \"Hours of Operations\": \"9 a.m. - 4 p.m.\", \"Latitude\": 40.745293, \"Location Point\": \"(40.745293, -73.998488)\", \"Longitude\": -73.998488, \"Market Name\": \"Chelsea's Down to Earth Farmers Market\", \"Open Year-Round\": \"No\", \"Season Dates\": \"5/11/19-12/21/19\", \"Stellar Cooking Demonstrations\": \"No\", \"Street Address\": \"W 23rd St bet 8th & 9th Aves\", \"type\": \"Feature\", \"geometry\": {\"type\": \"Point\", \"coordinates\": [-73.998488, 40.745293]}}, {\"Accepts EBT\": \"Yes\", \"Borough\": \"Manhattan\", \"Days of Operation\": \"Friday\", \"Food Activities for Kids\": \"No\", \"Hours of Operations\": \"8 a.m. - 4 p.m.\", \"Latitude\": 40.78712, \"Location Point\": \"(40.78712, -73.947923)\", \"Longitude\": -73.947923, \"Market Name\": \"Harvest Home Metropolitan Farmers Market\", \"Open Year-Round\": \"No\", \"Season Dates\": \"06/08/2019-11/16/2019\", \"Stellar Cooking Demonstrations\": \"No\", \"Street Address\": \"E 99th St & 3rd Ave\", \"type\": \"Feature\", \"geometry\": {\"type\": \"Point\", \"coordinates\": [-73.947923, 40.78712]}}, {\"Accepts EBT\": \"Yes\", \"Borough\": \"Queens\", \"Days of Operation\": \"Saturday\", \"Food Activities for Kids\": \"No\", \"Hours of Operations\": \"9 a.m. - 3 p.m.\", \"Latitude\": 40.594491999999995, \"Location Point\": \"(40.594492, -73.788077)\", \"Longitude\": -73.788077, \"Market Name\": \"Rockaway Youth Task Force Youth Market\", \"Open Year-Round\": \"No\", \"Season Dates\": \"07/06/2019-11/23/2019\", \"Stellar Cooking Demonstrations\": \"No\", \"Street Address\": \"310 Beach 58th St\", \"type\": \"Feature\", \"geometry\": {\"type\": \"Point\", \"coordinates\": [-73.788077, 40.594491999999995]}}, {\"Accepts EBT\": \"Yes\", \"Borough\": \"Brooklyn\", \"Days of Operation\": \"Wednesday & Friday\", \"Food Activities for Kids\": \"No\", \"Hours of Operations\": \"8 a.m. - 4 p.m.\", \"Latitude\": 40.58667, \"Location Point\": \"(40.58667, -73.96615)\", \"Longitude\": -73.96615, \"Market Name\": \"Harvest Home Coney Island Hospital Farmers Market\", \"Open Year-Round\": \"No\", \"Season Dates\": \"06/05/2019-11/20/2019\", \"Stellar Cooking Demonstrations\": \"No\", \"Street Address\": \"Ocean Pkwy bet Avenue Z & Shore Pkwy\", \"type\": \"Feature\", \"geometry\": {\"type\": \"Point\", \"coordinates\": [-73.96615, 40.58667]}}, {\"Accepts EBT\": \"Yes\", \"Borough\": \"Bronx\", \"Days of Operation\": \"Tuesday\", \"Food Activities for Kids\": \"No\", \"Hours of Operations\": \"8 a.m. - 3 p.m.\", \"Latitude\": 40.846486999999996, \"Location Point\": \"(40.846487, -73.894337)\", \"Longitude\": -73.894337, \"Market Name\": \"La Familia Verde Farmers Market\", \"Open Year-Round\": \"No\", \"Season Dates\": \"07/09/2019-11/12/2019\", \"Stellar Cooking Demonstrations\": \"Yes\", \"Street Address\": \"E Tremont Ave bet LaFontaine & Arthur Aves\", \"type\": \"Feature\", \"geometry\": {\"type\": \"Point\", \"coordinates\": [-73.894337, 40.846486999999996]}}, {\"Accepts EBT\": \"No\", \"Borough\": \"Brooklyn\", \"Days of Operation\": \"Wednesday\", \"Food Activities for Kids\": \"No\", \"Hours of Operations\": \"2 - 5:30 p.m.\", \"Latitude\": 40.656255, \"Location Point\": \"(40.656255, -73.936608)\", \"Longitude\": -73.93660799999999, \"Market Name\": \"Urban Oasis Farmers Market\", \"Open Year-Round\": \"No\", \"Season Dates\": \"06/26/2019-11/06/2019\", \"Stellar Cooking Demonstrations\": \"No\", \"Street Address\": \"681 Clarkson Ave\", \"type\": \"Feature\", \"geometry\": {\"type\": \"Point\", \"coordinates\": [-73.93660799999999, 40.656255]}}, {\"Accepts EBT\": \"Yes\", \"Borough\": \"Brooklyn\", \"Days of Operation\": \"Sunday\", \"Food Activities for Kids\": \"No\", \"Hours of Operations\": \"10 a.m. - 4 p.m.\", \"Latitude\": 40.699408, \"Location Point\": \"(40.699408, -73.935672)\", \"Longitude\": -73.935672, \"Market Name\": \"RB Rheingold Archway Farmers Market\", \"Open Year-Round\": \"No\", \"Season Dates\": \"05/19/2019-12/1/2019\", \"Stellar Cooking Demonstrations\": \"No\", \"Street Address\": \"553 Bushwick Ave\", \"type\": \"Feature\", \"geometry\": {\"type\": \"Point\", \"coordinates\": [-73.935672, 40.699408]}}, {\"Accepts EBT\": \"Yes\", \"Borough\": \"Manhattan\", \"Days of Operation\": \"Tuesday\", \"Food Activities for Kids\": \"No\", \"Hours of Operations\": \"8 a.m. - 6 p.m.\", \"Latitude\": 40.808972999999995, \"Location Point\": \"(40.808973, -73.948325)\", \"Longitude\": -73.948325, \"Market Name\": \"Harvest Home 125th Street Market\", \"Open Year-Round\": \"No\", \"Season Dates\": \"06/26/2019-11/27/2019\", \"Stellar Cooking Demonstrations\": \"No\", \"Street Address\": \"W 125th St & Adam Clayton Powell Jr Blvd\", \"type\": \"Feature\", \"geometry\": {\"type\": \"Point\", \"coordinates\": [-73.948325, 40.808972999999995]}}, {\"Accepts EBT\": \"Yes\", \"Borough\": \"Manhattan\", \"Days of Operation\": \"Monday,\\nWednesday,\\nFriday & Saturday\", \"Food Activities for Kids\": \"No\", \"Hours of Operations\": \"8 a.m. - 6 p.m.\", \"Latitude\": 40.737133, \"Location Point\": \"(40.737133, -73.990329)\", \"Longitude\": -73.990329, \"Market Name\": \"Union Square Greenmarket\", \"Open Year-Round\": \"Yes\", \"Season Dates\": \"Year-Round\", \"Stellar Cooking Demonstrations\": \"No\", \"Street Address\": \"E 17th St & Union Square W\", \"type\": \"Feature\", \"geometry\": {\"type\": \"Point\", \"coordinates\": [-73.990329, 40.737133]}}, {\"Accepts EBT\": \"Yes\", \"Borough\": \"Queens\", \"Days of Operation\": \"Friday\", \"Food Activities for Kids\": \"No\", \"Hours of Operations\": \"8:30 a.m. - 4 p.m.\", \"Latitude\": 40.703342, \"Location Point\": \"(40.703342, -73.799921)\", \"Longitude\": -73.799921, \"Market Name\": \"Jamaica's Down to Earth Farmers Market - Friday market\", \"Open Year-Round\": \"No\", \"Season Dates\": \"6/14/19-11/22/19\", \"Stellar Cooking Demonstrations\": \"No\", \"Street Address\": \"Parsons Blvd bet Jamaica & Archer Aves\", \"type\": \"Feature\", \"geometry\": {\"type\": \"Point\", \"coordinates\": [-73.799921, 40.703342]}}, {\"Accepts EBT\": \"Yes\", \"Borough\": \"Manhattan\", \"Days of Operation\": \"Wednesday & Saturday\", \"Food Activities for Kids\": \"No\", \"Hours of Operations\": \"9 a.m. - 5 p.m.\", \"Latitude\": 40.719322, \"Location Point\": \"(40.719322, -73.987817)\", \"Longitude\": -73.987817, \"Market Name\": \"Essex Crossing Farm Stand\", \"Open Year-Round\": \"No\", \"Season Dates\": \"07/08/2019-11/22/2019\", \"Stellar Cooking Demonstrations\": \"No\", \"Street Address\": \"115 Essex St\", \"type\": \"Feature\", \"geometry\": {\"type\": \"Point\", \"coordinates\": [-73.987817, 40.719322]}}, {\"Accepts EBT\": \"Yes\", \"Borough\": \"Manhattan\", \"Days of Operation\": \"Saturday\", \"Food Activities for Kids\": \"No\", \"Hours of Operations\": \"9 a.m. - 4 p.m.\", \"Latitude\": 40.801155, \"Location Point\": \"(40.801155, -73.959647)\", \"Longitude\": -73.959647, \"Market Name\": \"Morningside Park's Down to Earth Farmers Market\", \"Open Year-Round\": \"Yes\", \"Season Dates\": \"Year-Round (summer hours 05/11/19-11/30/19)\", \"Stellar Cooking Demonstrations\": \"No\", \"Street Address\": \"W 110th St & Manhattan Ave\", \"type\": \"Feature\", \"geometry\": {\"type\": \"Point\", \"coordinates\": [-73.959647, 40.801155]}}]}}, {\"mode\": \"vega-lite\"});\n",
       "</script>"
      ],
      "text/plain": [
       "alt.Chart(...)"
      ]
     },
     "execution_count": 267,
     "metadata": {},
     "output_type": "execute_result"
    }
   ],
   "source": [
    "alt.Chart(gdf).mark_bar().encode(\n",
    "    x='Borough:O',\n",
    "    y='count(Borough):Q',\n",
    "    color='Borough:N'\n",
    ").properties(width=300)"
   ]
  },
  {
   "cell_type": "markdown",
   "metadata": {},
   "source": [
    "# CENSUS DATASET"
   ]
  },
  {
   "cell_type": "code",
   "execution_count": 74,
   "metadata": {},
   "outputs": [],
   "source": [
    "#download census json data\n",
    "#load the census data from : https://data.beta.nyc/dataset/median-household-income-2010-census-tracts\n",
    "new_df = gpd.read_file('census_median_data.json')"
   ]
  },
  {
   "cell_type": "code",
   "execution_count": 75,
   "metadata": {},
   "outputs": [],
   "source": [
    "new_df2 = new_df"
   ]
  },
  {
   "cell_type": "code",
   "execution_count": 76,
   "metadata": {},
   "outputs": [],
   "source": [
    "new_df['State'] = new_df[new_df['State'] == 'New York']"
   ]
  },
  {
   "cell_type": "code",
   "execution_count": 63,
   "metadata": {},
   "outputs": [],
   "source": [
    "m = states.to_json()"
   ]
  },
  {
   "cell_type": "code",
   "execution_count": 67,
   "metadata": {},
   "outputs": [],
   "source": [
    "states.to_file('New_York_Data.geojson')"
   ]
  },
  {
   "cell_type": "code",
   "execution_count": 71,
   "metadata": {},
   "outputs": [
    {
     "data": {
      "text/plain": [
       "[False, True]"
      ]
     },
     "execution_count": 71,
     "metadata": {},
     "output_type": "execute_result"
    }
   ],
   "source": [
    "list(states['State'].unique())"
   ]
  },
  {
   "cell_type": "code",
   "execution_count": 72,
   "metadata": {},
   "outputs": [
    {
     "data": {
      "text/plain": [
       "geopandas.geodataframe.GeoDataFrame"
      ]
     },
     "execution_count": 72,
     "metadata": {},
     "output_type": "execute_result"
    }
   ],
   "source": [
    "type(states)"
   ]
  },
  {
   "cell_type": "code",
   "execution_count": 95,
   "metadata": {},
   "outputs": [],
   "source": [
    "#download census json data\n",
    "#https://data.beta.nyc/dataset/median-household-income-2010-census-tracts "
   ]
  },
  {
   "cell_type": "code",
   "execution_count": 79,
   "metadata": {},
   "outputs": [],
   "source": [
    "new_df3 = gpd.read_file('census_median_data.json')"
   ]
  },
  {
   "cell_type": "code",
   "execution_count": 89,
   "metadata": {},
   "outputs": [],
   "source": [
    "m = new_df3[new_df3['State'] == 'New York']"
   ]
  },
  {
   "cell_type": "code",
   "execution_count": 87,
   "metadata": {},
   "outputs": [
    {
     "data": {
      "text/plain": [
       "geopandas.geodataframe.GeoDataFrame"
      ]
     },
     "execution_count": 87,
     "metadata": {},
     "output_type": "execute_result"
    }
   ],
   "source": [
    "type(m)"
   ]
  },
  {
   "cell_type": "code",
   "execution_count": 91,
   "metadata": {},
   "outputs": [],
   "source": [
    "m.to_file('New_York_Data_Final.geojson')"
   ]
  },
  {
   "cell_type": "code",
   "execution_count": 93,
   "metadata": {},
   "outputs": [],
   "source": [
    "new_df4 = m"
   ]
  },
  {
   "cell_type": "code",
   "execution_count": 94,
   "metadata": {},
   "outputs": [
    {
     "data": {
      "text/plain": [
       "['New York']"
      ]
     },
     "execution_count": 94,
     "metadata": {},
     "output_type": "execute_result"
    }
   ],
   "source": [
    "list(new_df4['State'].unique())"
   ]
  },
  {
   "cell_type": "code",
   "execution_count": 99,
   "metadata": {},
   "outputs": [
    {
     "data": {
      "text/html": [
       "<div>\n",
       "<style scoped>\n",
       "    .dataframe tbody tr th:only-of-type {\n",
       "        vertical-align: middle;\n",
       "    }\n",
       "\n",
       "    .dataframe tbody tr th {\n",
       "        vertical-align: top;\n",
       "    }\n",
       "\n",
       "    .dataframe thead th {\n",
       "        text-align: right;\n",
       "    }\n",
       "</style>\n",
       "<table border=\"1\" class=\"dataframe\">\n",
       "  <thead>\n",
       "    <tr style=\"text-align: right;\">\n",
       "      <th></th>\n",
       "      <th>1542</th>\n",
       "      <th>1543</th>\n",
       "      <th>1544</th>\n",
       "      <th>1545</th>\n",
       "      <th>1546</th>\n",
       "    </tr>\n",
       "  </thead>\n",
       "  <tbody>\n",
       "    <tr>\n",
       "      <th>STATEFP10</th>\n",
       "      <td>36</td>\n",
       "      <td>36</td>\n",
       "      <td>36</td>\n",
       "      <td>36</td>\n",
       "      <td>36</td>\n",
       "    </tr>\n",
       "    <tr>\n",
       "      <th>COUNTYFP10</th>\n",
       "      <td>085</td>\n",
       "      <td>085</td>\n",
       "      <td>085</td>\n",
       "      <td>085</td>\n",
       "      <td>085</td>\n",
       "    </tr>\n",
       "    <tr>\n",
       "      <th>TRACTCE10</th>\n",
       "      <td>001700</td>\n",
       "      <td>000600</td>\n",
       "      <td>000700</td>\n",
       "      <td>001800</td>\n",
       "      <td>000300</td>\n",
       "    </tr>\n",
       "    <tr>\n",
       "      <th>GEOID10</th>\n",
       "      <td>36085001700</td>\n",
       "      <td>36085000600</td>\n",
       "      <td>36085000700</td>\n",
       "      <td>36085001800</td>\n",
       "      <td>36085000300</td>\n",
       "    </tr>\n",
       "    <tr>\n",
       "      <th>INTPTLAT10</th>\n",
       "      <td>+40.6343907</td>\n",
       "      <td>+40.6181527</td>\n",
       "      <td>+40.6473695</td>\n",
       "      <td>+40.6019091</td>\n",
       "      <td>+40.6446304</td>\n",
       "    </tr>\n",
       "    <tr>\n",
       "      <th>INTPTLON10</th>\n",
       "      <td>-074.0812548</td>\n",
       "      <td>-074.0626420</td>\n",
       "      <td>-074.0782043</td>\n",
       "      <td>-074.0537589</td>\n",
       "      <td>-074.0719887</td>\n",
       "    </tr>\n",
       "    <tr>\n",
       "      <th>State</th>\n",
       "      <td>New York</td>\n",
       "      <td>New York</td>\n",
       "      <td>New York</td>\n",
       "      <td>New York</td>\n",
       "      <td>New York</td>\n",
       "    </tr>\n",
       "    <tr>\n",
       "      <th>COUNTY</th>\n",
       "      <td>Richmond County</td>\n",
       "      <td>Richmond County</td>\n",
       "      <td>Richmond County</td>\n",
       "      <td>Richmond County</td>\n",
       "      <td>Richmond County</td>\n",
       "    </tr>\n",
       "    <tr>\n",
       "      <th>HH_COUNT</th>\n",
       "      <td>600</td>\n",
       "      <td>1236</td>\n",
       "      <td>2129</td>\n",
       "      <td>214</td>\n",
       "      <td>936</td>\n",
       "    </tr>\n",
       "    <tr>\n",
       "      <th>OHU_OWN</th>\n",
       "      <td>273</td>\n",
       "      <td>485</td>\n",
       "      <td>370</td>\n",
       "      <td>0</td>\n",
       "      <td>326</td>\n",
       "    </tr>\n",
       "    <tr>\n",
       "      <th>OHU_RENT</th>\n",
       "      <td>275</td>\n",
       "      <td>705</td>\n",
       "      <td>1810</td>\n",
       "      <td>310</td>\n",
       "      <td>558</td>\n",
       "    </tr>\n",
       "    <tr>\n",
       "      <th>PERC_OWN</th>\n",
       "      <td>0.498175</td>\n",
       "      <td>0.407563</td>\n",
       "      <td>0.169725</td>\n",
       "      <td>0</td>\n",
       "      <td>0.368778</td>\n",
       "    </tr>\n",
       "    <tr>\n",
       "      <th>PERC_RENT</th>\n",
       "      <td>0.50182481752</td>\n",
       "      <td>0.59243697479</td>\n",
       "      <td>0.83027522936</td>\n",
       "      <td>1</td>\n",
       "      <td>0.63122171946</td>\n",
       "    </tr>\n",
       "    <tr>\n",
       "      <th>MHI</th>\n",
       "      <td>54071</td>\n",
       "      <td>43712</td>\n",
       "      <td>39191</td>\n",
       "      <td>51346</td>\n",
       "      <td>46731</td>\n",
       "    </tr>\n",
       "    <tr>\n",
       "      <th>MED_VAL</th>\n",
       "      <td>466900</td>\n",
       "      <td>386100</td>\n",
       "      <td>168700</td>\n",
       "      <td>0</td>\n",
       "      <td>345800</td>\n",
       "    </tr>\n",
       "    <tr>\n",
       "      <th>HOUSINGCOS</th>\n",
       "      <td>17457.6</td>\n",
       "      <td>13943.7</td>\n",
       "      <td>10862</td>\n",
       "      <td>14832</td>\n",
       "      <td>15459.8</td>\n",
       "    </tr>\n",
       "    <tr>\n",
       "      <th>MCR_ANNUAL</th>\n",
       "      <td>10248</td>\n",
       "      <td>7620</td>\n",
       "      <td>10860</td>\n",
       "      <td>14832</td>\n",
       "      <td>11508</td>\n",
       "    </tr>\n",
       "    <tr>\n",
       "      <th>MSMOC_TOT_</th>\n",
       "      <td>24720</td>\n",
       "      <td>23136</td>\n",
       "      <td>10872</td>\n",
       "      <td>0</td>\n",
       "      <td>22224</td>\n",
       "    </tr>\n",
       "    <tr>\n",
       "      <th>TAX_RET</th>\n",
       "      <td>633.773</td>\n",
       "      <td>1585.03</td>\n",
       "      <td>2383.63</td>\n",
       "      <td>726.811</td>\n",
       "      <td>1643.69</td>\n",
       "    </tr>\n",
       "    <tr>\n",
       "      <th>Avg_TransC</th>\n",
       "      <td>7671.29</td>\n",
       "      <td>6201.61</td>\n",
       "      <td>5560.2</td>\n",
       "      <td>7284.68</td>\n",
       "      <td>6629.93</td>\n",
       "    </tr>\n",
       "    <tr>\n",
       "      <th>REtaxperow</th>\n",
       "      <td>2540.98</td>\n",
       "      <td>3438.34</td>\n",
       "      <td>6733.08</td>\n",
       "      <td>0</td>\n",
       "      <td>5269.62</td>\n",
       "    </tr>\n",
       "    <tr>\n",
       "      <th>DISP_INC</th>\n",
       "      <td>19545.9</td>\n",
       "      <td>17043.6</td>\n",
       "      <td>15691.2</td>\n",
       "      <td>21418.1</td>\n",
       "      <td>16887.4</td>\n",
       "    </tr>\n",
       "    <tr>\n",
       "      <th>energy_cos</th>\n",
       "      <td>1910.56</td>\n",
       "      <td>1665.74</td>\n",
       "      <td>1607.44</td>\n",
       "      <td>2126.52</td>\n",
       "      <td>1231.29</td>\n",
       "    </tr>\n",
       "    <tr>\n",
       "      <th>REtax_ACS</th>\n",
       "      <td>3140</td>\n",
       "      <td>2422</td>\n",
       "      <td>1182</td>\n",
       "      <td>0</td>\n",
       "      <td>2932</td>\n",
       "    </tr>\n",
       "    <tr>\n",
       "      <th>AVG_TTL</th>\n",
       "      <td>7485.7</td>\n",
       "      <td>4857.34</td>\n",
       "      <td>5470.15</td>\n",
       "      <td>5684.71</td>\n",
       "      <td>6522.56</td>\n",
       "    </tr>\n",
       "    <tr>\n",
       "      <th>LOCALNAME</th>\n",
       "      <td>Tompkinsville</td>\n",
       "      <td>Rosebank</td>\n",
       "      <td>New Brighton</td>\n",
       "      <td>Arrochar</td>\n",
       "      <td>New Brighton-St. George</td>\n",
       "    </tr>\n",
       "    <tr>\n",
       "      <th>Shape_Area</th>\n",
       "      <td>3.23136e-05</td>\n",
       "      <td>8.27489e-05</td>\n",
       "      <td>5.53676e-05</td>\n",
       "      <td>9.5979e-05</td>\n",
       "      <td>4.12355e-05</td>\n",
       "    </tr>\n",
       "    <tr>\n",
       "      <th>geometry</th>\n",
       "      <td>POLYGON Z ((-74.07813203130014 40.638171957624...</td>\n",
       "      <td>POLYGON Z ((-74.05639186601572 40.608265134278...</td>\n",
       "      <td>POLYGON Z ((-74.07387000293453 40.644860932444...</td>\n",
       "      <td>POLYGON Z ((-74.05977087614137 40.594186843891...</td>\n",
       "      <td>POLYGON Z ((-74.07273179486977 40.637958648328...</td>\n",
       "    </tr>\n",
       "  </tbody>\n",
       "</table>\n",
       "</div>"
      ],
      "text/plain": [
       "                                                         1542  \\\n",
       "STATEFP10                                                  36   \n",
       "COUNTYFP10                                                085   \n",
       "TRACTCE10                                              001700   \n",
       "GEOID10                                           36085001700   \n",
       "INTPTLAT10                                        +40.6343907   \n",
       "INTPTLON10                                       -074.0812548   \n",
       "State                                                New York   \n",
       "COUNTY                                        Richmond County   \n",
       "HH_COUNT                                                  600   \n",
       "OHU_OWN                                                   273   \n",
       "OHU_RENT                                                  275   \n",
       "PERC_OWN                                             0.498175   \n",
       "PERC_RENT                                       0.50182481752   \n",
       "MHI                                                     54071   \n",
       "MED_VAL                                                466900   \n",
       "HOUSINGCOS                                            17457.6   \n",
       "MCR_ANNUAL                                              10248   \n",
       "MSMOC_TOT_                                              24720   \n",
       "TAX_RET                                               633.773   \n",
       "Avg_TransC                                            7671.29   \n",
       "REtaxperow                                            2540.98   \n",
       "DISP_INC                                              19545.9   \n",
       "energy_cos                                            1910.56   \n",
       "REtax_ACS                                                3140   \n",
       "AVG_TTL                                                7485.7   \n",
       "LOCALNAME                                       Tompkinsville   \n",
       "Shape_Area                                        3.23136e-05   \n",
       "geometry    POLYGON Z ((-74.07813203130014 40.638171957624...   \n",
       "\n",
       "                                                         1543  \\\n",
       "STATEFP10                                                  36   \n",
       "COUNTYFP10                                                085   \n",
       "TRACTCE10                                              000600   \n",
       "GEOID10                                           36085000600   \n",
       "INTPTLAT10                                        +40.6181527   \n",
       "INTPTLON10                                       -074.0626420   \n",
       "State                                                New York   \n",
       "COUNTY                                        Richmond County   \n",
       "HH_COUNT                                                 1236   \n",
       "OHU_OWN                                                   485   \n",
       "OHU_RENT                                                  705   \n",
       "PERC_OWN                                             0.407563   \n",
       "PERC_RENT                                       0.59243697479   \n",
       "MHI                                                     43712   \n",
       "MED_VAL                                                386100   \n",
       "HOUSINGCOS                                            13943.7   \n",
       "MCR_ANNUAL                                               7620   \n",
       "MSMOC_TOT_                                              23136   \n",
       "TAX_RET                                               1585.03   \n",
       "Avg_TransC                                            6201.61   \n",
       "REtaxperow                                            3438.34   \n",
       "DISP_INC                                              17043.6   \n",
       "energy_cos                                            1665.74   \n",
       "REtax_ACS                                                2422   \n",
       "AVG_TTL                                               4857.34   \n",
       "LOCALNAME                                            Rosebank   \n",
       "Shape_Area                                        8.27489e-05   \n",
       "geometry    POLYGON Z ((-74.05639186601572 40.608265134278...   \n",
       "\n",
       "                                                         1544  \\\n",
       "STATEFP10                                                  36   \n",
       "COUNTYFP10                                                085   \n",
       "TRACTCE10                                              000700   \n",
       "GEOID10                                           36085000700   \n",
       "INTPTLAT10                                        +40.6473695   \n",
       "INTPTLON10                                       -074.0782043   \n",
       "State                                                New York   \n",
       "COUNTY                                        Richmond County   \n",
       "HH_COUNT                                                 2129   \n",
       "OHU_OWN                                                   370   \n",
       "OHU_RENT                                                 1810   \n",
       "PERC_OWN                                             0.169725   \n",
       "PERC_RENT                                       0.83027522936   \n",
       "MHI                                                     39191   \n",
       "MED_VAL                                                168700   \n",
       "HOUSINGCOS                                              10862   \n",
       "MCR_ANNUAL                                              10860   \n",
       "MSMOC_TOT_                                              10872   \n",
       "TAX_RET                                               2383.63   \n",
       "Avg_TransC                                             5560.2   \n",
       "REtaxperow                                            6733.08   \n",
       "DISP_INC                                              15691.2   \n",
       "energy_cos                                            1607.44   \n",
       "REtax_ACS                                                1182   \n",
       "AVG_TTL                                               5470.15   \n",
       "LOCALNAME                                        New Brighton   \n",
       "Shape_Area                                        5.53676e-05   \n",
       "geometry    POLYGON Z ((-74.07387000293453 40.644860932444...   \n",
       "\n",
       "                                                         1545  \\\n",
       "STATEFP10                                                  36   \n",
       "COUNTYFP10                                                085   \n",
       "TRACTCE10                                              001800   \n",
       "GEOID10                                           36085001800   \n",
       "INTPTLAT10                                        +40.6019091   \n",
       "INTPTLON10                                       -074.0537589   \n",
       "State                                                New York   \n",
       "COUNTY                                        Richmond County   \n",
       "HH_COUNT                                                  214   \n",
       "OHU_OWN                                                     0   \n",
       "OHU_RENT                                                  310   \n",
       "PERC_OWN                                                    0   \n",
       "PERC_RENT                                                   1   \n",
       "MHI                                                     51346   \n",
       "MED_VAL                                                     0   \n",
       "HOUSINGCOS                                              14832   \n",
       "MCR_ANNUAL                                              14832   \n",
       "MSMOC_TOT_                                                  0   \n",
       "TAX_RET                                               726.811   \n",
       "Avg_TransC                                            7284.68   \n",
       "REtaxperow                                                  0   \n",
       "DISP_INC                                              21418.1   \n",
       "energy_cos                                            2126.52   \n",
       "REtax_ACS                                                   0   \n",
       "AVG_TTL                                               5684.71   \n",
       "LOCALNAME                                            Arrochar   \n",
       "Shape_Area                                         9.5979e-05   \n",
       "geometry    POLYGON Z ((-74.05977087614137 40.594186843891...   \n",
       "\n",
       "                                                         1546  \n",
       "STATEFP10                                                  36  \n",
       "COUNTYFP10                                                085  \n",
       "TRACTCE10                                              000300  \n",
       "GEOID10                                           36085000300  \n",
       "INTPTLAT10                                        +40.6446304  \n",
       "INTPTLON10                                       -074.0719887  \n",
       "State                                                New York  \n",
       "COUNTY                                        Richmond County  \n",
       "HH_COUNT                                                  936  \n",
       "OHU_OWN                                                   326  \n",
       "OHU_RENT                                                  558  \n",
       "PERC_OWN                                             0.368778  \n",
       "PERC_RENT                                       0.63122171946  \n",
       "MHI                                                     46731  \n",
       "MED_VAL                                                345800  \n",
       "HOUSINGCOS                                            15459.8  \n",
       "MCR_ANNUAL                                              11508  \n",
       "MSMOC_TOT_                                              22224  \n",
       "TAX_RET                                               1643.69  \n",
       "Avg_TransC                                            6629.93  \n",
       "REtaxperow                                            5269.62  \n",
       "DISP_INC                                              16887.4  \n",
       "energy_cos                                            1231.29  \n",
       "REtax_ACS                                                2932  \n",
       "AVG_TTL                                               6522.56  \n",
       "LOCALNAME                             New Brighton-St. George  \n",
       "Shape_Area                                        4.12355e-05  \n",
       "geometry    POLYGON Z ((-74.07273179486977 40.637958648328...  "
      ]
     },
     "execution_count": 99,
     "metadata": {},
     "output_type": "execute_result"
    }
   ],
   "source": [
    "new_df4.head().T"
   ]
  },
  {
   "cell_type": "markdown",
   "metadata": {},
   "source": [
    "# Calculate the distance from a half year Farmers Market to Year-Round Farmers Market"
   ]
  },
  {
   "cell_type": "code",
   "execution_count": 378,
   "metadata": {},
   "outputs": [],
   "source": [
    "dis_test = pd.read_csv('Farmers_Market_Distance_Test.csv')"
   ]
  },
  {
   "cell_type": "code",
   "execution_count": 379,
   "metadata": {},
   "outputs": [],
   "source": [
    "# dist =(40.640825, -73.965301)\n",
    "# #for i in range(len(dis_test)):\n",
    "# origin = (40.702345, -73.942381)\n",
    "# dis_test['Cortelyou Greenmarket'] = geodesic(origin, dist).miles"
   ]
  },
  {
   "cell_type": "code",
   "execution_count": 385,
   "metadata": {},
   "outputs": [],
   "source": [
    "dist_Cor =(40.640825, -73.965301)\n",
    "dist_Gra = (40.702345, -73.942381)\n",
    "dist_For = (40.72188, -73.846383)\n",
    "#orgin = eval(dis_test['Location Point'][0])\n",
    "#orgin = tuple(orgin)\n",
    "#dis_test['Cortelyou Greenmarket'] = haversine(eval(dis_test['Location Point'][0]),dist, unit='mi')\n",
    "dis_test['Cortelyou Greenmarket'] = [haversine(eval(x), dist_Cor, unit='mi') for x in dis_test['Location Point']]\n",
    "dis_test['Graham Avenue Farmers Market'] = [haversine(eval(x), dist_Gra, unit='mi') for x in dis_test['Location Point']]\n",
    "dis_test['Forest Hill Greenmarket'] = [haversine(eval(x), dist_For, unit='mi') for x in dis_test['Location Point']]\n",
    "sameple_test = pd.DataFrame(dis_test[['Market Name','Borough','Cortelyou Greenmarket','Graham Avenue Farmers Market','Forest Hill Greenmarket']])"
   ]
  },
  {
   "cell_type": "code",
   "execution_count": 386,
   "metadata": {},
   "outputs": [
    {
     "data": {
      "text/html": [
       "<div>\n",
       "<style scoped>\n",
       "    .dataframe tbody tr th:only-of-type {\n",
       "        vertical-align: middle;\n",
       "    }\n",
       "\n",
       "    .dataframe tbody tr th {\n",
       "        vertical-align: top;\n",
       "    }\n",
       "\n",
       "    .dataframe thead th {\n",
       "        text-align: right;\n",
       "    }\n",
       "</style>\n",
       "<table border=\"1\" class=\"dataframe\">\n",
       "  <thead>\n",
       "    <tr style=\"text-align: right;\">\n",
       "      <th></th>\n",
       "      <th>Market Name</th>\n",
       "      <th>Borough</th>\n",
       "      <th>Cortelyou Greenmarket</th>\n",
       "      <th>Graham Avenue Farmers Market</th>\n",
       "      <th>Forest Hill Greenmarket</th>\n",
       "    </tr>\n",
       "  </thead>\n",
       "  <tbody>\n",
       "    <tr>\n",
       "      <th>0</th>\n",
       "      <td>Cypress Hills Youthmarket</td>\n",
       "      <td>Brooklyn</td>\n",
       "      <td>5.463846</td>\n",
       "      <td>3.710916</td>\n",
       "      <td>3.154707</td>\n",
       "    </tr>\n",
       "    <tr>\n",
       "      <th>1</th>\n",
       "      <td>East New York Farm Stand</td>\n",
       "      <td>Brooklyn</td>\n",
       "      <td>3.916487</td>\n",
       "      <td>3.780154</td>\n",
       "      <td>4.938318</td>\n",
       "    </tr>\n",
       "    <tr>\n",
       "      <th>2</th>\n",
       "      <td>Isabahlia Farm Stand Winter Market</td>\n",
       "      <td>Brooklyn</td>\n",
       "      <td>3.535439</td>\n",
       "      <td>3.731480</td>\n",
       "      <td>5.282857</td>\n",
       "    </tr>\n",
       "    <tr>\n",
       "      <th>3</th>\n",
       "      <td>Project EATS Rockaway Farmstand</td>\n",
       "      <td>Brooklyn</td>\n",
       "      <td>3.334645</td>\n",
       "      <td>3.197360</td>\n",
       "      <td>5.203167</td>\n",
       "    </tr>\n",
       "    <tr>\n",
       "      <th>4</th>\n",
       "      <td>Marcus Garvey Apartments Farm Stand</td>\n",
       "      <td>Brooklyn</td>\n",
       "      <td>3.310223</td>\n",
       "      <td>3.107461</td>\n",
       "      <td>5.193467</td>\n",
       "    </tr>\n",
       "    <tr>\n",
       "      <th>5</th>\n",
       "      <td>Brownsville Pitkin Youthmarket</td>\n",
       "      <td>Brooklyn</td>\n",
       "      <td>3.349384</td>\n",
       "      <td>2.739609</td>\n",
       "      <td>5.059463</td>\n",
       "    </tr>\n",
       "    <tr>\n",
       "      <th>6</th>\n",
       "      <td>Saratoga Farm Stand</td>\n",
       "      <td>Brooklyn</td>\n",
       "      <td>3.676797</td>\n",
       "      <td>2.154413</td>\n",
       "      <td>4.711036</td>\n",
       "    </tr>\n",
       "    <tr>\n",
       "      <th>7</th>\n",
       "      <td>RB Pop Up Farm Stand</td>\n",
       "      <td>Brooklyn</td>\n",
       "      <td>4.623490</td>\n",
       "      <td>2.124984</td>\n",
       "      <td>3.796190</td>\n",
       "    </tr>\n",
       "    <tr>\n",
       "      <th>8</th>\n",
       "      <td>Urban Oasis Farmers Market</td>\n",
       "      <td>Brooklyn</td>\n",
       "      <td>1.843662</td>\n",
       "      <td>3.198850</td>\n",
       "      <td>6.550078</td>\n",
       "    </tr>\n",
       "    <tr>\n",
       "      <th>9</th>\n",
       "      <td>Harvest Home Coney Island Hospital Farmers Market</td>\n",
       "      <td>Brooklyn</td>\n",
       "      <td>3.742019</td>\n",
       "      <td>8.088939</td>\n",
       "      <td>11.255569</td>\n",
       "    </tr>\n",
       "  </tbody>\n",
       "</table>\n",
       "</div>"
      ],
      "text/plain": [
       "                                         Market Name   Borough  \\\n",
       "0                          Cypress Hills Youthmarket  Brooklyn   \n",
       "1                           East New York Farm Stand  Brooklyn   \n",
       "2                 Isabahlia Farm Stand Winter Market  Brooklyn   \n",
       "3                    Project EATS Rockaway Farmstand  Brooklyn   \n",
       "4                Marcus Garvey Apartments Farm Stand  Brooklyn   \n",
       "5                     Brownsville Pitkin Youthmarket  Brooklyn   \n",
       "6                                Saratoga Farm Stand  Brooklyn   \n",
       "7                               RB Pop Up Farm Stand  Brooklyn   \n",
       "8                         Urban Oasis Farmers Market  Brooklyn   \n",
       "9  Harvest Home Coney Island Hospital Farmers Market  Brooklyn   \n",
       "\n",
       "   Cortelyou Greenmarket  Graham Avenue Farmers Market  \\\n",
       "0               5.463846                      3.710916   \n",
       "1               3.916487                      3.780154   \n",
       "2               3.535439                      3.731480   \n",
       "3               3.334645                      3.197360   \n",
       "4               3.310223                      3.107461   \n",
       "5               3.349384                      2.739609   \n",
       "6               3.676797                      2.154413   \n",
       "7               4.623490                      2.124984   \n",
       "8               1.843662                      3.198850   \n",
       "9               3.742019                      8.088939   \n",
       "\n",
       "   Forest Hill Greenmarket  \n",
       "0                 3.154707  \n",
       "1                 4.938318  \n",
       "2                 5.282857  \n",
       "3                 5.203167  \n",
       "4                 5.193467  \n",
       "5                 5.059463  \n",
       "6                 4.711036  \n",
       "7                 3.796190  \n",
       "8                 6.550078  \n",
       "9                11.255569  "
      ]
     },
     "execution_count": 386,
     "metadata": {},
     "output_type": "execute_result"
    }
   ],
   "source": [
    "sameple_test.head(10)"
   ]
  },
  {
   "cell_type": "code",
   "execution_count": null,
   "metadata": {},
   "outputs": [],
   "source": []
  }
 ],
 "metadata": {
  "kernelspec": {
   "display_name": "Python [conda env:geopandas] *",
   "language": "python",
   "name": "conda-env-geopandas-py"
  },
  "language_info": {
   "codemirror_mode": {
    "name": "ipython",
    "version": 3
   },
   "file_extension": ".py",
   "mimetype": "text/x-python",
   "name": "python",
   "nbconvert_exporter": "python",
   "pygments_lexer": "ipython3",
   "version": "3.7.7"
  }
 },
 "nbformat": 4,
 "nbformat_minor": 4
}
